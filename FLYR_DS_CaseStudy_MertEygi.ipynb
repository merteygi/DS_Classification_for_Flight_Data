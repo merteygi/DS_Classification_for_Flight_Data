{
 "cells": [
  {
   "cell_type": "markdown",
   "id": "1602f335",
   "metadata": {},
   "source": [
    "# 1. Import Libraries"
   ]
  },
  {
   "cell_type": "code",
   "execution_count": 1,
   "id": "b4f05297",
   "metadata": {},
   "outputs": [],
   "source": [
    "# import libraries\n",
    "import numpy as np\n",
    "import pandas as pd\n",
    "from matplotlib import pyplot as plt\n",
    "import seaborn as sns\n",
    "import os\n",
    "from sklearn import cluster as cl\n",
    "from sklearn import model_selection as mdl\n",
    "from sklearn import decomposition as dec\n",
    "from sklearn import manifold as man\n",
    "from sklearn import compose as com\n",
    "from sklearn.base import TransformerMixin\n",
    "from sklearn import linear_model as lin\n",
    "from sklearn.linear_model import SGDClassifier\n",
    "from sklearn.preprocessing import StandardScaler\n",
    "from sklearn import svm\n",
    "from sklearn import impute as imp\n",
    "from sklearn.experimental import enable_iterative_imputer\n",
    "from sklearn import tree\n",
    "from sklearn import ensemble as ens\n",
    "from sklearn.base import TransformerMixin\n",
    "from sklearn.compose import ColumnTransformer\n",
    "from sklearn import preprocessing as pre\n",
    "from sklearn import metrics as met\n",
    "from sklearn.pipeline import Pipeline, FeatureUnion\n",
    "from sklearn.ensemble import RandomForestClassifier\n",
    "from sklearn.model_selection import train_test_split, GridSearchCV\n",
    "import datetime\n",
    "from xgboost import XGBClassifier\n",
    "from lightgbm import LGBMClassifier\n",
    "import warnings\n",
    "warnings.filterwarnings(\"ignore\")\n",
    "#pd.set_option('display.max_rows', 300)\n",
    "\n",
    "sns.set_theme(style=\"white\", palette=None)"
   ]
  },
  {
   "cell_type": "code",
   "execution_count": 2,
   "id": "f96c43e5",
   "metadata": {},
   "outputs": [],
   "source": [
    "# a function to check a dataframe quickly in terms of dtypes, total counts,# of unique values, # of NA values.\n",
    "def df_check(df):\n",
    "    print(f'shape: {df.shape}')\n",
    "    l=[]\n",
    "    columns=df.columns\n",
    "    for col in columns:\n",
    "        dtypes = df[col].dtypes\n",
    "        n_count = df[col].count()\n",
    "        nunique = df[col].nunique()\n",
    "        sum_null = df[col].isnull().sum()\n",
    "        l.append([col,dtypes,n_count,nunique,sum_null])\n",
    "        \n",
    "    df_check=pd.DataFrame(l,columns=['column','dtypes','count','nunique','sum_null'])\n",
    "    df_check['null_ratio'] = (df_check['sum_null'] / df.shape[0]*100).round(1)\n",
    "\n",
    "    return df_check"
   ]
  },
  {
   "cell_type": "markdown",
   "id": "9719ef36",
   "metadata": {},
   "source": [
    "# 2. Load Datasets"
   ]
  },
  {
   "cell_type": "code",
   "execution_count": 3,
   "id": "7ca02b49",
   "metadata": {
    "scrolled": true
   },
   "outputs": [
    {
     "name": "stdout",
     "output_type": "stream",
     "text": [
      "Train CSV File Names:\n",
      "['2018_07.csv', '2018_08.csv', '2018_09.csv', '2018_10.csv', '2018_11.csv', '2018_12.csv', '2019_01.csv', '2019_02.csv', '2019_03.csv', '2019_04.csv', '2019_05.csv', '2019_06.csv']\n",
      "\n",
      "Test CSV File Names:\n",
      "['2019_07.csv', '2019_08.csv']\n",
      "\n"
     ]
    }
   ],
   "source": [
    "## Since we have multiple csv files,firstly get their names \n",
    "\n",
    "all_file_names = os.listdir()\n",
    "train_csv_names = []\n",
    "test_csv_names = []\n",
    "\n",
    "for f in all_file_names:\n",
    "    if '.csv' in f:\n",
    "        if f in ['2019_07.csv','2019_08.csv']:\n",
    "            test_csv_names.append(f)\n",
    "        else:\n",
    "            train_csv_names.append(f)\n",
    "\n",
    "print(f'Train CSV File Names:\\n{train_csv_names}\\n')\n",
    "print(f'Test CSV File Names:\\n{test_csv_names}\\n')"
   ]
  },
  {
   "cell_type": "code",
   "execution_count": 4,
   "id": "3e7810dd",
   "metadata": {},
   "outputs": [],
   "source": [
    "def combine_csv(csv_files):\n",
    "    all_df_data = []\n",
    "\n",
    "    for csv_file in csv_files:\n",
    "        temp_df = pd.read_csv(csv_file, index_col=None, header=0)\n",
    "        print(f\"{csv_file} has read\\tits shape: {temp_df.shape}\\tmin_date: {temp_df['FL_DATE'].min()}, max_date: {temp_df['FL_DATE'].max()}\")\n",
    "        all_df_data.append(temp_df)\n",
    "\n",
    "    df = pd.concat(all_df_data, axis=0, ignore_index=True)\n",
    "    return df"
   ]
  },
  {
   "cell_type": "markdown",
   "id": "1c60810e",
   "metadata": {},
   "source": [
    "## 2.1 Load `Train` Data"
   ]
  },
  {
   "cell_type": "code",
   "execution_count": 5,
   "id": "ca2c6849",
   "metadata": {
    "scrolled": true
   },
   "outputs": [
    {
     "name": "stdout",
     "output_type": "stream",
     "text": [
      "2018_07.csv has read\tits shape: (645299, 23)\tmin_date: 2018-07-01, max_date: 2018-07-31\n",
      "2018_08.csv has read\tits shape: (644673, 23)\tmin_date: 2018-08-01, max_date: 2018-08-31\n",
      "2018_09.csv has read\tits shape: (585749, 23)\tmin_date: 2018-09-01, max_date: 2018-09-30\n",
      "2018_10.csv has read\tits shape: (616101, 23)\tmin_date: 2018-10-01, max_date: 2018-10-31\n",
      "2018_11.csv has read\tits shape: (586178, 23)\tmin_date: 2018-11-01, max_date: 2018-11-30\n",
      "2018_12.csv has read\tits shape: (593842, 23)\tmin_date: 2018-12-01, max_date: 2018-12-31\n",
      "2019_01.csv has read\tits shape: (583985, 23)\tmin_date: 2019-01-01, max_date: 2019-01-31\n",
      "2019_02.csv has read\tits shape: (533175, 23)\tmin_date: 2019-02-01, max_date: 2019-02-28\n",
      "2019_03.csv has read\tits shape: (632074, 23)\tmin_date: 2019-03-01, max_date: 2019-03-31\n",
      "2019_04.csv has read\tits shape: (612023, 23)\tmin_date: 2019-04-01, max_date: 2019-04-30\n",
      "2019_05.csv has read\tits shape: (636390, 23)\tmin_date: 2019-05-01, max_date: 2019-05-31\n",
      "2019_06.csv has read\tits shape: (636691, 23)\tmin_date: 2019-06-01, max_date: 2019-06-30\n"
     ]
    }
   ],
   "source": [
    "df_train = combine_csv(train_csv_names)"
   ]
  },
  {
   "cell_type": "markdown",
   "id": "44c7ee65",
   "metadata": {},
   "source": [
    "### 2.1.1. Quick Check the `Train` Datasets"
   ]
  },
  {
   "cell_type": "code",
   "execution_count": 6,
   "id": "fa42451b",
   "metadata": {
    "scrolled": false
   },
   "outputs": [
    {
     "name": "stdout",
     "output_type": "stream",
     "text": [
      "shape: (7306180, 23)\n"
     ]
    },
    {
     "data": {
      "text/html": [
       "<div>\n",
       "<style scoped>\n",
       "    .dataframe tbody tr th:only-of-type {\n",
       "        vertical-align: middle;\n",
       "    }\n",
       "\n",
       "    .dataframe tbody tr th {\n",
       "        vertical-align: top;\n",
       "    }\n",
       "\n",
       "    .dataframe thead th {\n",
       "        text-align: right;\n",
       "    }\n",
       "</style>\n",
       "<table border=\"1\" class=\"dataframe\">\n",
       "  <thead>\n",
       "    <tr style=\"text-align: right;\">\n",
       "      <th></th>\n",
       "      <th>column</th>\n",
       "      <th>dtypes</th>\n",
       "      <th>count</th>\n",
       "      <th>nunique</th>\n",
       "      <th>sum_null</th>\n",
       "      <th>null_ratio</th>\n",
       "    </tr>\n",
       "  </thead>\n",
       "  <tbody>\n",
       "    <tr>\n",
       "      <th>0</th>\n",
       "      <td>FL_DATE</td>\n",
       "      <td>object</td>\n",
       "      <td>7306180</td>\n",
       "      <td>365</td>\n",
       "      <td>0</td>\n",
       "      <td>0.0</td>\n",
       "    </tr>\n",
       "    <tr>\n",
       "      <th>1</th>\n",
       "      <td>OP_UNIQUE_CARRIER</td>\n",
       "      <td>object</td>\n",
       "      <td>7306180</td>\n",
       "      <td>17</td>\n",
       "      <td>0</td>\n",
       "      <td>0.0</td>\n",
       "    </tr>\n",
       "    <tr>\n",
       "      <th>2</th>\n",
       "      <td>OP_CARRIER_FL_NUM</td>\n",
       "      <td>int64</td>\n",
       "      <td>7306180</td>\n",
       "      <td>7147</td>\n",
       "      <td>0</td>\n",
       "      <td>0.0</td>\n",
       "    </tr>\n",
       "    <tr>\n",
       "      <th>3</th>\n",
       "      <td>ORIGIN</td>\n",
       "      <td>object</td>\n",
       "      <td>7306180</td>\n",
       "      <td>359</td>\n",
       "      <td>0</td>\n",
       "      <td>0.0</td>\n",
       "    </tr>\n",
       "    <tr>\n",
       "      <th>4</th>\n",
       "      <td>DEST</td>\n",
       "      <td>object</td>\n",
       "      <td>7306180</td>\n",
       "      <td>359</td>\n",
       "      <td>0</td>\n",
       "      <td>0.0</td>\n",
       "    </tr>\n",
       "    <tr>\n",
       "      <th>5</th>\n",
       "      <td>CRS_DEP_TIME</td>\n",
       "      <td>int64</td>\n",
       "      <td>7306180</td>\n",
       "      <td>1362</td>\n",
       "      <td>0</td>\n",
       "      <td>0.0</td>\n",
       "    </tr>\n",
       "    <tr>\n",
       "      <th>6</th>\n",
       "      <td>DEP_TIME</td>\n",
       "      <td>float64</td>\n",
       "      <td>7176554</td>\n",
       "      <td>1440</td>\n",
       "      <td>129626</td>\n",
       "      <td>1.8</td>\n",
       "    </tr>\n",
       "    <tr>\n",
       "      <th>7</th>\n",
       "      <td>DEP_DELAY</td>\n",
       "      <td>float64</td>\n",
       "      <td>7175251</td>\n",
       "      <td>1541</td>\n",
       "      <td>130929</td>\n",
       "      <td>1.8</td>\n",
       "    </tr>\n",
       "    <tr>\n",
       "      <th>8</th>\n",
       "      <td>CRS_ARR_TIME</td>\n",
       "      <td>int64</td>\n",
       "      <td>7306180</td>\n",
       "      <td>1429</td>\n",
       "      <td>0</td>\n",
       "      <td>0.0</td>\n",
       "    </tr>\n",
       "    <tr>\n",
       "      <th>9</th>\n",
       "      <td>ARR_TIME</td>\n",
       "      <td>float64</td>\n",
       "      <td>7169046</td>\n",
       "      <td>1440</td>\n",
       "      <td>137134</td>\n",
       "      <td>1.9</td>\n",
       "    </tr>\n",
       "    <tr>\n",
       "      <th>10</th>\n",
       "      <td>ARR_DELAY</td>\n",
       "      <td>float64</td>\n",
       "      <td>7151800</td>\n",
       "      <td>1563</td>\n",
       "      <td>154380</td>\n",
       "      <td>2.1</td>\n",
       "    </tr>\n",
       "    <tr>\n",
       "      <th>11</th>\n",
       "      <td>CANCELLED</td>\n",
       "      <td>float64</td>\n",
       "      <td>7306180</td>\n",
       "      <td>2</td>\n",
       "      <td>0</td>\n",
       "      <td>0.0</td>\n",
       "    </tr>\n",
       "    <tr>\n",
       "      <th>12</th>\n",
       "      <td>CANCELLATION_CODE</td>\n",
       "      <td>object</td>\n",
       "      <td>134331</td>\n",
       "      <td>4</td>\n",
       "      <td>7171849</td>\n",
       "      <td>98.2</td>\n",
       "    </tr>\n",
       "    <tr>\n",
       "      <th>13</th>\n",
       "      <td>CRS_ELAPSED_TIME</td>\n",
       "      <td>float64</td>\n",
       "      <td>7306046</td>\n",
       "      <td>581</td>\n",
       "      <td>134</td>\n",
       "      <td>0.0</td>\n",
       "    </tr>\n",
       "    <tr>\n",
       "      <th>14</th>\n",
       "      <td>ACTUAL_ELAPSED_TIME</td>\n",
       "      <td>float64</td>\n",
       "      <td>7152508</td>\n",
       "      <td>713</td>\n",
       "      <td>153672</td>\n",
       "      <td>2.1</td>\n",
       "    </tr>\n",
       "    <tr>\n",
       "      <th>15</th>\n",
       "      <td>AIR_TIME</td>\n",
       "      <td>float64</td>\n",
       "      <td>7152508</td>\n",
       "      <td>681</td>\n",
       "      <td>153672</td>\n",
       "      <td>2.1</td>\n",
       "    </tr>\n",
       "    <tr>\n",
       "      <th>16</th>\n",
       "      <td>DISTANCE</td>\n",
       "      <td>float64</td>\n",
       "      <td>7306180</td>\n",
       "      <td>1581</td>\n",
       "      <td>0</td>\n",
       "      <td>0.0</td>\n",
       "    </tr>\n",
       "    <tr>\n",
       "      <th>17</th>\n",
       "      <td>CARRIER_DELAY</td>\n",
       "      <td>float64</td>\n",
       "      <td>1421747</td>\n",
       "      <td>1371</td>\n",
       "      <td>5884433</td>\n",
       "      <td>80.5</td>\n",
       "    </tr>\n",
       "    <tr>\n",
       "      <th>18</th>\n",
       "      <td>WEATHER_DELAY</td>\n",
       "      <td>float64</td>\n",
       "      <td>1421747</td>\n",
       "      <td>1076</td>\n",
       "      <td>5884433</td>\n",
       "      <td>80.5</td>\n",
       "    </tr>\n",
       "    <tr>\n",
       "      <th>19</th>\n",
       "      <td>NAS_DELAY</td>\n",
       "      <td>float64</td>\n",
       "      <td>1421747</td>\n",
       "      <td>1003</td>\n",
       "      <td>5884433</td>\n",
       "      <td>80.5</td>\n",
       "    </tr>\n",
       "    <tr>\n",
       "      <th>20</th>\n",
       "      <td>SECURITY_DELAY</td>\n",
       "      <td>float64</td>\n",
       "      <td>1421747</td>\n",
       "      <td>250</td>\n",
       "      <td>5884433</td>\n",
       "      <td>80.5</td>\n",
       "    </tr>\n",
       "    <tr>\n",
       "      <th>21</th>\n",
       "      <td>LATE_AIRCRAFT_DELAY</td>\n",
       "      <td>float64</td>\n",
       "      <td>1421747</td>\n",
       "      <td>1019</td>\n",
       "      <td>5884433</td>\n",
       "      <td>80.5</td>\n",
       "    </tr>\n",
       "    <tr>\n",
       "      <th>22</th>\n",
       "      <td>Unnamed: 22</td>\n",
       "      <td>float64</td>\n",
       "      <td>0</td>\n",
       "      <td>0</td>\n",
       "      <td>7306180</td>\n",
       "      <td>100.0</td>\n",
       "    </tr>\n",
       "  </tbody>\n",
       "</table>\n",
       "</div>"
      ],
      "text/plain": [
       "                 column   dtypes    count  nunique  sum_null  null_ratio\n",
       "0               FL_DATE   object  7306180      365         0         0.0\n",
       "1     OP_UNIQUE_CARRIER   object  7306180       17         0         0.0\n",
       "2     OP_CARRIER_FL_NUM    int64  7306180     7147         0         0.0\n",
       "3                ORIGIN   object  7306180      359         0         0.0\n",
       "4                  DEST   object  7306180      359         0         0.0\n",
       "5          CRS_DEP_TIME    int64  7306180     1362         0         0.0\n",
       "6              DEP_TIME  float64  7176554     1440    129626         1.8\n",
       "7             DEP_DELAY  float64  7175251     1541    130929         1.8\n",
       "8          CRS_ARR_TIME    int64  7306180     1429         0         0.0\n",
       "9              ARR_TIME  float64  7169046     1440    137134         1.9\n",
       "10            ARR_DELAY  float64  7151800     1563    154380         2.1\n",
       "11            CANCELLED  float64  7306180        2         0         0.0\n",
       "12    CANCELLATION_CODE   object   134331        4   7171849        98.2\n",
       "13     CRS_ELAPSED_TIME  float64  7306046      581       134         0.0\n",
       "14  ACTUAL_ELAPSED_TIME  float64  7152508      713    153672         2.1\n",
       "15             AIR_TIME  float64  7152508      681    153672         2.1\n",
       "16             DISTANCE  float64  7306180     1581         0         0.0\n",
       "17        CARRIER_DELAY  float64  1421747     1371   5884433        80.5\n",
       "18        WEATHER_DELAY  float64  1421747     1076   5884433        80.5\n",
       "19            NAS_DELAY  float64  1421747     1003   5884433        80.5\n",
       "20       SECURITY_DELAY  float64  1421747      250   5884433        80.5\n",
       "21  LATE_AIRCRAFT_DELAY  float64  1421747     1019   5884433        80.5\n",
       "22          Unnamed: 22  float64        0        0   7306180       100.0"
      ]
     },
     "execution_count": 6,
     "metadata": {},
     "output_type": "execute_result"
    }
   ],
   "source": [
    "# Quick Check for the Train dataframe\n",
    "df_check(df_train)"
   ]
  },
  {
   "cell_type": "code",
   "execution_count": 7,
   "id": "4641f2c5",
   "metadata": {
    "scrolled": false
   },
   "outputs": [
    {
     "data": {
      "text/html": [
       "<div>\n",
       "<style scoped>\n",
       "    .dataframe tbody tr th:only-of-type {\n",
       "        vertical-align: middle;\n",
       "    }\n",
       "\n",
       "    .dataframe tbody tr th {\n",
       "        vertical-align: top;\n",
       "    }\n",
       "\n",
       "    .dataframe thead th {\n",
       "        text-align: right;\n",
       "    }\n",
       "</style>\n",
       "<table border=\"1\" class=\"dataframe\">\n",
       "  <thead>\n",
       "    <tr style=\"text-align: right;\">\n",
       "      <th></th>\n",
       "      <th>FL_DATE</th>\n",
       "      <th>OP_UNIQUE_CARRIER</th>\n",
       "      <th>OP_CARRIER_FL_NUM</th>\n",
       "      <th>ORIGIN</th>\n",
       "      <th>DEST</th>\n",
       "      <th>CRS_DEP_TIME</th>\n",
       "      <th>DEP_TIME</th>\n",
       "      <th>DEP_DELAY</th>\n",
       "      <th>CRS_ARR_TIME</th>\n",
       "      <th>ARR_TIME</th>\n",
       "      <th>...</th>\n",
       "      <th>CRS_ELAPSED_TIME</th>\n",
       "      <th>ACTUAL_ELAPSED_TIME</th>\n",
       "      <th>AIR_TIME</th>\n",
       "      <th>DISTANCE</th>\n",
       "      <th>CARRIER_DELAY</th>\n",
       "      <th>WEATHER_DELAY</th>\n",
       "      <th>NAS_DELAY</th>\n",
       "      <th>SECURITY_DELAY</th>\n",
       "      <th>LATE_AIRCRAFT_DELAY</th>\n",
       "      <th>Unnamed: 22</th>\n",
       "    </tr>\n",
       "  </thead>\n",
       "  <tbody>\n",
       "    <tr>\n",
       "      <th>0</th>\n",
       "      <td>2018-07-01</td>\n",
       "      <td>YV</td>\n",
       "      <td>6007</td>\n",
       "      <td>IAH</td>\n",
       "      <td>BTR</td>\n",
       "      <td>1945</td>\n",
       "      <td>1939.0</td>\n",
       "      <td>-6.0</td>\n",
       "      <td>2049</td>\n",
       "      <td>2043.0</td>\n",
       "      <td>...</td>\n",
       "      <td>64.0</td>\n",
       "      <td>64.0</td>\n",
       "      <td>44.0</td>\n",
       "      <td>253.0</td>\n",
       "      <td>NaN</td>\n",
       "      <td>NaN</td>\n",
       "      <td>NaN</td>\n",
       "      <td>NaN</td>\n",
       "      <td>NaN</td>\n",
       "      <td>NaN</td>\n",
       "    </tr>\n",
       "    <tr>\n",
       "      <th>1</th>\n",
       "      <td>2018-07-01</td>\n",
       "      <td>YV</td>\n",
       "      <td>6012</td>\n",
       "      <td>ATL</td>\n",
       "      <td>IAD</td>\n",
       "      <td>1951</td>\n",
       "      <td>1944.0</td>\n",
       "      <td>-7.0</td>\n",
       "      <td>2146</td>\n",
       "      <td>2125.0</td>\n",
       "      <td>...</td>\n",
       "      <td>115.0</td>\n",
       "      <td>101.0</td>\n",
       "      <td>81.0</td>\n",
       "      <td>534.0</td>\n",
       "      <td>NaN</td>\n",
       "      <td>NaN</td>\n",
       "      <td>NaN</td>\n",
       "      <td>NaN</td>\n",
       "      <td>NaN</td>\n",
       "      <td>NaN</td>\n",
       "    </tr>\n",
       "    <tr>\n",
       "      <th>2</th>\n",
       "      <td>2018-07-01</td>\n",
       "      <td>YV</td>\n",
       "      <td>6012</td>\n",
       "      <td>IAD</td>\n",
       "      <td>ATL</td>\n",
       "      <td>1705</td>\n",
       "      <td>1705.0</td>\n",
       "      <td>0.0</td>\n",
       "      <td>1915</td>\n",
       "      <td>1901.0</td>\n",
       "      <td>...</td>\n",
       "      <td>130.0</td>\n",
       "      <td>116.0</td>\n",
       "      <td>82.0</td>\n",
       "      <td>534.0</td>\n",
       "      <td>NaN</td>\n",
       "      <td>NaN</td>\n",
       "      <td>NaN</td>\n",
       "      <td>NaN</td>\n",
       "      <td>NaN</td>\n",
       "      <td>NaN</td>\n",
       "    </tr>\n",
       "  </tbody>\n",
       "</table>\n",
       "<p>3 rows × 23 columns</p>\n",
       "</div>"
      ],
      "text/plain": [
       "      FL_DATE OP_UNIQUE_CARRIER  OP_CARRIER_FL_NUM ORIGIN DEST  CRS_DEP_TIME  \\\n",
       "0  2018-07-01                YV               6007    IAH  BTR          1945   \n",
       "1  2018-07-01                YV               6012    ATL  IAD          1951   \n",
       "2  2018-07-01                YV               6012    IAD  ATL          1705   \n",
       "\n",
       "   DEP_TIME  DEP_DELAY  CRS_ARR_TIME  ARR_TIME  ...  CRS_ELAPSED_TIME  \\\n",
       "0    1939.0       -6.0          2049    2043.0  ...              64.0   \n",
       "1    1944.0       -7.0          2146    2125.0  ...             115.0   \n",
       "2    1705.0        0.0          1915    1901.0  ...             130.0   \n",
       "\n",
       "   ACTUAL_ELAPSED_TIME AIR_TIME  DISTANCE  CARRIER_DELAY  WEATHER_DELAY  \\\n",
       "0                 64.0     44.0     253.0            NaN            NaN   \n",
       "1                101.0     81.0     534.0            NaN            NaN   \n",
       "2                116.0     82.0     534.0            NaN            NaN   \n",
       "\n",
       "   NAS_DELAY  SECURITY_DELAY  LATE_AIRCRAFT_DELAY  Unnamed: 22  \n",
       "0        NaN             NaN                  NaN          NaN  \n",
       "1        NaN             NaN                  NaN          NaN  \n",
       "2        NaN             NaN                  NaN          NaN  \n",
       "\n",
       "[3 rows x 23 columns]"
      ]
     },
     "execution_count": 7,
     "metadata": {},
     "output_type": "execute_result"
    }
   ],
   "source": [
    "df_train.head(3)"
   ]
  },
  {
   "cell_type": "code",
   "execution_count": 8,
   "id": "4822a71f",
   "metadata": {
    "scrolled": true
   },
   "outputs": [
    {
     "data": {
      "text/html": [
       "<div>\n",
       "<style scoped>\n",
       "    .dataframe tbody tr th:only-of-type {\n",
       "        vertical-align: middle;\n",
       "    }\n",
       "\n",
       "    .dataframe tbody tr th {\n",
       "        vertical-align: top;\n",
       "    }\n",
       "\n",
       "    .dataframe thead th {\n",
       "        text-align: right;\n",
       "    }\n",
       "</style>\n",
       "<table border=\"1\" class=\"dataframe\">\n",
       "  <thead>\n",
       "    <tr style=\"text-align: right;\">\n",
       "      <th></th>\n",
       "      <th>FL_DATE</th>\n",
       "      <th>OP_UNIQUE_CARRIER</th>\n",
       "      <th>OP_CARRIER_FL_NUM</th>\n",
       "      <th>ORIGIN</th>\n",
       "      <th>DEST</th>\n",
       "      <th>CRS_DEP_TIME</th>\n",
       "      <th>DEP_TIME</th>\n",
       "      <th>DEP_DELAY</th>\n",
       "      <th>CRS_ARR_TIME</th>\n",
       "      <th>ARR_TIME</th>\n",
       "      <th>...</th>\n",
       "      <th>CRS_ELAPSED_TIME</th>\n",
       "      <th>ACTUAL_ELAPSED_TIME</th>\n",
       "      <th>AIR_TIME</th>\n",
       "      <th>DISTANCE</th>\n",
       "      <th>CARRIER_DELAY</th>\n",
       "      <th>WEATHER_DELAY</th>\n",
       "      <th>NAS_DELAY</th>\n",
       "      <th>SECURITY_DELAY</th>\n",
       "      <th>LATE_AIRCRAFT_DELAY</th>\n",
       "      <th>Unnamed: 22</th>\n",
       "    </tr>\n",
       "  </thead>\n",
       "  <tbody>\n",
       "    <tr>\n",
       "      <th>7306177</th>\n",
       "      <td>2019-06-30</td>\n",
       "      <td>G4</td>\n",
       "      <td>358</td>\n",
       "      <td>LAX</td>\n",
       "      <td>OKC</td>\n",
       "      <td>630</td>\n",
       "      <td>624.0</td>\n",
       "      <td>-6.0</td>\n",
       "      <td>1120</td>\n",
       "      <td>1114.0</td>\n",
       "      <td>...</td>\n",
       "      <td>170.0</td>\n",
       "      <td>170.0</td>\n",
       "      <td>149.0</td>\n",
       "      <td>1187.0</td>\n",
       "      <td>NaN</td>\n",
       "      <td>NaN</td>\n",
       "      <td>NaN</td>\n",
       "      <td>NaN</td>\n",
       "      <td>NaN</td>\n",
       "      <td>NaN</td>\n",
       "    </tr>\n",
       "    <tr>\n",
       "      <th>7306178</th>\n",
       "      <td>2019-06-30</td>\n",
       "      <td>G4</td>\n",
       "      <td>1411</td>\n",
       "      <td>AUS</td>\n",
       "      <td>PIT</td>\n",
       "      <td>1940</td>\n",
       "      <td>1936.0</td>\n",
       "      <td>-4.0</td>\n",
       "      <td>2331</td>\n",
       "      <td>2328.0</td>\n",
       "      <td>...</td>\n",
       "      <td>171.0</td>\n",
       "      <td>172.0</td>\n",
       "      <td>153.0</td>\n",
       "      <td>1210.0</td>\n",
       "      <td>NaN</td>\n",
       "      <td>NaN</td>\n",
       "      <td>NaN</td>\n",
       "      <td>NaN</td>\n",
       "      <td>NaN</td>\n",
       "      <td>NaN</td>\n",
       "    </tr>\n",
       "    <tr>\n",
       "      <th>7306179</th>\n",
       "      <td>2019-06-30</td>\n",
       "      <td>G4</td>\n",
       "      <td>1376</td>\n",
       "      <td>SAV</td>\n",
       "      <td>CVG</td>\n",
       "      <td>1832</td>\n",
       "      <td>1839.0</td>\n",
       "      <td>7.0</td>\n",
       "      <td>2009</td>\n",
       "      <td>2019.0</td>\n",
       "      <td>...</td>\n",
       "      <td>97.0</td>\n",
       "      <td>100.0</td>\n",
       "      <td>70.0</td>\n",
       "      <td>515.0</td>\n",
       "      <td>NaN</td>\n",
       "      <td>NaN</td>\n",
       "      <td>NaN</td>\n",
       "      <td>NaN</td>\n",
       "      <td>NaN</td>\n",
       "      <td>NaN</td>\n",
       "    </tr>\n",
       "  </tbody>\n",
       "</table>\n",
       "<p>3 rows × 23 columns</p>\n",
       "</div>"
      ],
      "text/plain": [
       "            FL_DATE OP_UNIQUE_CARRIER  OP_CARRIER_FL_NUM ORIGIN DEST  \\\n",
       "7306177  2019-06-30                G4                358    LAX  OKC   \n",
       "7306178  2019-06-30                G4               1411    AUS  PIT   \n",
       "7306179  2019-06-30                G4               1376    SAV  CVG   \n",
       "\n",
       "         CRS_DEP_TIME  DEP_TIME  DEP_DELAY  CRS_ARR_TIME  ARR_TIME  ...  \\\n",
       "7306177           630     624.0       -6.0          1120    1114.0  ...   \n",
       "7306178          1940    1936.0       -4.0          2331    2328.0  ...   \n",
       "7306179          1832    1839.0        7.0          2009    2019.0  ...   \n",
       "\n",
       "         CRS_ELAPSED_TIME  ACTUAL_ELAPSED_TIME AIR_TIME  DISTANCE  \\\n",
       "7306177             170.0                170.0    149.0    1187.0   \n",
       "7306178             171.0                172.0    153.0    1210.0   \n",
       "7306179              97.0                100.0     70.0     515.0   \n",
       "\n",
       "         CARRIER_DELAY  WEATHER_DELAY  NAS_DELAY  SECURITY_DELAY  \\\n",
       "7306177            NaN            NaN        NaN             NaN   \n",
       "7306178            NaN            NaN        NaN             NaN   \n",
       "7306179            NaN            NaN        NaN             NaN   \n",
       "\n",
       "         LATE_AIRCRAFT_DELAY  Unnamed: 22  \n",
       "7306177                  NaN          NaN  \n",
       "7306178                  NaN          NaN  \n",
       "7306179                  NaN          NaN  \n",
       "\n",
       "[3 rows x 23 columns]"
      ]
     },
     "execution_count": 8,
     "metadata": {},
     "output_type": "execute_result"
    }
   ],
   "source": [
    "df_train.tail(3)"
   ]
  },
  {
   "cell_type": "code",
   "execution_count": 9,
   "id": "c616d056",
   "metadata": {},
   "outputs": [
    {
     "data": {
      "text/plain": [
       "(7306180, 22)"
      ]
     },
     "execution_count": 9,
     "metadata": {},
     "output_type": "execute_result"
    }
   ],
   "source": [
    "# drop the unnecessary and completely empty column called 'Unnamed: 22'\n",
    "df_train.drop(columns=['Unnamed: 22'],inplace=True)\n",
    "df_train.shape"
   ]
  },
  {
   "cell_type": "code",
   "execution_count": 10,
   "id": "767d23e1",
   "metadata": {
    "scrolled": true
   },
   "outputs": [
    {
     "data": {
      "text/plain": [
       "0"
      ]
     },
     "execution_count": 10,
     "metadata": {},
     "output_type": "execute_result"
    }
   ],
   "source": [
    "# Check is there any duplicate rows\n",
    "df_train.duplicated().sum()"
   ]
  },
  {
   "cell_type": "markdown",
   "id": "c5a8738b",
   "metadata": {},
   "source": [
    "There aren't any duplicated rows."
   ]
  },
  {
   "cell_type": "code",
   "execution_count": 11,
   "id": "3e3e1789",
   "metadata": {
    "scrolled": false
   },
   "outputs": [],
   "source": [
    "#Change the FL_DATE object type to datetime64\n",
    "df_train = df_train.astype({'FL_DATE' : 'datetime64[ns]'})"
   ]
  },
  {
   "cell_type": "code",
   "execution_count": 12,
   "id": "9bfce20f",
   "metadata": {},
   "outputs": [
    {
     "name": "stdout",
     "output_type": "stream",
     "text": [
      "<class 'pandas.core.frame.DataFrame'>\n",
      "RangeIndex: 7306180 entries, 0 to 7306179\n",
      "Data columns (total 22 columns):\n",
      " #   Column               Dtype         \n",
      "---  ------               -----         \n",
      " 0   FL_DATE              datetime64[ns]\n",
      " 1   OP_UNIQUE_CARRIER    object        \n",
      " 2   OP_CARRIER_FL_NUM    int64         \n",
      " 3   ORIGIN               object        \n",
      " 4   DEST                 object        \n",
      " 5   CRS_DEP_TIME         int64         \n",
      " 6   DEP_TIME             float64       \n",
      " 7   DEP_DELAY            float64       \n",
      " 8   CRS_ARR_TIME         int64         \n",
      " 9   ARR_TIME             float64       \n",
      " 10  ARR_DELAY            float64       \n",
      " 11  CANCELLED            float64       \n",
      " 12  CANCELLATION_CODE    object        \n",
      " 13  CRS_ELAPSED_TIME     float64       \n",
      " 14  ACTUAL_ELAPSED_TIME  float64       \n",
      " 15  AIR_TIME             float64       \n",
      " 16  DISTANCE             float64       \n",
      " 17  CARRIER_DELAY        float64       \n",
      " 18  WEATHER_DELAY        float64       \n",
      " 19  NAS_DELAY            float64       \n",
      " 20  SECURITY_DELAY       float64       \n",
      " 21  LATE_AIRCRAFT_DELAY  float64       \n",
      "dtypes: datetime64[ns](1), float64(14), int64(3), object(4)\n",
      "memory usage: 1.2+ GB\n"
     ]
    }
   ],
   "source": [
    "df_train.info()"
   ]
  },
  {
   "cell_type": "code",
   "execution_count": 13,
   "id": "8792d216",
   "metadata": {},
   "outputs": [],
   "source": [
    "# Let's Store original datasets before going further\n",
    "df_train_org = df_train.copy()"
   ]
  },
  {
   "cell_type": "markdown",
   "id": "b590324d",
   "metadata": {},
   "source": [
    "## 2.2 Load `Test` Data"
   ]
  },
  {
   "cell_type": "code",
   "execution_count": 14,
   "id": "96a83477",
   "metadata": {
    "scrolled": true
   },
   "outputs": [
    {
     "name": "stdout",
     "output_type": "stream",
     "text": [
      "2019_07.csv has read\tits shape: (659029, 23)\tmin_date: 2019-07-01, max_date: 2019-07-31\n",
      "2019_08.csv has read\tits shape: (658461, 23)\tmin_date: 2019-08-01, max_date: 2019-08-31\n"
     ]
    }
   ],
   "source": [
    "df_test = combine_csv(test_csv_names)"
   ]
  },
  {
   "cell_type": "markdown",
   "id": "edc1e6ae",
   "metadata": {},
   "source": [
    "### 2.2.1. Quick Check the `Test` Datasets"
   ]
  },
  {
   "cell_type": "code",
   "execution_count": 15,
   "id": "d01615a7",
   "metadata": {},
   "outputs": [
    {
     "name": "stdout",
     "output_type": "stream",
     "text": [
      "shape: (1317490, 23)\n"
     ]
    },
    {
     "data": {
      "text/html": [
       "<div>\n",
       "<style scoped>\n",
       "    .dataframe tbody tr th:only-of-type {\n",
       "        vertical-align: middle;\n",
       "    }\n",
       "\n",
       "    .dataframe tbody tr th {\n",
       "        vertical-align: top;\n",
       "    }\n",
       "\n",
       "    .dataframe thead th {\n",
       "        text-align: right;\n",
       "    }\n",
       "</style>\n",
       "<table border=\"1\" class=\"dataframe\">\n",
       "  <thead>\n",
       "    <tr style=\"text-align: right;\">\n",
       "      <th></th>\n",
       "      <th>column</th>\n",
       "      <th>dtypes</th>\n",
       "      <th>count</th>\n",
       "      <th>nunique</th>\n",
       "      <th>sum_null</th>\n",
       "      <th>null_ratio</th>\n",
       "    </tr>\n",
       "  </thead>\n",
       "  <tbody>\n",
       "    <tr>\n",
       "      <th>0</th>\n",
       "      <td>FL_DATE</td>\n",
       "      <td>object</td>\n",
       "      <td>1317490</td>\n",
       "      <td>62</td>\n",
       "      <td>0</td>\n",
       "      <td>0.0</td>\n",
       "    </tr>\n",
       "    <tr>\n",
       "      <th>1</th>\n",
       "      <td>OP_UNIQUE_CARRIER</td>\n",
       "      <td>object</td>\n",
       "      <td>1317490</td>\n",
       "      <td>17</td>\n",
       "      <td>0</td>\n",
       "      <td>0.0</td>\n",
       "    </tr>\n",
       "    <tr>\n",
       "      <th>2</th>\n",
       "      <td>OP_CARRIER_FL_NUM</td>\n",
       "      <td>int64</td>\n",
       "      <td>1317490</td>\n",
       "      <td>6556</td>\n",
       "      <td>0</td>\n",
       "      <td>0.0</td>\n",
       "    </tr>\n",
       "    <tr>\n",
       "      <th>3</th>\n",
       "      <td>ORIGIN</td>\n",
       "      <td>object</td>\n",
       "      <td>1317490</td>\n",
       "      <td>356</td>\n",
       "      <td>0</td>\n",
       "      <td>0.0</td>\n",
       "    </tr>\n",
       "    <tr>\n",
       "      <th>4</th>\n",
       "      <td>DEST</td>\n",
       "      <td>object</td>\n",
       "      <td>1317490</td>\n",
       "      <td>356</td>\n",
       "      <td>0</td>\n",
       "      <td>0.0</td>\n",
       "    </tr>\n",
       "    <tr>\n",
       "      <th>5</th>\n",
       "      <td>CRS_DEP_TIME</td>\n",
       "      <td>int64</td>\n",
       "      <td>1317490</td>\n",
       "      <td>1233</td>\n",
       "      <td>0</td>\n",
       "      <td>0.0</td>\n",
       "    </tr>\n",
       "    <tr>\n",
       "      <th>6</th>\n",
       "      <td>DEP_TIME</td>\n",
       "      <td>float64</td>\n",
       "      <td>1294597</td>\n",
       "      <td>1439</td>\n",
       "      <td>22893</td>\n",
       "      <td>1.7</td>\n",
       "    </tr>\n",
       "    <tr>\n",
       "      <th>7</th>\n",
       "      <td>DEP_DELAY</td>\n",
       "      <td>float64</td>\n",
       "      <td>1294594</td>\n",
       "      <td>1277</td>\n",
       "      <td>22896</td>\n",
       "      <td>1.7</td>\n",
       "    </tr>\n",
       "    <tr>\n",
       "      <th>8</th>\n",
       "      <td>CRS_ARR_TIME</td>\n",
       "      <td>int64</td>\n",
       "      <td>1317490</td>\n",
       "      <td>1322</td>\n",
       "      <td>0</td>\n",
       "      <td>0.0</td>\n",
       "    </tr>\n",
       "    <tr>\n",
       "      <th>9</th>\n",
       "      <td>ARR_TIME</td>\n",
       "      <td>float64</td>\n",
       "      <td>1292940</td>\n",
       "      <td>1440</td>\n",
       "      <td>24550</td>\n",
       "      <td>1.9</td>\n",
       "    </tr>\n",
       "    <tr>\n",
       "      <th>10</th>\n",
       "      <td>ARR_DELAY</td>\n",
       "      <td>float64</td>\n",
       "      <td>1289132</td>\n",
       "      <td>1311</td>\n",
       "      <td>28358</td>\n",
       "      <td>2.2</td>\n",
       "    </tr>\n",
       "    <tr>\n",
       "      <th>11</th>\n",
       "      <td>CANCELLED</td>\n",
       "      <td>float64</td>\n",
       "      <td>1317490</td>\n",
       "      <td>2</td>\n",
       "      <td>0</td>\n",
       "      <td>0.0</td>\n",
       "    </tr>\n",
       "    <tr>\n",
       "      <th>12</th>\n",
       "      <td>CANCELLATION_CODE</td>\n",
       "      <td>object</td>\n",
       "      <td>24226</td>\n",
       "      <td>4</td>\n",
       "      <td>1293264</td>\n",
       "      <td>98.2</td>\n",
       "    </tr>\n",
       "    <tr>\n",
       "      <th>13</th>\n",
       "      <td>CRS_ELAPSED_TIME</td>\n",
       "      <td>float64</td>\n",
       "      <td>1317489</td>\n",
       "      <td>462</td>\n",
       "      <td>1</td>\n",
       "      <td>0.0</td>\n",
       "    </tr>\n",
       "    <tr>\n",
       "      <th>14</th>\n",
       "      <td>ACTUAL_ELAPSED_TIME</td>\n",
       "      <td>float64</td>\n",
       "      <td>1289132</td>\n",
       "      <td>673</td>\n",
       "      <td>28358</td>\n",
       "      <td>2.2</td>\n",
       "    </tr>\n",
       "    <tr>\n",
       "      <th>15</th>\n",
       "      <td>AIR_TIME</td>\n",
       "      <td>float64</td>\n",
       "      <td>1289132</td>\n",
       "      <td>646</td>\n",
       "      <td>28358</td>\n",
       "      <td>2.2</td>\n",
       "    </tr>\n",
       "    <tr>\n",
       "      <th>16</th>\n",
       "      <td>DISTANCE</td>\n",
       "      <td>float64</td>\n",
       "      <td>1317490</td>\n",
       "      <td>1480</td>\n",
       "      <td>0</td>\n",
       "      <td>0.0</td>\n",
       "    </tr>\n",
       "    <tr>\n",
       "      <th>17</th>\n",
       "      <td>CARRIER_DELAY</td>\n",
       "      <td>float64</td>\n",
       "      <td>268908</td>\n",
       "      <td>1079</td>\n",
       "      <td>1048582</td>\n",
       "      <td>79.6</td>\n",
       "    </tr>\n",
       "    <tr>\n",
       "      <th>18</th>\n",
       "      <td>WEATHER_DELAY</td>\n",
       "      <td>float64</td>\n",
       "      <td>268908</td>\n",
       "      <td>608</td>\n",
       "      <td>1048582</td>\n",
       "      <td>79.6</td>\n",
       "    </tr>\n",
       "    <tr>\n",
       "      <th>19</th>\n",
       "      <td>NAS_DELAY</td>\n",
       "      <td>float64</td>\n",
       "      <td>268908</td>\n",
       "      <td>711</td>\n",
       "      <td>1048582</td>\n",
       "      <td>79.6</td>\n",
       "    </tr>\n",
       "    <tr>\n",
       "      <th>20</th>\n",
       "      <td>SECURITY_DELAY</td>\n",
       "      <td>float64</td>\n",
       "      <td>268908</td>\n",
       "      <td>107</td>\n",
       "      <td>1048582</td>\n",
       "      <td>79.6</td>\n",
       "    </tr>\n",
       "    <tr>\n",
       "      <th>21</th>\n",
       "      <td>LATE_AIRCRAFT_DELAY</td>\n",
       "      <td>float64</td>\n",
       "      <td>268908</td>\n",
       "      <td>687</td>\n",
       "      <td>1048582</td>\n",
       "      <td>79.6</td>\n",
       "    </tr>\n",
       "    <tr>\n",
       "      <th>22</th>\n",
       "      <td>Unnamed: 22</td>\n",
       "      <td>float64</td>\n",
       "      <td>0</td>\n",
       "      <td>0</td>\n",
       "      <td>1317490</td>\n",
       "      <td>100.0</td>\n",
       "    </tr>\n",
       "  </tbody>\n",
       "</table>\n",
       "</div>"
      ],
      "text/plain": [
       "                 column   dtypes    count  nunique  sum_null  null_ratio\n",
       "0               FL_DATE   object  1317490       62         0         0.0\n",
       "1     OP_UNIQUE_CARRIER   object  1317490       17         0         0.0\n",
       "2     OP_CARRIER_FL_NUM    int64  1317490     6556         0         0.0\n",
       "3                ORIGIN   object  1317490      356         0         0.0\n",
       "4                  DEST   object  1317490      356         0         0.0\n",
       "5          CRS_DEP_TIME    int64  1317490     1233         0         0.0\n",
       "6              DEP_TIME  float64  1294597     1439     22893         1.7\n",
       "7             DEP_DELAY  float64  1294594     1277     22896         1.7\n",
       "8          CRS_ARR_TIME    int64  1317490     1322         0         0.0\n",
       "9              ARR_TIME  float64  1292940     1440     24550         1.9\n",
       "10            ARR_DELAY  float64  1289132     1311     28358         2.2\n",
       "11            CANCELLED  float64  1317490        2         0         0.0\n",
       "12    CANCELLATION_CODE   object    24226        4   1293264        98.2\n",
       "13     CRS_ELAPSED_TIME  float64  1317489      462         1         0.0\n",
       "14  ACTUAL_ELAPSED_TIME  float64  1289132      673     28358         2.2\n",
       "15             AIR_TIME  float64  1289132      646     28358         2.2\n",
       "16             DISTANCE  float64  1317490     1480         0         0.0\n",
       "17        CARRIER_DELAY  float64   268908     1079   1048582        79.6\n",
       "18        WEATHER_DELAY  float64   268908      608   1048582        79.6\n",
       "19            NAS_DELAY  float64   268908      711   1048582        79.6\n",
       "20       SECURITY_DELAY  float64   268908      107   1048582        79.6\n",
       "21  LATE_AIRCRAFT_DELAY  float64   268908      687   1048582        79.6\n",
       "22          Unnamed: 22  float64        0        0   1317490       100.0"
      ]
     },
     "execution_count": 15,
     "metadata": {},
     "output_type": "execute_result"
    }
   ],
   "source": [
    "# Quick Check for the test dataframe\n",
    "df_check(df_test)"
   ]
  },
  {
   "cell_type": "code",
   "execution_count": 16,
   "id": "ff45bc1e",
   "metadata": {
    "scrolled": true
   },
   "outputs": [
    {
     "data": {
      "text/html": [
       "<div>\n",
       "<style scoped>\n",
       "    .dataframe tbody tr th:only-of-type {\n",
       "        vertical-align: middle;\n",
       "    }\n",
       "\n",
       "    .dataframe tbody tr th {\n",
       "        vertical-align: top;\n",
       "    }\n",
       "\n",
       "    .dataframe thead th {\n",
       "        text-align: right;\n",
       "    }\n",
       "</style>\n",
       "<table border=\"1\" class=\"dataframe\">\n",
       "  <thead>\n",
       "    <tr style=\"text-align: right;\">\n",
       "      <th></th>\n",
       "      <th>FL_DATE</th>\n",
       "      <th>OP_UNIQUE_CARRIER</th>\n",
       "      <th>OP_CARRIER_FL_NUM</th>\n",
       "      <th>ORIGIN</th>\n",
       "      <th>DEST</th>\n",
       "      <th>CRS_DEP_TIME</th>\n",
       "      <th>DEP_TIME</th>\n",
       "      <th>DEP_DELAY</th>\n",
       "      <th>CRS_ARR_TIME</th>\n",
       "      <th>ARR_TIME</th>\n",
       "      <th>...</th>\n",
       "      <th>CRS_ELAPSED_TIME</th>\n",
       "      <th>ACTUAL_ELAPSED_TIME</th>\n",
       "      <th>AIR_TIME</th>\n",
       "      <th>DISTANCE</th>\n",
       "      <th>CARRIER_DELAY</th>\n",
       "      <th>WEATHER_DELAY</th>\n",
       "      <th>NAS_DELAY</th>\n",
       "      <th>SECURITY_DELAY</th>\n",
       "      <th>LATE_AIRCRAFT_DELAY</th>\n",
       "      <th>Unnamed: 22</th>\n",
       "    </tr>\n",
       "  </thead>\n",
       "  <tbody>\n",
       "    <tr>\n",
       "      <th>0</th>\n",
       "      <td>2019-07-01</td>\n",
       "      <td>NK</td>\n",
       "      <td>227</td>\n",
       "      <td>BOS</td>\n",
       "      <td>MCO</td>\n",
       "      <td>820</td>\n",
       "      <td>813.0</td>\n",
       "      <td>-7.0</td>\n",
       "      <td>1137</td>\n",
       "      <td>1115.0</td>\n",
       "      <td>...</td>\n",
       "      <td>197.0</td>\n",
       "      <td>182.0</td>\n",
       "      <td>144.0</td>\n",
       "      <td>1121.0</td>\n",
       "      <td>NaN</td>\n",
       "      <td>NaN</td>\n",
       "      <td>NaN</td>\n",
       "      <td>NaN</td>\n",
       "      <td>NaN</td>\n",
       "      <td>NaN</td>\n",
       "    </tr>\n",
       "    <tr>\n",
       "      <th>1</th>\n",
       "      <td>2019-07-01</td>\n",
       "      <td>NK</td>\n",
       "      <td>230</td>\n",
       "      <td>FLL</td>\n",
       "      <td>ATL</td>\n",
       "      <td>2237</td>\n",
       "      <td>2235.0</td>\n",
       "      <td>-2.0</td>\n",
       "      <td>32</td>\n",
       "      <td>17.0</td>\n",
       "      <td>...</td>\n",
       "      <td>115.0</td>\n",
       "      <td>102.0</td>\n",
       "      <td>79.0</td>\n",
       "      <td>581.0</td>\n",
       "      <td>NaN</td>\n",
       "      <td>NaN</td>\n",
       "      <td>NaN</td>\n",
       "      <td>NaN</td>\n",
       "      <td>NaN</td>\n",
       "      <td>NaN</td>\n",
       "    </tr>\n",
       "    <tr>\n",
       "      <th>2</th>\n",
       "      <td>2019-07-01</td>\n",
       "      <td>NK</td>\n",
       "      <td>231</td>\n",
       "      <td>ATL</td>\n",
       "      <td>FLL</td>\n",
       "      <td>600</td>\n",
       "      <td>558.0</td>\n",
       "      <td>-2.0</td>\n",
       "      <td>756</td>\n",
       "      <td>747.0</td>\n",
       "      <td>...</td>\n",
       "      <td>116.0</td>\n",
       "      <td>109.0</td>\n",
       "      <td>89.0</td>\n",
       "      <td>581.0</td>\n",
       "      <td>NaN</td>\n",
       "      <td>NaN</td>\n",
       "      <td>NaN</td>\n",
       "      <td>NaN</td>\n",
       "      <td>NaN</td>\n",
       "      <td>NaN</td>\n",
       "    </tr>\n",
       "  </tbody>\n",
       "</table>\n",
       "<p>3 rows × 23 columns</p>\n",
       "</div>"
      ],
      "text/plain": [
       "      FL_DATE OP_UNIQUE_CARRIER  OP_CARRIER_FL_NUM ORIGIN DEST  CRS_DEP_TIME  \\\n",
       "0  2019-07-01                NK                227    BOS  MCO           820   \n",
       "1  2019-07-01                NK                230    FLL  ATL          2237   \n",
       "2  2019-07-01                NK                231    ATL  FLL           600   \n",
       "\n",
       "   DEP_TIME  DEP_DELAY  CRS_ARR_TIME  ARR_TIME  ...  CRS_ELAPSED_TIME  \\\n",
       "0     813.0       -7.0          1137    1115.0  ...             197.0   \n",
       "1    2235.0       -2.0            32      17.0  ...             115.0   \n",
       "2     558.0       -2.0           756     747.0  ...             116.0   \n",
       "\n",
       "   ACTUAL_ELAPSED_TIME AIR_TIME  DISTANCE  CARRIER_DELAY  WEATHER_DELAY  \\\n",
       "0                182.0    144.0    1121.0            NaN            NaN   \n",
       "1                102.0     79.0     581.0            NaN            NaN   \n",
       "2                109.0     89.0     581.0            NaN            NaN   \n",
       "\n",
       "   NAS_DELAY  SECURITY_DELAY  LATE_AIRCRAFT_DELAY  Unnamed: 22  \n",
       "0        NaN             NaN                  NaN          NaN  \n",
       "1        NaN             NaN                  NaN          NaN  \n",
       "2        NaN             NaN                  NaN          NaN  \n",
       "\n",
       "[3 rows x 23 columns]"
      ]
     },
     "execution_count": 16,
     "metadata": {},
     "output_type": "execute_result"
    }
   ],
   "source": [
    "df_test.head(3)"
   ]
  },
  {
   "cell_type": "code",
   "execution_count": 17,
   "id": "cef1f163",
   "metadata": {},
   "outputs": [
    {
     "data": {
      "text/html": [
       "<div>\n",
       "<style scoped>\n",
       "    .dataframe tbody tr th:only-of-type {\n",
       "        vertical-align: middle;\n",
       "    }\n",
       "\n",
       "    .dataframe tbody tr th {\n",
       "        vertical-align: top;\n",
       "    }\n",
       "\n",
       "    .dataframe thead th {\n",
       "        text-align: right;\n",
       "    }\n",
       "</style>\n",
       "<table border=\"1\" class=\"dataframe\">\n",
       "  <thead>\n",
       "    <tr style=\"text-align: right;\">\n",
       "      <th></th>\n",
       "      <th>FL_DATE</th>\n",
       "      <th>OP_UNIQUE_CARRIER</th>\n",
       "      <th>OP_CARRIER_FL_NUM</th>\n",
       "      <th>ORIGIN</th>\n",
       "      <th>DEST</th>\n",
       "      <th>CRS_DEP_TIME</th>\n",
       "      <th>DEP_TIME</th>\n",
       "      <th>DEP_DELAY</th>\n",
       "      <th>CRS_ARR_TIME</th>\n",
       "      <th>ARR_TIME</th>\n",
       "      <th>...</th>\n",
       "      <th>CRS_ELAPSED_TIME</th>\n",
       "      <th>ACTUAL_ELAPSED_TIME</th>\n",
       "      <th>AIR_TIME</th>\n",
       "      <th>DISTANCE</th>\n",
       "      <th>CARRIER_DELAY</th>\n",
       "      <th>WEATHER_DELAY</th>\n",
       "      <th>NAS_DELAY</th>\n",
       "      <th>SECURITY_DELAY</th>\n",
       "      <th>LATE_AIRCRAFT_DELAY</th>\n",
       "      <th>Unnamed: 22</th>\n",
       "    </tr>\n",
       "  </thead>\n",
       "  <tbody>\n",
       "    <tr>\n",
       "      <th>1317487</th>\n",
       "      <td>2019-08-31</td>\n",
       "      <td>OO</td>\n",
       "      <td>3132</td>\n",
       "      <td>PHX</td>\n",
       "      <td>ABQ</td>\n",
       "      <td>1920</td>\n",
       "      <td>1915.0</td>\n",
       "      <td>-5.0</td>\n",
       "      <td>2138</td>\n",
       "      <td>2127.0</td>\n",
       "      <td>...</td>\n",
       "      <td>78.0</td>\n",
       "      <td>72.0</td>\n",
       "      <td>54.0</td>\n",
       "      <td>328.0</td>\n",
       "      <td>NaN</td>\n",
       "      <td>NaN</td>\n",
       "      <td>NaN</td>\n",
       "      <td>NaN</td>\n",
       "      <td>NaN</td>\n",
       "      <td>NaN</td>\n",
       "    </tr>\n",
       "    <tr>\n",
       "      <th>1317488</th>\n",
       "      <td>2019-08-31</td>\n",
       "      <td>OO</td>\n",
       "      <td>3133</td>\n",
       "      <td>ABQ</td>\n",
       "      <td>PHX</td>\n",
       "      <td>625</td>\n",
       "      <td>617.0</td>\n",
       "      <td>-8.0</td>\n",
       "      <td>644</td>\n",
       "      <td>637.0</td>\n",
       "      <td>...</td>\n",
       "      <td>79.0</td>\n",
       "      <td>80.0</td>\n",
       "      <td>55.0</td>\n",
       "      <td>328.0</td>\n",
       "      <td>NaN</td>\n",
       "      <td>NaN</td>\n",
       "      <td>NaN</td>\n",
       "      <td>NaN</td>\n",
       "      <td>NaN</td>\n",
       "      <td>NaN</td>\n",
       "    </tr>\n",
       "    <tr>\n",
       "      <th>1317489</th>\n",
       "      <td>2019-08-31</td>\n",
       "      <td>OO</td>\n",
       "      <td>3134</td>\n",
       "      <td>MKE</td>\n",
       "      <td>ORD</td>\n",
       "      <td>800</td>\n",
       "      <td>755.0</td>\n",
       "      <td>-5.0</td>\n",
       "      <td>901</td>\n",
       "      <td>850.0</td>\n",
       "      <td>...</td>\n",
       "      <td>61.0</td>\n",
       "      <td>55.0</td>\n",
       "      <td>26.0</td>\n",
       "      <td>67.0</td>\n",
       "      <td>NaN</td>\n",
       "      <td>NaN</td>\n",
       "      <td>NaN</td>\n",
       "      <td>NaN</td>\n",
       "      <td>NaN</td>\n",
       "      <td>NaN</td>\n",
       "    </tr>\n",
       "  </tbody>\n",
       "</table>\n",
       "<p>3 rows × 23 columns</p>\n",
       "</div>"
      ],
      "text/plain": [
       "            FL_DATE OP_UNIQUE_CARRIER  OP_CARRIER_FL_NUM ORIGIN DEST  \\\n",
       "1317487  2019-08-31                OO               3132    PHX  ABQ   \n",
       "1317488  2019-08-31                OO               3133    ABQ  PHX   \n",
       "1317489  2019-08-31                OO               3134    MKE  ORD   \n",
       "\n",
       "         CRS_DEP_TIME  DEP_TIME  DEP_DELAY  CRS_ARR_TIME  ARR_TIME  ...  \\\n",
       "1317487          1920    1915.0       -5.0          2138    2127.0  ...   \n",
       "1317488           625     617.0       -8.0           644     637.0  ...   \n",
       "1317489           800     755.0       -5.0           901     850.0  ...   \n",
       "\n",
       "         CRS_ELAPSED_TIME  ACTUAL_ELAPSED_TIME AIR_TIME  DISTANCE  \\\n",
       "1317487              78.0                 72.0     54.0     328.0   \n",
       "1317488              79.0                 80.0     55.0     328.0   \n",
       "1317489              61.0                 55.0     26.0      67.0   \n",
       "\n",
       "         CARRIER_DELAY  WEATHER_DELAY  NAS_DELAY  SECURITY_DELAY  \\\n",
       "1317487            NaN            NaN        NaN             NaN   \n",
       "1317488            NaN            NaN        NaN             NaN   \n",
       "1317489            NaN            NaN        NaN             NaN   \n",
       "\n",
       "         LATE_AIRCRAFT_DELAY  Unnamed: 22  \n",
       "1317487                  NaN          NaN  \n",
       "1317488                  NaN          NaN  \n",
       "1317489                  NaN          NaN  \n",
       "\n",
       "[3 rows x 23 columns]"
      ]
     },
     "execution_count": 17,
     "metadata": {},
     "output_type": "execute_result"
    }
   ],
   "source": [
    "df_test.tail(3)"
   ]
  },
  {
   "cell_type": "code",
   "execution_count": 18,
   "id": "797acea3",
   "metadata": {
    "scrolled": true
   },
   "outputs": [
    {
     "data": {
      "text/plain": [
       "(1317490, 22)"
      ]
     },
     "execution_count": 18,
     "metadata": {},
     "output_type": "execute_result"
    }
   ],
   "source": [
    "# drop the unnecessary and completely empty column called 'Unnamed: 22'\n",
    "df_test.drop(columns=['Unnamed: 22'],inplace=True)\n",
    "df_test.shape"
   ]
  },
  {
   "cell_type": "code",
   "execution_count": 19,
   "id": "0d00aede",
   "metadata": {
    "scrolled": true
   },
   "outputs": [
    {
     "data": {
      "text/plain": [
       "0"
      ]
     },
     "execution_count": 19,
     "metadata": {},
     "output_type": "execute_result"
    }
   ],
   "source": [
    "# Check is there any duplicate rows\n",
    "df_test.duplicated().sum()"
   ]
  },
  {
   "cell_type": "markdown",
   "id": "7e3b659e",
   "metadata": {},
   "source": [
    "There aren't any duplicated rows."
   ]
  },
  {
   "cell_type": "code",
   "execution_count": 20,
   "id": "13ed0ba4",
   "metadata": {},
   "outputs": [],
   "source": [
    "#Change the FL_DATE object type to datetime64\n",
    "df_test = df_test.astype({'FL_DATE' : 'datetime64[ns]'})"
   ]
  },
  {
   "cell_type": "code",
   "execution_count": 21,
   "id": "7131ad65",
   "metadata": {},
   "outputs": [
    {
     "name": "stdout",
     "output_type": "stream",
     "text": [
      "<class 'pandas.core.frame.DataFrame'>\n",
      "RangeIndex: 1317490 entries, 0 to 1317489\n",
      "Data columns (total 22 columns):\n",
      " #   Column               Non-Null Count    Dtype         \n",
      "---  ------               --------------    -----         \n",
      " 0   FL_DATE              1317490 non-null  datetime64[ns]\n",
      " 1   OP_UNIQUE_CARRIER    1317490 non-null  object        \n",
      " 2   OP_CARRIER_FL_NUM    1317490 non-null  int64         \n",
      " 3   ORIGIN               1317490 non-null  object        \n",
      " 4   DEST                 1317490 non-null  object        \n",
      " 5   CRS_DEP_TIME         1317490 non-null  int64         \n",
      " 6   DEP_TIME             1294597 non-null  float64       \n",
      " 7   DEP_DELAY            1294594 non-null  float64       \n",
      " 8   CRS_ARR_TIME         1317490 non-null  int64         \n",
      " 9   ARR_TIME             1292940 non-null  float64       \n",
      " 10  ARR_DELAY            1289132 non-null  float64       \n",
      " 11  CANCELLED            1317490 non-null  float64       \n",
      " 12  CANCELLATION_CODE    24226 non-null    object        \n",
      " 13  CRS_ELAPSED_TIME     1317489 non-null  float64       \n",
      " 14  ACTUAL_ELAPSED_TIME  1289132 non-null  float64       \n",
      " 15  AIR_TIME             1289132 non-null  float64       \n",
      " 16  DISTANCE             1317490 non-null  float64       \n",
      " 17  CARRIER_DELAY        268908 non-null   float64       \n",
      " 18  WEATHER_DELAY        268908 non-null   float64       \n",
      " 19  NAS_DELAY            268908 non-null   float64       \n",
      " 20  SECURITY_DELAY       268908 non-null   float64       \n",
      " 21  LATE_AIRCRAFT_DELAY  268908 non-null   float64       \n",
      "dtypes: datetime64[ns](1), float64(14), int64(3), object(4)\n",
      "memory usage: 221.1+ MB\n"
     ]
    }
   ],
   "source": [
    "df_test.info()"
   ]
  },
  {
   "cell_type": "code",
   "execution_count": 22,
   "id": "bad44cd7",
   "metadata": {},
   "outputs": [],
   "source": [
    "# Let's Store original datasets before going further\n",
    "df_test_org = df_test.copy()"
   ]
  },
  {
   "cell_type": "markdown",
   "id": "8e3e0b9e",
   "metadata": {},
   "source": [
    "## 2.3 Let's obtain subset of 8 most common carriers for both Datasets\n",
    "\n",
    "Since filtering top-8 `OP_UNIQUE_CARRIER` is required according to the instructions, let's find these carriers.<br>"
   ]
  },
  {
   "cell_type": "code",
   "execution_count": 23,
   "id": "61a1326b",
   "metadata": {
    "scrolled": true
   },
   "outputs": [
    {
     "data": {
      "text/html": [
       "<div>\n",
       "<style scoped>\n",
       "    .dataframe tbody tr th:only-of-type {\n",
       "        vertical-align: middle;\n",
       "    }\n",
       "\n",
       "    .dataframe tbody tr th {\n",
       "        vertical-align: top;\n",
       "    }\n",
       "\n",
       "    .dataframe thead th {\n",
       "        text-align: right;\n",
       "    }\n",
       "</style>\n",
       "<table border=\"1\" class=\"dataframe\">\n",
       "  <thead>\n",
       "    <tr style=\"text-align: right;\">\n",
       "      <th></th>\n",
       "      <th>COUNT_TRAIN</th>\n",
       "      <th>RANK_TRAIN</th>\n",
       "      <th>COUNT_TEST</th>\n",
       "      <th>RANK_TEST</th>\n",
       "    </tr>\n",
       "  </thead>\n",
       "  <tbody>\n",
       "    <tr>\n",
       "      <th>WN</th>\n",
       "      <td>1361222</td>\n",
       "      <td>1.0</td>\n",
       "      <td>235868</td>\n",
       "      <td>1.0</td>\n",
       "    </tr>\n",
       "    <tr>\n",
       "      <th>DL</th>\n",
       "      <td>966220</td>\n",
       "      <td>2.0</td>\n",
       "      <td>182090</td>\n",
       "      <td>2.0</td>\n",
       "    </tr>\n",
       "    <tr>\n",
       "      <th>AA</th>\n",
       "      <td>932543</td>\n",
       "      <td>3.0</td>\n",
       "      <td>164490</td>\n",
       "      <td>3.0</td>\n",
       "    </tr>\n",
       "    <tr>\n",
       "      <th>OO</th>\n",
       "      <td>804068</td>\n",
       "      <td>4.0</td>\n",
       "      <td>148715</td>\n",
       "      <td>4.0</td>\n",
       "    </tr>\n",
       "    <tr>\n",
       "      <th>UA</th>\n",
       "      <td>631937</td>\n",
       "      <td>5.0</td>\n",
       "      <td>112329</td>\n",
       "      <td>5.0</td>\n",
       "    </tr>\n",
       "    <tr>\n",
       "      <th>YX</th>\n",
       "      <td>319078</td>\n",
       "      <td>6.0</td>\n",
       "      <td>57155</td>\n",
       "      <td>7.0</td>\n",
       "    </tr>\n",
       "    <tr>\n",
       "      <th>MQ</th>\n",
       "      <td>312918</td>\n",
       "      <td>7.0</td>\n",
       "      <td>59496</td>\n",
       "      <td>6.0</td>\n",
       "    </tr>\n",
       "    <tr>\n",
       "      <th>B6</th>\n",
       "      <td>299971</td>\n",
       "      <td>8.0</td>\n",
       "      <td>51063</td>\n",
       "      <td>8.0</td>\n",
       "    </tr>\n",
       "  </tbody>\n",
       "</table>\n",
       "</div>"
      ],
      "text/plain": [
       "    COUNT_TRAIN  RANK_TRAIN  COUNT_TEST  RANK_TEST\n",
       "WN      1361222         1.0      235868        1.0\n",
       "DL       966220         2.0      182090        2.0\n",
       "AA       932543         3.0      164490        3.0\n",
       "OO       804068         4.0      148715        4.0\n",
       "UA       631937         5.0      112329        5.0\n",
       "YX       319078         6.0       57155        7.0\n",
       "MQ       312918         7.0       59496        6.0\n",
       "B6       299971         8.0       51063        8.0"
      ]
     },
     "execution_count": 23,
     "metadata": {},
     "output_type": "execute_result"
    }
   ],
   "source": [
    "# Most Common 8 Carriers both `train` and `test` Dataset\n",
    "pd.concat([\n",
    "    (df_train['OP_UNIQUE_CARRIER'].value_counts()).rename('COUNT_TRAIN'),\n",
    "    (df_train['OP_UNIQUE_CARRIER'].value_counts().sort_index().rank(ascending=False)).rename('RANK_TRAIN'),\n",
    "    (df_test['OP_UNIQUE_CARRIER'].value_counts()).rename('COUNT_TEST'),\n",
    "    (df_test['OP_UNIQUE_CARRIER'].value_counts().sort_index().rank(ascending=False)).rename('RANK_TEST')\n",
    "],axis=1\n",
    ").sort_values(by='RANK_TRAIN').head(8)"
   ]
  },
  {
   "cell_type": "markdown",
   "id": "6109d4cc",
   "metadata": {},
   "source": [
    "Most common 8 carriers are : <b> WN, DL, AA, OO, UA, YX, MQ, B6 </b>"
   ]
  },
  {
   "cell_type": "markdown",
   "id": "ecc24f95",
   "metadata": {},
   "source": [
    "### 2.3.1 Apply the Carrier Filter for `Train` and `Test` Dataset"
   ]
  },
  {
   "cell_type": "code",
   "execution_count": 24,
   "id": "6a595535",
   "metadata": {},
   "outputs": [
    {
     "name": "stdout",
     "output_type": "stream",
     "text": [
      "Shape of df_train updated: \t(7306180, 22) --> (5627957, 22)\n",
      "\n",
      "Shape of df_test updated: \t(1317490, 22) --> (1011206, 22)\n",
      "\n"
     ]
    }
   ],
   "source": [
    "# Select the desired carriers\n",
    "df_train = df_train.query(\"OP_UNIQUE_CARRIER in ('WN','DL','AA','OO','UA','YX','MQ','B6')\")\n",
    "\n",
    "print(f'Shape of df_train updated: \\t{df_train_org.shape} --> {df_train.shape}\\n')\n",
    "\n",
    "# Select the desired carriers\n",
    "df_test = df_test.query(\"OP_UNIQUE_CARRIER in ('WN','DL','AA','OO','UA','YX','MQ','B6')\")\n",
    "\n",
    "print(f'Shape of df_test updated: \\t{df_test_org.shape} --> {df_test.shape}\\n')"
   ]
  },
  {
   "cell_type": "markdown",
   "id": "e697b59d",
   "metadata": {},
   "source": [
    "## 2.4 Define the Target for `Train` and `Test` Dataset\n",
    "\n",
    "`DEP_DELAY` is the target variable.<br>\n",
    " Flight is classified as `DELAYED`, when it is late 15 minutes or more."
   ]
  },
  {
   "cell_type": "code",
   "execution_count": 25,
   "id": "95bd1620",
   "metadata": {
    "scrolled": true
   },
   "outputs": [
    {
     "name": "stdout",
     "output_type": "stream",
     "text": [
      "shape: (5627957, 1)\n",
      "shape: (1011206, 1)\n"
     ]
    },
    {
     "data": {
      "text/html": [
       "<div>\n",
       "<style scoped>\n",
       "    .dataframe tbody tr th:only-of-type {\n",
       "        vertical-align: middle;\n",
       "    }\n",
       "\n",
       "    .dataframe tbody tr th {\n",
       "        vertical-align: top;\n",
       "    }\n",
       "\n",
       "    .dataframe thead th {\n",
       "        text-align: right;\n",
       "    }\n",
       "</style>\n",
       "<table border=\"1\" class=\"dataframe\">\n",
       "  <thead>\n",
       "    <tr style=\"text-align: right;\">\n",
       "      <th></th>\n",
       "      <th></th>\n",
       "      <th>column</th>\n",
       "      <th>dtypes</th>\n",
       "      <th>count</th>\n",
       "      <th>nunique</th>\n",
       "      <th>sum_null</th>\n",
       "      <th>null_ratio</th>\n",
       "    </tr>\n",
       "  </thead>\n",
       "  <tbody>\n",
       "    <tr>\n",
       "      <th>Train</th>\n",
       "      <th>0</th>\n",
       "      <td>DEP_DELAY</td>\n",
       "      <td>float64</td>\n",
       "      <td>5531848</td>\n",
       "      <td>1485</td>\n",
       "      <td>96109</td>\n",
       "      <td>1.7</td>\n",
       "    </tr>\n",
       "    <tr>\n",
       "      <th>Test</th>\n",
       "      <th>0</th>\n",
       "      <td>DEP_DELAY</td>\n",
       "      <td>float64</td>\n",
       "      <td>995649</td>\n",
       "      <td>1202</td>\n",
       "      <td>15557</td>\n",
       "      <td>1.5</td>\n",
       "    </tr>\n",
       "  </tbody>\n",
       "</table>\n",
       "</div>"
      ],
      "text/plain": [
       "            column   dtypes    count  nunique  sum_null  null_ratio\n",
       "Train 0  DEP_DELAY  float64  5531848     1485     96109         1.7\n",
       "Test  0  DEP_DELAY  float64   995649     1202     15557         1.5"
      ]
     },
     "execution_count": 25,
     "metadata": {},
     "output_type": "execute_result"
    }
   ],
   "source": [
    "pd.concat([df_check(df_train[['DEP_DELAY']]),\n",
    "               df_check(df_test[['DEP_DELAY']]),\n",
    "          ],\n",
    "          axis=0,keys=['Train', 'Test']\n",
    "         )"
   ]
  },
  {
   "cell_type": "markdown",
   "id": "aa8c2b5f",
   "metadata": {},
   "source": [
    "In both dataset, ~%1.7 Target is value missing."
   ]
  },
  {
   "cell_type": "markdown",
   "id": "b18daba8",
   "metadata": {},
   "source": [
    "### 2.4.1 Let's analyse the missing DEP_DELAY for `Train` dataset\n",
    "\n",
    "* Q.Are these due to Cancelled flights?"
   ]
  },
  {
   "cell_type": "code",
   "execution_count": 26,
   "id": "5412ceb4",
   "metadata": {
    "scrolled": false
   },
   "outputs": [
    {
     "data": {
      "text/html": [
       "<div>\n",
       "<style scoped>\n",
       "    .dataframe tbody tr th:only-of-type {\n",
       "        vertical-align: middle;\n",
       "    }\n",
       "\n",
       "    .dataframe tbody tr th {\n",
       "        vertical-align: top;\n",
       "    }\n",
       "\n",
       "    .dataframe thead th {\n",
       "        text-align: right;\n",
       "    }\n",
       "</style>\n",
       "<table border=\"1\" class=\"dataframe\">\n",
       "  <thead>\n",
       "    <tr style=\"text-align: right;\">\n",
       "      <th></th>\n",
       "      <th>CANCELLED_COUNT</th>\n",
       "      <th>CANCELLED_PERC</th>\n",
       "    </tr>\n",
       "  </thead>\n",
       "  <tbody>\n",
       "    <tr>\n",
       "      <th>1.0</th>\n",
       "      <td>96109</td>\n",
       "      <td>100.0</td>\n",
       "    </tr>\n",
       "  </tbody>\n",
       "</table>\n",
       "</div>"
      ],
      "text/plain": [
       "     CANCELLED_COUNT  CANCELLED_PERC\n",
       "1.0            96109           100.0"
      ]
     },
     "execution_count": 26,
     "metadata": {},
     "output_type": "execute_result"
    }
   ],
   "source": [
    "# Missing DEP_DELAY indexs\n",
    "cnd = df_train['DEP_DELAY'].isna()\n",
    "\n",
    "#In the missing subset DEP_DELAY, find the percentage of Cancelled Flights.\n",
    "idx_cnt  = df_train.loc[cnd,'CANCELLED'].value_counts().sort_index().rename('CANCELLED_COUNT')\n",
    "tot_cnt  = len(df_train.loc[cnd,'CANCELLED'])\n",
    "\n",
    "rate_cnt = round(idx_cnt/tot_cnt*100,2).rename('CANCELLED_PERC')\n",
    "\n",
    "pd.concat([idx_cnt,rate_cnt],axis=1)"
   ]
  },
  {
   "cell_type": "markdown",
   "id": "aa58c398",
   "metadata": {},
   "source": [
    "<b>All</b> missing `DEP_DELAY` rows caused by Cancalled Flights"
   ]
  },
  {
   "cell_type": "code",
   "execution_count": 27,
   "id": "910c7d39",
   "metadata": {},
   "outputs": [
    {
     "data": {
      "text/html": [
       "<div>\n",
       "<style scoped>\n",
       "    .dataframe tbody tr th:only-of-type {\n",
       "        vertical-align: middle;\n",
       "    }\n",
       "\n",
       "    .dataframe tbody tr th {\n",
       "        vertical-align: top;\n",
       "    }\n",
       "\n",
       "    .dataframe thead th {\n",
       "        text-align: right;\n",
       "    }\n",
       "</style>\n",
       "<table border=\"1\" class=\"dataframe\">\n",
       "  <thead>\n",
       "    <tr style=\"text-align: right;\">\n",
       "      <th></th>\n",
       "      <th>CANCELLED_COUNT</th>\n",
       "      <th>CANCELLED_PERC</th>\n",
       "    </tr>\n",
       "  </thead>\n",
       "  <tbody>\n",
       "    <tr>\n",
       "      <th>0.0</th>\n",
       "      <td>5528595</td>\n",
       "      <td>99.94</td>\n",
       "    </tr>\n",
       "    <tr>\n",
       "      <th>1.0</th>\n",
       "      <td>3253</td>\n",
       "      <td>0.06</td>\n",
       "    </tr>\n",
       "  </tbody>\n",
       "</table>\n",
       "</div>"
      ],
      "text/plain": [
       "     CANCELLED_COUNT  CANCELLED_PERC\n",
       "0.0          5528595           99.94\n",
       "1.0             3253            0.06"
      ]
     },
     "execution_count": 27,
     "metadata": {},
     "output_type": "execute_result"
    }
   ],
   "source": [
    "#In the NON-missing DEP_DELAY subset, find the percentage of Cancelled Flights.\n",
    "idx_cnt  = df_train.loc[~cnd,'CANCELLED'].value_counts().sort_index().rename('CANCELLED_COUNT')\n",
    "tot_cnt  = len(df_train.loc[~cnd,'CANCELLED'])\n",
    "\n",
    "rate_cnt = round(idx_cnt/tot_cnt*100,2).rename('CANCELLED_PERC')\n",
    "\n",
    "pd.concat([idx_cnt,rate_cnt],axis=1)"
   ]
  },
  {
   "cell_type": "markdown",
   "id": "03f5c568",
   "metadata": {},
   "source": [
    "In the NON Missing `DEP_DELAY` subset, only %0.06 Flights are cancelled.\n",
    "\n",
    "<br>\n",
    "<b>As a result, we can filter the `CANCELLED` flights for modelling and analysis perspective.</b>\n",
    "<br><br>\n",
    "Although, I'll drop the Cancelled flights, I wonder the following question.<br>\n",
    "\n",
    "* Q.How many cancelled flights have missing `DEP_DELAY` info even though scheduled and actual departure time are available?"
   ]
  },
  {
   "cell_type": "code",
   "execution_count": 28,
   "id": "9b526999",
   "metadata": {},
   "outputs": [
    {
     "name": "stdout",
     "output_type": "stream",
     "text": [
      "(51, 5)\n"
     ]
    },
    {
     "data": {
      "text/html": [
       "<div>\n",
       "<style scoped>\n",
       "    .dataframe tbody tr th:only-of-type {\n",
       "        vertical-align: middle;\n",
       "    }\n",
       "\n",
       "    .dataframe tbody tr th {\n",
       "        vertical-align: top;\n",
       "    }\n",
       "\n",
       "    .dataframe thead th {\n",
       "        text-align: right;\n",
       "    }\n",
       "</style>\n",
       "<table border=\"1\" class=\"dataframe\">\n",
       "  <thead>\n",
       "    <tr style=\"text-align: right;\">\n",
       "      <th></th>\n",
       "      <th>CANCELLED</th>\n",
       "      <th>CANCELLATION_CODE</th>\n",
       "      <th>CRS_DEP_TIME</th>\n",
       "      <th>DEP_TIME</th>\n",
       "      <th>DEP_DELAY</th>\n",
       "    </tr>\n",
       "  </thead>\n",
       "  <tbody>\n",
       "    <tr>\n",
       "      <th>698943</th>\n",
       "      <td>1.0</td>\n",
       "      <td>C</td>\n",
       "      <td>1500</td>\n",
       "      <td>1735.0</td>\n",
       "      <td>NaN</td>\n",
       "    </tr>\n",
       "    <tr>\n",
       "      <th>932887</th>\n",
       "      <td>1.0</td>\n",
       "      <td>C</td>\n",
       "      <td>1247</td>\n",
       "      <td>1257.0</td>\n",
       "      <td>NaN</td>\n",
       "    </tr>\n",
       "    <tr>\n",
       "      <th>805936</th>\n",
       "      <td>1.0</td>\n",
       "      <td>C</td>\n",
       "      <td>1700</td>\n",
       "      <td>1801.0</td>\n",
       "      <td>NaN</td>\n",
       "    </tr>\n",
       "    <tr>\n",
       "      <th>50174</th>\n",
       "      <td>1.0</td>\n",
       "      <td>A</td>\n",
       "      <td>1540</td>\n",
       "      <td>1540.0</td>\n",
       "      <td>NaN</td>\n",
       "    </tr>\n",
       "    <tr>\n",
       "      <th>905741</th>\n",
       "      <td>1.0</td>\n",
       "      <td>C</td>\n",
       "      <td>700</td>\n",
       "      <td>657.0</td>\n",
       "      <td>NaN</td>\n",
       "    </tr>\n",
       "  </tbody>\n",
       "</table>\n",
       "</div>"
      ],
      "text/plain": [
       "        CANCELLED CANCELLATION_CODE  CRS_DEP_TIME  DEP_TIME  DEP_DELAY\n",
       "698943        1.0                 C          1500    1735.0        NaN\n",
       "932887        1.0                 C          1247    1257.0        NaN\n",
       "805936        1.0                 C          1700    1801.0        NaN\n",
       "50174         1.0                 A          1540    1540.0        NaN\n",
       "905741        1.0                 C           700     657.0        NaN"
      ]
     },
     "execution_count": 28,
     "metadata": {},
     "output_type": "execute_result"
    }
   ],
   "source": [
    "# Filters\n",
    "cnd1 = df_train['CANCELLED'] == 1\n",
    "cnd2 = df_train['DEP_DELAY'].isna()\n",
    "cnd3 = ~(df_train['CRS_DEP_TIME'].isna())\n",
    "cnd4 = ~(df_train['DEP_TIME'].isna())\n",
    "\n",
    "temp_df = df_train.loc[(cnd1 & cnd2 & cnd3 & cnd4),['CANCELLED','CANCELLATION_CODE','CRS_DEP_TIME','DEP_TIME','DEP_DELAY']]\n",
    "\n",
    "print(temp_df.shape)\n",
    "temp_df.sample(5)"
   ]
  },
  {
   "cell_type": "code",
   "execution_count": 29,
   "id": "98cf0074",
   "metadata": {
    "scrolled": true
   },
   "outputs": [
    {
     "data": {
      "text/plain": [
       "C    39\n",
       "B     7\n",
       "A     5\n",
       "Name: CANCELLATION_CODE, dtype: int64"
      ]
     },
     "execution_count": 29,
     "metadata": {},
     "output_type": "execute_result"
    }
   ],
   "source": [
    "temp_df.CANCELLATION_CODE.value_counts()"
   ]
  },
  {
   "cell_type": "markdown",
   "id": "e715856c",
   "metadata": {},
   "source": [
    "The sample size is too small (only 51 samples) and, Reason code C is the most commont for those flights."
   ]
  },
  {
   "cell_type": "markdown",
   "id": "84eb54fa",
   "metadata": {},
   "source": [
    "### 2.4.2  Filter Cancelled Flights for `Train` and `Test` Dataset"
   ]
  },
  {
   "cell_type": "code",
   "execution_count": 30,
   "id": "269b4841",
   "metadata": {},
   "outputs": [
    {
     "name": "stdout",
     "output_type": "stream",
     "text": [
      "Shape of df_train updated: \t(5627957, 22) --> (5528595, 22)\n",
      "\n",
      "Shape of df_test updated: \t(1011206, 22) --> (994740, 22)\n",
      "\n"
     ]
    }
   ],
   "source": [
    "b_shape_train = df_train.shape\n",
    "b_shape_test = df_test.shape\n",
    "\n",
    "df_train = df_train[df_train['CANCELLED']==0]\n",
    "print(f'Shape of df_train updated: \\t{b_shape_train} --> {df_train.shape}\\n')\n",
    "\n",
    "df_test = df_test[df_test['CANCELLED']==0]\n",
    "print(f'Shape of df_test updated: \\t{b_shape_test} --> {df_test.shape}\\n')"
   ]
  },
  {
   "cell_type": "code",
   "execution_count": 31,
   "id": "b43ff9f6",
   "metadata": {},
   "outputs": [
    {
     "data": {
      "text/html": [
       "<div>\n",
       "<style scoped>\n",
       "    .dataframe tbody tr th:only-of-type {\n",
       "        vertical-align: middle;\n",
       "    }\n",
       "\n",
       "    .dataframe tbody tr th {\n",
       "        vertical-align: top;\n",
       "    }\n",
       "\n",
       "    .dataframe thead th {\n",
       "        text-align: right;\n",
       "    }\n",
       "</style>\n",
       "<table border=\"1\" class=\"dataframe\">\n",
       "  <thead>\n",
       "    <tr style=\"text-align: right;\">\n",
       "      <th></th>\n",
       "      <th>TRAIN_NA_COUNT</th>\n",
       "      <th>TEST_NA_COUNT</th>\n",
       "    </tr>\n",
       "  </thead>\n",
       "  <tbody>\n",
       "    <tr>\n",
       "      <th>FL_DATE</th>\n",
       "      <td>0</td>\n",
       "      <td>0</td>\n",
       "    </tr>\n",
       "    <tr>\n",
       "      <th>OP_UNIQUE_CARRIER</th>\n",
       "      <td>0</td>\n",
       "      <td>0</td>\n",
       "    </tr>\n",
       "    <tr>\n",
       "      <th>OP_CARRIER_FL_NUM</th>\n",
       "      <td>0</td>\n",
       "      <td>0</td>\n",
       "    </tr>\n",
       "    <tr>\n",
       "      <th>ORIGIN</th>\n",
       "      <td>0</td>\n",
       "      <td>0</td>\n",
       "    </tr>\n",
       "    <tr>\n",
       "      <th>DEST</th>\n",
       "      <td>0</td>\n",
       "      <td>0</td>\n",
       "    </tr>\n",
       "    <tr>\n",
       "      <th>CRS_DEP_TIME</th>\n",
       "      <td>0</td>\n",
       "      <td>0</td>\n",
       "    </tr>\n",
       "    <tr>\n",
       "      <th>DEP_TIME</th>\n",
       "      <td>0</td>\n",
       "      <td>0</td>\n",
       "    </tr>\n",
       "    <tr>\n",
       "      <th>DEP_DELAY</th>\n",
       "      <td>0</td>\n",
       "      <td>0</td>\n",
       "    </tr>\n",
       "    <tr>\n",
       "      <th>CRS_ARR_TIME</th>\n",
       "      <td>0</td>\n",
       "      <td>0</td>\n",
       "    </tr>\n",
       "    <tr>\n",
       "      <th>ARR_TIME</th>\n",
       "      <td>2138</td>\n",
       "      <td>256</td>\n",
       "    </tr>\n",
       "    <tr>\n",
       "      <th>ARR_DELAY</th>\n",
       "      <td>15140</td>\n",
       "      <td>3374</td>\n",
       "    </tr>\n",
       "    <tr>\n",
       "      <th>CANCELLED</th>\n",
       "      <td>0</td>\n",
       "      <td>0</td>\n",
       "    </tr>\n",
       "    <tr>\n",
       "      <th>CANCELLATION_CODE</th>\n",
       "      <td>5528595</td>\n",
       "      <td>994740</td>\n",
       "    </tr>\n",
       "    <tr>\n",
       "      <th>CRS_ELAPSED_TIME</th>\n",
       "      <td>0</td>\n",
       "      <td>0</td>\n",
       "    </tr>\n",
       "    <tr>\n",
       "      <th>ACTUAL_ELAPSED_TIME</th>\n",
       "      <td>15140</td>\n",
       "      <td>3374</td>\n",
       "    </tr>\n",
       "    <tr>\n",
       "      <th>AIR_TIME</th>\n",
       "      <td>15140</td>\n",
       "      <td>3374</td>\n",
       "    </tr>\n",
       "    <tr>\n",
       "      <th>DISTANCE</th>\n",
       "      <td>0</td>\n",
       "      <td>0</td>\n",
       "    </tr>\n",
       "    <tr>\n",
       "      <th>CARRIER_DELAY</th>\n",
       "      <td>4441342</td>\n",
       "      <td>791561</td>\n",
       "    </tr>\n",
       "    <tr>\n",
       "      <th>WEATHER_DELAY</th>\n",
       "      <td>4441342</td>\n",
       "      <td>791561</td>\n",
       "    </tr>\n",
       "    <tr>\n",
       "      <th>NAS_DELAY</th>\n",
       "      <td>4441342</td>\n",
       "      <td>791561</td>\n",
       "    </tr>\n",
       "    <tr>\n",
       "      <th>SECURITY_DELAY</th>\n",
       "      <td>4441342</td>\n",
       "      <td>791561</td>\n",
       "    </tr>\n",
       "    <tr>\n",
       "      <th>LATE_AIRCRAFT_DELAY</th>\n",
       "      <td>4441342</td>\n",
       "      <td>791561</td>\n",
       "    </tr>\n",
       "  </tbody>\n",
       "</table>\n",
       "</div>"
      ],
      "text/plain": [
       "                     TRAIN_NA_COUNT  TEST_NA_COUNT\n",
       "FL_DATE                           0              0\n",
       "OP_UNIQUE_CARRIER                 0              0\n",
       "OP_CARRIER_FL_NUM                 0              0\n",
       "ORIGIN                            0              0\n",
       "DEST                              0              0\n",
       "CRS_DEP_TIME                      0              0\n",
       "DEP_TIME                          0              0\n",
       "DEP_DELAY                         0              0\n",
       "CRS_ARR_TIME                      0              0\n",
       "ARR_TIME                       2138            256\n",
       "ARR_DELAY                     15140           3374\n",
       "CANCELLED                         0              0\n",
       "CANCELLATION_CODE           5528595         994740\n",
       "CRS_ELAPSED_TIME                  0              0\n",
       "ACTUAL_ELAPSED_TIME           15140           3374\n",
       "AIR_TIME                      15140           3374\n",
       "DISTANCE                          0              0\n",
       "CARRIER_DELAY               4441342         791561\n",
       "WEATHER_DELAY               4441342         791561\n",
       "NAS_DELAY                   4441342         791561\n",
       "SECURITY_DELAY              4441342         791561\n",
       "LATE_AIRCRAFT_DELAY         4441342         791561"
      ]
     },
     "execution_count": 31,
     "metadata": {},
     "output_type": "execute_result"
    }
   ],
   "source": [
    "# Check the NA Rows\n",
    "pd.concat([\n",
    "    pd.DataFrame(df_train.isna().sum(),columns=['TRAIN_NA_COUNT']),\n",
    "    pd.DataFrame(df_test.isna().sum(),columns=['TEST_NA_COUNT'])\n",
    "],axis=1\n",
    ")"
   ]
  },
  {
   "cell_type": "markdown",
   "id": "f409ca0b",
   "metadata": {},
   "source": [
    "## 2.5 Setting The Target Value\n",
    "\n",
    "DepDelay (in minutes) is our target variable and a flight is classified as delayed, when it is late 15 minutes or more."
   ]
  },
  {
   "cell_type": "code",
   "execution_count": 32,
   "id": "d651c0b9",
   "metadata": {},
   "outputs": [],
   "source": [
    "df_train['DELAYED'] = df_train['DEP_DELAY'].apply(lambda x: 1 if x>=15 else 0)\n",
    "\n",
    "df_test['DELAYED']  = df_test['DEP_DELAY'].apply(lambda x: 1 if x>=15 else 0)"
   ]
  },
  {
   "cell_type": "code",
   "execution_count": 33,
   "id": "15ad9209",
   "metadata": {
    "scrolled": false
   },
   "outputs": [
    {
     "name": "stdout",
     "output_type": "stream",
     "text": [
      "TRAIN DATASET - DELAYED Count and Percentage\n"
     ]
    },
    {
     "data": {
      "text/html": [
       "<div>\n",
       "<style scoped>\n",
       "    .dataframe tbody tr th:only-of-type {\n",
       "        vertical-align: middle;\n",
       "    }\n",
       "\n",
       "    .dataframe tbody tr th {\n",
       "        vertical-align: top;\n",
       "    }\n",
       "\n",
       "    .dataframe thead th {\n",
       "        text-align: right;\n",
       "    }\n",
       "</style>\n",
       "<table border=\"1\" class=\"dataframe\">\n",
       "  <thead>\n",
       "    <tr style=\"text-align: right;\">\n",
       "      <th></th>\n",
       "      <th>COUNT</th>\n",
       "      <th>PERCENTAGE</th>\n",
       "    </tr>\n",
       "  </thead>\n",
       "  <tbody>\n",
       "    <tr>\n",
       "      <th>0</th>\n",
       "      <td>4468901</td>\n",
       "      <td>80.83</td>\n",
       "    </tr>\n",
       "    <tr>\n",
       "      <th>1</th>\n",
       "      <td>1059694</td>\n",
       "      <td>19.17</td>\n",
       "    </tr>\n",
       "  </tbody>\n",
       "</table>\n",
       "</div>"
      ],
      "text/plain": [
       "     COUNT  PERCENTAGE\n",
       "0  4468901       80.83\n",
       "1  1059694       19.17"
      ]
     },
     "metadata": {},
     "output_type": "display_data"
    },
    {
     "data": {
      "text/plain": [
       "<AxesSubplot:xlabel='DELAYED', ylabel='count'>"
      ]
     },
     "execution_count": 33,
     "metadata": {},
     "output_type": "execute_result"
    },
    {
     "data": {
      "image/png": "[encoded data removed]",
      "text/plain": [
       "<Figure size 360x288 with 1 Axes>"
      ]
     },
     "metadata": {},
     "output_type": "display_data"
    }
   ],
   "source": [
    "# Find the percentage of DELAYED Flights in the Train Dataset\n",
    "print('TRAIN DATASET - DELAYED Count and Percentage')\n",
    "\n",
    "idx_cnt  = df_train['DELAYED'].value_counts().sort_index().rename('COUNT')\n",
    "tot_cnt  = len(df_train['DELAYED'])\n",
    "\n",
    "rate_cnt = round(idx_cnt/tot_cnt*100,2).rename('PERCENTAGE')\n",
    "\n",
    "display(pd.concat([idx_cnt,rate_cnt],axis=1))\n",
    "\n",
    "plt.figure(figsize=(5,4))\n",
    "sns.countplot(data=df_train,x='DELAYED',label=\"Count\")"
   ]
  },
  {
   "cell_type": "markdown",
   "id": "4a1dbdbe",
   "metadata": {},
   "source": [
    "% 19.17 of the flights in the train dataset classified as DELAYED"
   ]
  },
  {
   "cell_type": "code",
   "execution_count": 34,
   "id": "12226e80",
   "metadata": {
    "scrolled": false
   },
   "outputs": [
    {
     "name": "stdout",
     "output_type": "stream",
     "text": [
      "TEST DATASET - DELAYED Count and Percentage\n"
     ]
    },
    {
     "data": {
      "text/html": [
       "<div>\n",
       "<style scoped>\n",
       "    .dataframe tbody tr th:only-of-type {\n",
       "        vertical-align: middle;\n",
       "    }\n",
       "\n",
       "    .dataframe tbody tr th {\n",
       "        vertical-align: top;\n",
       "    }\n",
       "\n",
       "    .dataframe thead th {\n",
       "        text-align: right;\n",
       "    }\n",
       "</style>\n",
       "<table border=\"1\" class=\"dataframe\">\n",
       "  <thead>\n",
       "    <tr style=\"text-align: right;\">\n",
       "      <th></th>\n",
       "      <th>COUNT</th>\n",
       "      <th>PERCENTAGE</th>\n",
       "    </tr>\n",
       "  </thead>\n",
       "  <tbody>\n",
       "    <tr>\n",
       "      <th>0</th>\n",
       "      <td>790154</td>\n",
       "      <td>79.43</td>\n",
       "    </tr>\n",
       "    <tr>\n",
       "      <th>1</th>\n",
       "      <td>204586</td>\n",
       "      <td>20.57</td>\n",
       "    </tr>\n",
       "  </tbody>\n",
       "</table>\n",
       "</div>"
      ],
      "text/plain": [
       "    COUNT  PERCENTAGE\n",
       "0  790154       79.43\n",
       "1  204586       20.57"
      ]
     },
     "metadata": {},
     "output_type": "display_data"
    },
    {
     "data": {
      "text/plain": [
       "<AxesSubplot:xlabel='DELAYED', ylabel='count'>"
      ]
     },
     "execution_count": 34,
     "metadata": {},
     "output_type": "execute_result"
    },
    {
     "data": {
      "image/png": "[encoded data removed]",
      "text/plain": [
       "<Figure size 360x288 with 1 Axes>"
      ]
     },
     "metadata": {},
     "output_type": "display_data"
    }
   ],
   "source": [
    "# Find the percentage of DELAYED Flights in the Test Dataset\n",
    "print('TEST DATASET - DELAYED Count and Percentage')\n",
    "\n",
    "idx_cnt  = df_test['DELAYED'].value_counts().sort_index().rename('COUNT')\n",
    "tot_cnt  = len(df_test['DELAYED'])\n",
    "\n",
    "rate_cnt = round(idx_cnt/tot_cnt*100,2).rename('PERCENTAGE')\n",
    "\n",
    "display(pd.concat([idx_cnt,rate_cnt],axis=1))\n",
    "\n",
    "plt.figure(figsize=(5,4))\n",
    "sns.countplot(data=df_test,x='DELAYED',label=\"Count\")"
   ]
  },
  {
   "cell_type": "markdown",
   "id": "b5612b94",
   "metadata": {},
   "source": [
    "% 20.57 of the flights in the test dataset classified as DELAYED"
   ]
  },
  {
   "cell_type": "markdown",
   "id": "64fa121c",
   "metadata": {},
   "source": [
    "# 3. Features\n",
    "\n",
    "Things to note:\n",
    "* 1. Data consists of 14 months, where 12 months (07.2018 - 06.2019) are for training/validation and 2 months (07.2019 - 08.2019) for testing purposes.\n",
    "* 2. DepDelay (in minutes) is your target variable.\n",
    "* 3. From an operational perspective, flight is classified as delayed, when it is late 15 minutes or more.\n",
    "* 4. Scheduled departure time of the flight is the last available moment for doing prediction.\n",
    "* 5. For modeling/analysis use a subset of 8 carriers, which are the most common in the dataset.\n",
    "* 6. Feel free to use any publicly available information/dataset for feature engineering.\n",
    "* 7. Don’t forget about exploratory data analysis (at least 3 questions & answers).\n",
    "\n",
    "\n",
    "#1, #2, #3, and #5 notes have evaluated so far.\n",
    "\n",
    "According to the #4, the last time for a flight is `CRS_DEP_TIME`, so I can't use the times which are `DEP_TIME`,`DEP_DELAY`,`CRS_ARR_TIME`, `ARR_TIME`, `ARR_DELAY`,`CRS_ELAPSED_TIME`and `ACTUAL_ELAPSED_TIME`.\n",
    "\n",
    "In addition to that, as I've discussed before, I will exclude the cancelled flights. (`CANCELLED`and `CANCELLATION_CODE`).\n",
    "Therefore, I will create a <b>'excluded_cols'</b> list and I will add these features.\n",
    "\n",
    "And also, in the feature engineering part, if there are new columns that I want to exclude, I will add them to the <b>'excluded_cols'</b> list. This way, I can easily exclude these columns when I switch to the `Test` dataset."
   ]
  },
  {
   "cell_type": "code",
   "execution_count": 35,
   "id": "4406c56d",
   "metadata": {},
   "outputs": [],
   "source": [
    "# The columns that won't use in the modelling.\n",
    "excluded_cols = ['CANCELLED','CANCELLATION_CODE',\n",
    "                 'DEP_TIME','DEP_DELAY','CRS_ARR_TIME','CRS_ARR_TIME','ARR_TIME','ARR_DELAY',\n",
    "                 'CRS_ELAPSED_TIME','ACTUAL_ELAPSED_TIME'\n",
    "                  ]\n",
    "\n",
    "#desired_features list contains desired features that I will use in the model section\n",
    "desired_features = [] \n",
    "\n",
    "for i in list(df_train.columns):\n",
    "    if i not in excluded_cols+['DELAYED']:\n",
    "        desired_features.append(i)\n",
    "desired_features.append('DELAYED')"
   ]
  },
  {
   "cell_type": "markdown",
   "id": "bcbbc6f8",
   "metadata": {},
   "source": [
    "## 3.1 Exploratory Data Analysis"
   ]
  },
  {
   "cell_type": "code",
   "execution_count": 36,
   "id": "db60f63f",
   "metadata": {
    "scrolled": true
   },
   "outputs": [
    {
     "data": {
      "text/html": [
       "<div>\n",
       "<style scoped>\n",
       "    .dataframe tbody tr th:only-of-type {\n",
       "        vertical-align: middle;\n",
       "    }\n",
       "\n",
       "    .dataframe tbody tr th {\n",
       "        vertical-align: top;\n",
       "    }\n",
       "\n",
       "    .dataframe thead th {\n",
       "        text-align: right;\n",
       "    }\n",
       "</style>\n",
       "<table border=\"1\" class=\"dataframe\">\n",
       "  <thead>\n",
       "    <tr style=\"text-align: right;\">\n",
       "      <th></th>\n",
       "      <th>OP_CARRIER_FL_NUM</th>\n",
       "      <th>CRS_DEP_TIME</th>\n",
       "      <th>AIR_TIME</th>\n",
       "      <th>DISTANCE</th>\n",
       "      <th>CARRIER_DELAY</th>\n",
       "      <th>WEATHER_DELAY</th>\n",
       "      <th>NAS_DELAY</th>\n",
       "      <th>SECURITY_DELAY</th>\n",
       "      <th>LATE_AIRCRAFT_DELAY</th>\n",
       "      <th>DELAYED</th>\n",
       "    </tr>\n",
       "  </thead>\n",
       "  <tbody>\n",
       "    <tr>\n",
       "      <th>count</th>\n",
       "      <td>5.528595e+06</td>\n",
       "      <td>5.528595e+06</td>\n",
       "      <td>5.513455e+06</td>\n",
       "      <td>5.528595e+06</td>\n",
       "      <td>1.087253e+06</td>\n",
       "      <td>1.087253e+06</td>\n",
       "      <td>1.087253e+06</td>\n",
       "      <td>1.087253e+06</td>\n",
       "      <td>1.087253e+06</td>\n",
       "      <td>5.528595e+06</td>\n",
       "    </tr>\n",
       "    <tr>\n",
       "      <th>mean</th>\n",
       "      <td>2.418366e+03</td>\n",
       "      <td>1.328063e+03</td>\n",
       "      <td>1.138240e+02</td>\n",
       "      <td>8.215433e+02</td>\n",
       "      <td>2.010358e+01</td>\n",
       "      <td>3.868412e+00</td>\n",
       "      <td>1.605579e+01</td>\n",
       "      <td>1.075472e-01</td>\n",
       "      <td>2.629934e+01</td>\n",
       "      <td>1.916751e-01</td>\n",
       "    </tr>\n",
       "    <tr>\n",
       "      <th>std</th>\n",
       "      <td>1.641756e+03</td>\n",
       "      <td>4.911272e+02</td>\n",
       "      <td>7.072153e+01</td>\n",
       "      <td>5.956681e+02</td>\n",
       "      <td>6.202681e+01</td>\n",
       "      <td>3.192931e+01</td>\n",
       "      <td>3.548035e+01</td>\n",
       "      <td>4.003883e+00</td>\n",
       "      <td>5.066967e+01</td>\n",
       "      <td>3.936188e-01</td>\n",
       "    </tr>\n",
       "    <tr>\n",
       "      <th>min</th>\n",
       "      <td>1.000000e+00</td>\n",
       "      <td>1.000000e+00</td>\n",
       "      <td>4.000000e+00</td>\n",
       "      <td>4.500000e+01</td>\n",
       "      <td>0.000000e+00</td>\n",
       "      <td>0.000000e+00</td>\n",
       "      <td>0.000000e+00</td>\n",
       "      <td>0.000000e+00</td>\n",
       "      <td>0.000000e+00</td>\n",
       "      <td>0.000000e+00</td>\n",
       "    </tr>\n",
       "    <tr>\n",
       "      <th>25%</th>\n",
       "      <td>1.134000e+03</td>\n",
       "      <td>9.100000e+02</td>\n",
       "      <td>6.100000e+01</td>\n",
       "      <td>3.770000e+02</td>\n",
       "      <td>0.000000e+00</td>\n",
       "      <td>0.000000e+00</td>\n",
       "      <td>0.000000e+00</td>\n",
       "      <td>0.000000e+00</td>\n",
       "      <td>0.000000e+00</td>\n",
       "      <td>0.000000e+00</td>\n",
       "    </tr>\n",
       "    <tr>\n",
       "      <th>50%</th>\n",
       "      <td>2.098000e+03</td>\n",
       "      <td>1.320000e+03</td>\n",
       "      <td>9.500000e+01</td>\n",
       "      <td>6.510000e+02</td>\n",
       "      <td>0.000000e+00</td>\n",
       "      <td>0.000000e+00</td>\n",
       "      <td>3.000000e+00</td>\n",
       "      <td>0.000000e+00</td>\n",
       "      <td>4.000000e+00</td>\n",
       "      <td>0.000000e+00</td>\n",
       "    </tr>\n",
       "    <tr>\n",
       "      <th>75%</th>\n",
       "      <td>3.558000e+03</td>\n",
       "      <td>1.735000e+03</td>\n",
       "      <td>1.440000e+02</td>\n",
       "      <td>1.065000e+03</td>\n",
       "      <td>1.700000e+01</td>\n",
       "      <td>0.000000e+00</td>\n",
       "      <td>2.000000e+01</td>\n",
       "      <td>0.000000e+00</td>\n",
       "      <td>3.200000e+01</td>\n",
       "      <td>0.000000e+00</td>\n",
       "    </tr>\n",
       "    <tr>\n",
       "      <th>max</th>\n",
       "      <td>7.439000e+03</td>\n",
       "      <td>2.359000e+03</td>\n",
       "      <td>6.690000e+02</td>\n",
       "      <td>4.983000e+03</td>\n",
       "      <td>2.592000e+03</td>\n",
       "      <td>2.692000e+03</td>\n",
       "      <td>1.498000e+03</td>\n",
       "      <td>1.078000e+03</td>\n",
       "      <td>2.014000e+03</td>\n",
       "      <td>1.000000e+00</td>\n",
       "    </tr>\n",
       "  </tbody>\n",
       "</table>\n",
       "</div>"
      ],
      "text/plain": [
       "       OP_CARRIER_FL_NUM  CRS_DEP_TIME      AIR_TIME      DISTANCE  \\\n",
       "count       5.528595e+06  5.528595e+06  5.513455e+06  5.528595e+06   \n",
       "mean        2.418366e+03  1.328063e+03  1.138240e+02  8.215433e+02   \n",
       "std         1.641756e+03  4.911272e+02  7.072153e+01  5.956681e+02   \n",
       "min         1.000000e+00  1.000000e+00  4.000000e+00  4.500000e+01   \n",
       "25%         1.134000e+03  9.100000e+02  6.100000e+01  3.770000e+02   \n",
       "50%         2.098000e+03  1.320000e+03  9.500000e+01  6.510000e+02   \n",
       "75%         3.558000e+03  1.735000e+03  1.440000e+02  1.065000e+03   \n",
       "max         7.439000e+03  2.359000e+03  6.690000e+02  4.983000e+03   \n",
       "\n",
       "       CARRIER_DELAY  WEATHER_DELAY     NAS_DELAY  SECURITY_DELAY  \\\n",
       "count   1.087253e+06   1.087253e+06  1.087253e+06    1.087253e+06   \n",
       "mean    2.010358e+01   3.868412e+00  1.605579e+01    1.075472e-01   \n",
       "std     6.202681e+01   3.192931e+01  3.548035e+01    4.003883e+00   \n",
       "min     0.000000e+00   0.000000e+00  0.000000e+00    0.000000e+00   \n",
       "25%     0.000000e+00   0.000000e+00  0.000000e+00    0.000000e+00   \n",
       "50%     0.000000e+00   0.000000e+00  3.000000e+00    0.000000e+00   \n",
       "75%     1.700000e+01   0.000000e+00  2.000000e+01    0.000000e+00   \n",
       "max     2.592000e+03   2.692000e+03  1.498000e+03    1.078000e+03   \n",
       "\n",
       "       LATE_AIRCRAFT_DELAY       DELAYED  \n",
       "count         1.087253e+06  5.528595e+06  \n",
       "mean          2.629934e+01  1.916751e-01  \n",
       "std           5.066967e+01  3.936188e-01  \n",
       "min           0.000000e+00  0.000000e+00  \n",
       "25%           0.000000e+00  0.000000e+00  \n",
       "50%           4.000000e+00  0.000000e+00  \n",
       "75%           3.200000e+01  0.000000e+00  \n",
       "max           2.014000e+03  1.000000e+00  "
      ]
     },
     "execution_count": 36,
     "metadata": {},
     "output_type": "execute_result"
    }
   ],
   "source": [
    "# some basic statistics for numeric variables \n",
    "df_train[desired_features].describe()"
   ]
  },
  {
   "cell_type": "code",
   "execution_count": 37,
   "id": "cae5b34b",
   "metadata": {},
   "outputs": [
    {
     "data": {
      "text/html": [
       "<div>\n",
       "<style scoped>\n",
       "    .dataframe tbody tr th:only-of-type {\n",
       "        vertical-align: middle;\n",
       "    }\n",
       "\n",
       "    .dataframe tbody tr th {\n",
       "        vertical-align: top;\n",
       "    }\n",
       "\n",
       "    .dataframe thead th {\n",
       "        text-align: right;\n",
       "    }\n",
       "</style>\n",
       "<table border=\"1\" class=\"dataframe\">\n",
       "  <thead>\n",
       "    <tr style=\"text-align: right;\">\n",
       "      <th></th>\n",
       "      <th>OP_UNIQUE_CARRIER</th>\n",
       "      <th>ORIGIN</th>\n",
       "      <th>DEST</th>\n",
       "    </tr>\n",
       "  </thead>\n",
       "  <tbody>\n",
       "    <tr>\n",
       "      <th>count</th>\n",
       "      <td>5528595</td>\n",
       "      <td>5528595</td>\n",
       "      <td>5528595</td>\n",
       "    </tr>\n",
       "    <tr>\n",
       "      <th>unique</th>\n",
       "      <td>8</td>\n",
       "      <td>316</td>\n",
       "      <td>316</td>\n",
       "    </tr>\n",
       "    <tr>\n",
       "      <th>top</th>\n",
       "      <td>WN</td>\n",
       "      <td>ATL</td>\n",
       "      <td>ATL</td>\n",
       "    </tr>\n",
       "    <tr>\n",
       "      <th>freq</th>\n",
       "      <td>1328677</td>\n",
       "      <td>336715</td>\n",
       "      <td>336677</td>\n",
       "    </tr>\n",
       "  </tbody>\n",
       "</table>\n",
       "</div>"
      ],
      "text/plain": [
       "       OP_UNIQUE_CARRIER   ORIGIN     DEST\n",
       "count            5528595  5528595  5528595\n",
       "unique                 8      316      316\n",
       "top                   WN      ATL      ATL\n",
       "freq             1328677   336715   336677"
      ]
     },
     "execution_count": 37,
     "metadata": {},
     "output_type": "execute_result"
    }
   ],
   "source": [
    "# some basic statistics for object variables \n",
    "df_train[desired_features].describe(include=\"object\")"
   ]
  },
  {
   "cell_type": "code",
   "execution_count": 38,
   "id": "7052a419",
   "metadata": {
    "scrolled": false
   },
   "outputs": [
    {
     "data": {
      "text/html": [
       "<div>\n",
       "<style scoped>\n",
       "    .dataframe tbody tr th:only-of-type {\n",
       "        vertical-align: middle;\n",
       "    }\n",
       "\n",
       "    .dataframe tbody tr th {\n",
       "        vertical-align: top;\n",
       "    }\n",
       "\n",
       "    .dataframe thead th {\n",
       "        text-align: right;\n",
       "    }\n",
       "</style>\n",
       "<table border=\"1\" class=\"dataframe\">\n",
       "  <thead>\n",
       "    <tr style=\"text-align: right;\">\n",
       "      <th>DELAYED</th>\n",
       "      <th>0</th>\n",
       "      <th>1</th>\n",
       "    </tr>\n",
       "  </thead>\n",
       "  <tbody>\n",
       "    <tr>\n",
       "      <th>OP_CARRIER_FL_NUM</th>\n",
       "      <td>2428.028786</td>\n",
       "      <td>2377.614531</td>\n",
       "    </tr>\n",
       "    <tr>\n",
       "      <th>CRS_DEP_TIME</th>\n",
       "      <td>1284.333746</td>\n",
       "      <td>1512.478613</td>\n",
       "    </tr>\n",
       "    <tr>\n",
       "      <th>AIR_TIME</th>\n",
       "      <td>113.161580</td>\n",
       "      <td>116.624746</td>\n",
       "    </tr>\n",
       "    <tr>\n",
       "      <th>DISTANCE</th>\n",
       "      <td>815.677931</td>\n",
       "      <td>846.278670</td>\n",
       "    </tr>\n",
       "    <tr>\n",
       "      <th>CARRIER_DELAY</th>\n",
       "      <td>1.800117</td>\n",
       "      <td>25.337736</td>\n",
       "    </tr>\n",
       "    <tr>\n",
       "      <th>WEATHER_DELAY</th>\n",
       "      <td>0.194870</td>\n",
       "      <td>4.918919</td>\n",
       "    </tr>\n",
       "    <tr>\n",
       "      <th>NAS_DELAY</th>\n",
       "      <td>24.697113</td>\n",
       "      <td>13.584666</td>\n",
       "    </tr>\n",
       "    <tr>\n",
       "      <th>SECURITY_DELAY</th>\n",
       "      <td>0.013302</td>\n",
       "      <td>0.134498</td>\n",
       "    </tr>\n",
       "    <tr>\n",
       "      <th>LATE_AIRCRAFT_DELAY</th>\n",
       "      <td>1.066909</td>\n",
       "      <td>33.514941</td>\n",
       "    </tr>\n",
       "  </tbody>\n",
       "</table>\n",
       "</div>"
      ],
      "text/plain": [
       "DELAYED                        0            1\n",
       "OP_CARRIER_FL_NUM    2428.028786  2377.614531\n",
       "CRS_DEP_TIME         1284.333746  1512.478613\n",
       "AIR_TIME              113.161580   116.624746\n",
       "DISTANCE              815.677931   846.278670\n",
       "CARRIER_DELAY           1.800117    25.337736\n",
       "WEATHER_DELAY           0.194870     4.918919\n",
       "NAS_DELAY              24.697113    13.584666\n",
       "SECURITY_DELAY          0.013302     0.134498\n",
       "LATE_AIRCRAFT_DELAY     1.066909    33.514941"
      ]
     },
     "execution_count": 38,
     "metadata": {},
     "output_type": "execute_result"
    }
   ],
   "source": [
    "# checking how numeric variables change with the target\n",
    "df_train[desired_features].groupby('DELAYED').mean().T"
   ]
  },
  {
   "cell_type": "code",
   "execution_count": 39,
   "id": "71503ec9",
   "metadata": {
    "scrolled": false
   },
   "outputs": [
    {
     "data": {
      "image/png": "[encoded data removed]",
      "text/plain": [
       "<Figure size 1152x1152 with 12 Axes>"
      ]
     },
     "metadata": {},
     "output_type": "display_data"
    }
   ],
   "source": [
    "# distributions of attributes\n",
    "df_train[desired_features].hist(figsize = [16,16],bins=30);"
   ]
  },
  {
   "cell_type": "code",
   "execution_count": 40,
   "id": "8e1a2455",
   "metadata": {
    "scrolled": false
   },
   "outputs": [
    {
     "data": {
      "image/png": "[encoded data removed]",
      "text/plain": [
       "<Figure size 576x576 with 2 Axes>"
      ]
     },
     "metadata": {},
     "output_type": "display_data"
    }
   ],
   "source": [
    "# Correlation table\n",
    "sns.set(font_scale = 1.25)\n",
    "correlation_matrix = df_train[desired_features].corr()\n",
    "plt.figure(figsize=(8,8))\n",
    "ax = sns.heatmap(correlation_matrix, vmax=1, cbar=True, square=True, annot=True, fmt='.2f', \n",
    "                 annot_kws={'size': 12}, cmap='coolwarm')\n",
    "ax.xaxis.set_ticks_position('top')\n",
    "plt.yticks(rotation=0)\n",
    "plt.xticks(rotation=90)\n",
    "plt.show()"
   ]
  },
  {
   "cell_type": "markdown",
   "id": "a904bd01",
   "metadata": {},
   "source": [
    "* `AIR_TIME` and `DISTANCE` highly correlated, we may select one of them. \n",
    "* Numeric variables are not seriously correlated with Target variable."
   ]
  },
  {
   "cell_type": "markdown",
   "id": "3ba15388",
   "metadata": {},
   "source": [
    "## 3.0 `FL_DATE` \n",
    "\n",
    "`FL_DATE`: Flight Date (yyyymmdd)"
   ]
  },
  {
   "cell_type": "code",
   "execution_count": 41,
   "id": "648177eb",
   "metadata": {
    "scrolled": true
   },
   "outputs": [
    {
     "data": {
      "text/plain": [
       "<AxesSubplot:>"
      ]
     },
     "execution_count": 41,
     "metadata": {},
     "output_type": "execute_result"
    },
    {
     "data": {
      "image/png": "[encoded data removed]",
      "text/plain": [
       "<Figure size 1152x288 with 1 Axes>"
      ]
     },
     "metadata": {},
     "output_type": "display_data"
    }
   ],
   "source": [
    "df_plot = df_train['FL_DATE'].value_counts().sort_index()\n",
    "\n",
    "min_date = df_train['FL_DATE'].min()\n",
    "max_date = df_train['FL_DATE'].max()\n",
    "\n",
    "plt.figure(figsize=(16,4))\n",
    "df_plot.plot()"
   ]
  },
  {
   "cell_type": "code",
   "execution_count": 42,
   "id": "cfdc54e1",
   "metadata": {},
   "outputs": [
    {
     "data": {
      "text/plain": [
       "<AxesSubplot:title={'center':'Daily Flights'}>"
      ]
     },
     "execution_count": 42,
     "metadata": {},
     "output_type": "execute_result"
    },
    {
     "data": {
      "image/png": "[encoded data removed]",
      "text/plain": [
       "<Figure size 1440x576 with 1 Axes>"
      ]
     },
     "metadata": {},
     "output_type": "display_data"
    }
   ],
   "source": [
    "#Look Closer first 3 months\n",
    "cnd = df_train['FL_DATE']<'2018-10-01'\n",
    "df_plot = df_train.loc[cnd,'FL_DATE'].value_counts().sort_index()\n",
    "\n",
    "plt.figure(figsize=(20,8))\n",
    "df_plot.plot(title = 'Daily Flights')"
   ]
  },
  {
   "cell_type": "markdown",
   "id": "aa82ec06",
   "metadata": {},
   "source": [
    "It is obvious that there is a weekly periodicity for the data, they may affect the delay. Let's create a new feature and checked it. "
   ]
  },
  {
   "cell_type": "code",
   "execution_count": 43,
   "id": "0d6c5cb2",
   "metadata": {
    "scrolled": true
   },
   "outputs": [
    {
     "data": {
      "text/html": [
       "<div>\n",
       "<style scoped>\n",
       "    .dataframe tbody tr th:only-of-type {\n",
       "        vertical-align: middle;\n",
       "    }\n",
       "\n",
       "    .dataframe tbody tr th {\n",
       "        vertical-align: top;\n",
       "    }\n",
       "\n",
       "    .dataframe thead th {\n",
       "        text-align: right;\n",
       "    }\n",
       "</style>\n",
       "<table border=\"1\" class=\"dataframe\">\n",
       "  <thead>\n",
       "    <tr style=\"text-align: right;\">\n",
       "      <th></th>\n",
       "      <th>FL_DATE</th>\n",
       "      <th>DAYOFWEEK</th>\n",
       "      <th>MONTH</th>\n",
       "    </tr>\n",
       "  </thead>\n",
       "  <tbody>\n",
       "    <tr>\n",
       "      <th>3908386</th>\n",
       "      <td>2019-01-13</td>\n",
       "      <td>6</td>\n",
       "      <td>1</td>\n",
       "    </tr>\n",
       "    <tr>\n",
       "      <th>6799273</th>\n",
       "      <td>2019-06-07</td>\n",
       "      <td>4</td>\n",
       "      <td>6</td>\n",
       "    </tr>\n",
       "    <tr>\n",
       "      <th>5574915</th>\n",
       "      <td>2019-04-08</td>\n",
       "      <td>0</td>\n",
       "      <td>4</td>\n",
       "    </tr>\n",
       "    <tr>\n",
       "      <th>1743121</th>\n",
       "      <td>2018-09-24</td>\n",
       "      <td>0</td>\n",
       "      <td>9</td>\n",
       "    </tr>\n",
       "  </tbody>\n",
       "</table>\n",
       "</div>"
      ],
      "text/plain": [
       "           FL_DATE  DAYOFWEEK  MONTH\n",
       "3908386 2019-01-13          6      1\n",
       "6799273 2019-06-07          4      6\n",
       "5574915 2019-04-08          0      4\n",
       "1743121 2018-09-24          0      9"
      ]
     },
     "execution_count": 43,
     "metadata": {},
     "output_type": "execute_result"
    }
   ],
   "source": [
    "df_train['DAYOFWEEK'] = df_train['FL_DATE'].dt.dayofweek\n",
    "df_train['MONTH'] = df_train['FL_DATE'].dt.month\n",
    "df_train[['FL_DATE','DAYOFWEEK','MONTH']].sample(4)"
   ]
  },
  {
   "cell_type": "markdown",
   "id": "02d8b913",
   "metadata": {},
   "source": [
    "<b> Q. Which week days have lower/higher delayed flight rates? </b> "
   ]
  },
  {
   "cell_type": "code",
   "execution_count": 44,
   "id": "8afbb6dd",
   "metadata": {
    "scrolled": false
   },
   "outputs": [
    {
     "data": {
      "text/html": [
       "<div>\n",
       "<style scoped>\n",
       "    .dataframe tbody tr th:only-of-type {\n",
       "        vertical-align: middle;\n",
       "    }\n",
       "\n",
       "    .dataframe tbody tr th {\n",
       "        vertical-align: top;\n",
       "    }\n",
       "\n",
       "    .dataframe thead th {\n",
       "        text-align: right;\n",
       "    }\n",
       "</style>\n",
       "<table border=\"1\" class=\"dataframe\">\n",
       "  <thead>\n",
       "    <tr style=\"text-align: right;\">\n",
       "      <th></th>\n",
       "      <th>COUNT</th>\n",
       "      <th>DELAYED</th>\n",
       "      <th>RATE</th>\n",
       "    </tr>\n",
       "    <tr>\n",
       "      <th>DAYOFWEEK</th>\n",
       "      <th></th>\n",
       "      <th></th>\n",
       "      <th></th>\n",
       "    </tr>\n",
       "  </thead>\n",
       "  <tbody>\n",
       "    <tr>\n",
       "      <th>2</th>\n",
       "      <td>806794</td>\n",
       "      <td>140741</td>\n",
       "      <td>17.44</td>\n",
       "    </tr>\n",
       "    <tr>\n",
       "      <th>5</th>\n",
       "      <td>665692</td>\n",
       "      <td>117042</td>\n",
       "      <td>17.58</td>\n",
       "    </tr>\n",
       "    <tr>\n",
       "      <th>1</th>\n",
       "      <td>798754</td>\n",
       "      <td>141257</td>\n",
       "      <td>17.68</td>\n",
       "    </tr>\n",
       "    <tr>\n",
       "      <th>6</th>\n",
       "      <td>792661</td>\n",
       "      <td>152346</td>\n",
       "      <td>19.22</td>\n",
       "    </tr>\n",
       "    <tr>\n",
       "      <th>0</th>\n",
       "      <td>817996</td>\n",
       "      <td>161038</td>\n",
       "      <td>19.69</td>\n",
       "    </tr>\n",
       "    <tr>\n",
       "      <th>3</th>\n",
       "      <td>819722</td>\n",
       "      <td>171177</td>\n",
       "      <td>20.88</td>\n",
       "    </tr>\n",
       "    <tr>\n",
       "      <th>4</th>\n",
       "      <td>826976</td>\n",
       "      <td>176093</td>\n",
       "      <td>21.29</td>\n",
       "    </tr>\n",
       "  </tbody>\n",
       "</table>\n",
       "</div>"
      ],
      "text/plain": [
       "            COUNT  DELAYED   RATE\n",
       "DAYOFWEEK                        \n",
       "2          806794   140741  17.44\n",
       "5          665692   117042  17.58\n",
       "1          798754   141257  17.68\n",
       "6          792661   152346  19.22\n",
       "0          817996   161038  19.69\n",
       "3          819722   171177  20.88\n",
       "4          826976   176093  21.29"
      ]
     },
     "execution_count": 44,
     "metadata": {},
     "output_type": "execute_result"
    }
   ],
   "source": [
    "a = pd.concat([\n",
    "    pd.DataFrame(df_train.groupby('DAYOFWEEK')['DELAYED'].count()).rename(columns={'DELAYED':'COUNT'}),\n",
    "    pd.DataFrame(df_train.groupby('DAYOFWEEK')['DELAYED'].sum())\n",
    "],axis = 1\n",
    ")\n",
    "a['RATE'] = (a['DELAYED']/a['COUNT']*100).round(2)\n",
    "a.sort_values(by='RATE')\n"
   ]
  },
  {
   "cell_type": "markdown",
   "id": "8632323e",
   "metadata": {},
   "source": [
    "with respect to overall delayed rate(%19.17) in the training dataset;\n",
    "* Wednesday, Saturday and Tuesday has lower DELAYED flight rates <br>\n",
    "* Saturday and Monday have almost similar rate <br>\n",
    "* Thursday and Friday has higher DELAYED flight rates <br>"
   ]
  },
  {
   "cell_type": "markdown",
   "id": "3456303f",
   "metadata": {},
   "source": [
    "<b> Q. Which Months have lower/higher delayed flight rates? </b> "
   ]
  },
  {
   "cell_type": "code",
   "execution_count": 45,
   "id": "b798bdba",
   "metadata": {
    "scrolled": false
   },
   "outputs": [
    {
     "data": {
      "text/html": [
       "<div>\n",
       "<style scoped>\n",
       "    .dataframe tbody tr th:only-of-type {\n",
       "        vertical-align: middle;\n",
       "    }\n",
       "\n",
       "    .dataframe tbody tr th {\n",
       "        vertical-align: top;\n",
       "    }\n",
       "\n",
       "    .dataframe thead th {\n",
       "        text-align: right;\n",
       "    }\n",
       "</style>\n",
       "<table border=\"1\" class=\"dataframe\">\n",
       "  <thead>\n",
       "    <tr style=\"text-align: right;\">\n",
       "      <th></th>\n",
       "      <th>COUNT</th>\n",
       "      <th>DELAYED</th>\n",
       "      <th>COUNT_RANK(ASC)</th>\n",
       "      <th>DELAYED_RANK(ASC)</th>\n",
       "      <th>RATE</th>\n",
       "    </tr>\n",
       "    <tr>\n",
       "      <th>MONTH</th>\n",
       "      <th></th>\n",
       "      <th></th>\n",
       "      <th></th>\n",
       "      <th></th>\n",
       "      <th></th>\n",
       "    </tr>\n",
       "  </thead>\n",
       "  <tbody>\n",
       "    <tr>\n",
       "      <th>9</th>\n",
       "      <td>445641</td>\n",
       "      <td>66100</td>\n",
       "      <td>3.0</td>\n",
       "      <td>1.0</td>\n",
       "      <td>14.83</td>\n",
       "    </tr>\n",
       "    <tr>\n",
       "      <th>10</th>\n",
       "      <td>473180</td>\n",
       "      <td>70860</td>\n",
       "      <td>7.0</td>\n",
       "      <td>2.0</td>\n",
       "      <td>14.98</td>\n",
       "    </tr>\n",
       "    <tr>\n",
       "      <th>3</th>\n",
       "      <td>477178</td>\n",
       "      <td>83946</td>\n",
       "      <td>8.0</td>\n",
       "      <td>6.0</td>\n",
       "      <td>17.59</td>\n",
       "    </tr>\n",
       "    <tr>\n",
       "      <th>1</th>\n",
       "      <td>436546</td>\n",
       "      <td>76949</td>\n",
       "      <td>2.0</td>\n",
       "      <td>3.0</td>\n",
       "      <td>17.63</td>\n",
       "    </tr>\n",
       "    <tr>\n",
       "      <th>11</th>\n",
       "      <td>447256</td>\n",
       "      <td>80255</td>\n",
       "      <td>4.0</td>\n",
       "      <td>4.0</td>\n",
       "      <td>17.94</td>\n",
       "    </tr>\n",
       "    <tr>\n",
       "      <th>12</th>\n",
       "      <td>452784</td>\n",
       "      <td>81601</td>\n",
       "      <td>5.0</td>\n",
       "      <td>5.0</td>\n",
       "      <td>18.02</td>\n",
       "    </tr>\n",
       "    <tr>\n",
       "      <th>4</th>\n",
       "      <td>462111</td>\n",
       "      <td>84472</td>\n",
       "      <td>6.0</td>\n",
       "      <td>7.0</td>\n",
       "      <td>18.28</td>\n",
       "    </tr>\n",
       "    <tr>\n",
       "      <th>5</th>\n",
       "      <td>483157</td>\n",
       "      <td>98698</td>\n",
       "      <td>10.0</td>\n",
       "      <td>9.0</td>\n",
       "      <td>20.43</td>\n",
       "    </tr>\n",
       "    <tr>\n",
       "      <th>2</th>\n",
       "      <td>399478</td>\n",
       "      <td>86571</td>\n",
       "      <td>1.0</td>\n",
       "      <td>8.0</td>\n",
       "      <td>21.67</td>\n",
       "    </tr>\n",
       "    <tr>\n",
       "      <th>8</th>\n",
       "      <td>485125</td>\n",
       "      <td>105306</td>\n",
       "      <td>11.0</td>\n",
       "      <td>10.0</td>\n",
       "      <td>21.71</td>\n",
       "    </tr>\n",
       "    <tr>\n",
       "      <th>7</th>\n",
       "      <td>486380</td>\n",
       "      <td>108889</td>\n",
       "      <td>12.0</td>\n",
       "      <td>11.0</td>\n",
       "      <td>22.39</td>\n",
       "    </tr>\n",
       "    <tr>\n",
       "      <th>6</th>\n",
       "      <td>479759</td>\n",
       "      <td>116047</td>\n",
       "      <td>9.0</td>\n",
       "      <td>12.0</td>\n",
       "      <td>24.19</td>\n",
       "    </tr>\n",
       "  </tbody>\n",
       "</table>\n",
       "</div>"
      ],
      "text/plain": [
       "        COUNT  DELAYED  COUNT_RANK(ASC)  DELAYED_RANK(ASC)   RATE\n",
       "MONTH                                                            \n",
       "9      445641    66100              3.0                1.0  14.83\n",
       "10     473180    70860              7.0                2.0  14.98\n",
       "3      477178    83946              8.0                6.0  17.59\n",
       "1      436546    76949              2.0                3.0  17.63\n",
       "11     447256    80255              4.0                4.0  17.94\n",
       "12     452784    81601              5.0                5.0  18.02\n",
       "4      462111    84472              6.0                7.0  18.28\n",
       "5      483157    98698             10.0                9.0  20.43\n",
       "2      399478    86571              1.0                8.0  21.67\n",
       "8      485125   105306             11.0               10.0  21.71\n",
       "7      486380   108889             12.0               11.0  22.39\n",
       "6      479759   116047              9.0               12.0  24.19"
      ]
     },
     "execution_count": 45,
     "metadata": {},
     "output_type": "execute_result"
    }
   ],
   "source": [
    "a = pd.concat([\n",
    "    pd.DataFrame(df_train.groupby('MONTH')['DELAYED'].count()).rename(columns={'DELAYED':'COUNT'}),    \n",
    "    pd.DataFrame(df_train.groupby('MONTH')['DELAYED'].sum()),\n",
    "    pd.DataFrame(df_train.groupby('MONTH')['DELAYED'].count()).rank().rename(columns={'DELAYED':'COUNT_RANK(ASC)'}),\n",
    "    pd.DataFrame(df_train.groupby('MONTH')['DELAYED'].sum()).rank().rename(columns={'DELAYED':'DELAYED_RANK(ASC)'}),\n",
    "],axis = 1\n",
    ")\n",
    "a['RATE'] = (a['DELAYED']/a['COUNT']*100).round(2)\n",
    "a.sort_values(by='RATE')"
   ]
  },
  {
   "cell_type": "markdown",
   "id": "e1b6fc62",
   "metadata": {},
   "source": [
    "* <b>Summer Flights, especially June and July, have the highest</b> DELAYED rate compared to other seasons\n",
    "* <b>September and October has the far away lowest</b> DELAYED rate\n"
   ]
  },
  {
   "cell_type": "code",
   "execution_count": 46,
   "id": "04757875",
   "metadata": {},
   "outputs": [],
   "source": [
    "# Add 'FL_DATE' into excluded_cols list\n",
    "excluded_cols.append('FL_DATE')"
   ]
  },
  {
   "cell_type": "markdown",
   "id": "fe447448",
   "metadata": {},
   "source": [
    "## 3.1 `OP_UNIQUE_CARRIER` \n",
    "\n",
    "`OP_UNIQUE_CARRIER`: Unique Carrier Code"
   ]
  },
  {
   "cell_type": "markdown",
   "id": "d97d87e9",
   "metadata": {},
   "source": [
    "<b> Q. Which Carrier have lower/higher delayed flight rates? </b> "
   ]
  },
  {
   "cell_type": "code",
   "execution_count": 47,
   "id": "d822f611",
   "metadata": {
    "scrolled": false
   },
   "outputs": [
    {
     "data": {
      "text/html": [
       "<div>\n",
       "<style scoped>\n",
       "    .dataframe tbody tr th:only-of-type {\n",
       "        vertical-align: middle;\n",
       "    }\n",
       "\n",
       "    .dataframe tbody tr th {\n",
       "        vertical-align: top;\n",
       "    }\n",
       "\n",
       "    .dataframe thead th {\n",
       "        text-align: right;\n",
       "    }\n",
       "</style>\n",
       "<table border=\"1\" class=\"dataframe\">\n",
       "  <thead>\n",
       "    <tr style=\"text-align: right;\">\n",
       "      <th></th>\n",
       "      <th>COUNT</th>\n",
       "      <th>DELAYED</th>\n",
       "      <th>RATE</th>\n",
       "    </tr>\n",
       "    <tr>\n",
       "      <th>OP_UNIQUE_CARRIER</th>\n",
       "      <th></th>\n",
       "      <th></th>\n",
       "      <th></th>\n",
       "    </tr>\n",
       "  </thead>\n",
       "  <tbody>\n",
       "    <tr>\n",
       "      <th>DL</th>\n",
       "      <td>964821</td>\n",
       "      <td>138501</td>\n",
       "      <td>14.36</td>\n",
       "    </tr>\n",
       "    <tr>\n",
       "      <th>YX</th>\n",
       "      <td>310451</td>\n",
       "      <td>51023</td>\n",
       "      <td>16.44</td>\n",
       "    </tr>\n",
       "    <tr>\n",
       "      <th>OO</th>\n",
       "      <td>788996</td>\n",
       "      <td>138738</td>\n",
       "      <td>17.58</td>\n",
       "    </tr>\n",
       "    <tr>\n",
       "      <th>MQ</th>\n",
       "      <td>300794</td>\n",
       "      <td>54726</td>\n",
       "      <td>18.19</td>\n",
       "    </tr>\n",
       "    <tr>\n",
       "      <th>UA</th>\n",
       "      <td>627100</td>\n",
       "      <td>121141</td>\n",
       "      <td>19.32</td>\n",
       "    </tr>\n",
       "    <tr>\n",
       "      <th>AA</th>\n",
       "      <td>912072</td>\n",
       "      <td>187294</td>\n",
       "      <td>20.54</td>\n",
       "    </tr>\n",
       "    <tr>\n",
       "      <th>WN</th>\n",
       "      <td>1328677</td>\n",
       "      <td>291874</td>\n",
       "      <td>21.97</td>\n",
       "    </tr>\n",
       "    <tr>\n",
       "      <th>B6</th>\n",
       "      <td>295684</td>\n",
       "      <td>76397</td>\n",
       "      <td>25.84</td>\n",
       "    </tr>\n",
       "  </tbody>\n",
       "</table>\n",
       "</div>"
      ],
      "text/plain": [
       "                     COUNT  DELAYED   RATE\n",
       "OP_UNIQUE_CARRIER                         \n",
       "DL                  964821   138501  14.36\n",
       "YX                  310451    51023  16.44\n",
       "OO                  788996   138738  17.58\n",
       "MQ                  300794    54726  18.19\n",
       "UA                  627100   121141  19.32\n",
       "AA                  912072   187294  20.54\n",
       "WN                 1328677   291874  21.97\n",
       "B6                  295684    76397  25.84"
      ]
     },
     "execution_count": 47,
     "metadata": {},
     "output_type": "execute_result"
    }
   ],
   "source": [
    "a = pd.concat([\n",
    "    pd.DataFrame(df_train.groupby('OP_UNIQUE_CARRIER')['DELAYED'].count()).rename(columns={'DELAYED':'COUNT'}),\n",
    "    pd.DataFrame(df_train.groupby('OP_UNIQUE_CARRIER')['DELAYED'].sum())\n",
    "],axis = 1\n",
    ")\n",
    "a['RATE'] = (a['DELAYED']/a['COUNT']*100).round(2)\n",
    "a.sort_values(by='RATE')"
   ]
  },
  {
   "cell_type": "markdown",
   "id": "95d35766",
   "metadata": {},
   "source": [
    "* <b>DL has best</b> rate whereas <b>B6 has the worst</b> rate in terms of target value"
   ]
  },
  {
   "cell_type": "markdown",
   "id": "c5f3bf3a",
   "metadata": {},
   "source": [
    "## 3.2 `OP_CARRIER_FL_NUM` \n",
    "\n",
    "`OP_CARRIER_FL_NUM`: Flight Number"
   ]
  },
  {
   "cell_type": "code",
   "execution_count": 48,
   "id": "2cc99908",
   "metadata": {
    "scrolled": true
   },
   "outputs": [
    {
     "name": "stdout",
     "output_type": "stream",
     "text": [
      "shape: (5528595, 1)\n"
     ]
    },
    {
     "data": {
      "text/html": [
       "<div>\n",
       "<style scoped>\n",
       "    .dataframe tbody tr th:only-of-type {\n",
       "        vertical-align: middle;\n",
       "    }\n",
       "\n",
       "    .dataframe tbody tr th {\n",
       "        vertical-align: top;\n",
       "    }\n",
       "\n",
       "    .dataframe thead th {\n",
       "        text-align: right;\n",
       "    }\n",
       "</style>\n",
       "<table border=\"1\" class=\"dataframe\">\n",
       "  <thead>\n",
       "    <tr style=\"text-align: right;\">\n",
       "      <th></th>\n",
       "      <th>column</th>\n",
       "      <th>dtypes</th>\n",
       "      <th>count</th>\n",
       "      <th>nunique</th>\n",
       "      <th>sum_null</th>\n",
       "      <th>null_ratio</th>\n",
       "    </tr>\n",
       "  </thead>\n",
       "  <tbody>\n",
       "    <tr>\n",
       "      <th>0</th>\n",
       "      <td>OP_CARRIER_FL_NUM</td>\n",
       "      <td>int64</td>\n",
       "      <td>5528595</td>\n",
       "      <td>7064</td>\n",
       "      <td>0</td>\n",
       "      <td>0.0</td>\n",
       "    </tr>\n",
       "  </tbody>\n",
       "</table>\n",
       "</div>"
      ],
      "text/plain": [
       "              column dtypes    count  nunique  sum_null  null_ratio\n",
       "0  OP_CARRIER_FL_NUM  int64  5528595     7064         0         0.0"
      ]
     },
     "execution_count": 48,
     "metadata": {},
     "output_type": "execute_result"
    }
   ],
   "source": [
    "df_check(df_train[['OP_CARRIER_FL_NUM']])"
   ]
  },
  {
   "cell_type": "code",
   "execution_count": 49,
   "id": "dafc3c0b",
   "metadata": {},
   "outputs": [
    {
     "data": {
      "text/plain": [
       "count    7064.000000\n",
       "mean      782.643686\n",
       "std       555.704321\n",
       "min         7.000000\n",
       "25%       341.000000\n",
       "50%       668.000000\n",
       "75%      1219.000000\n",
       "max      2707.000000\n",
       "Name: OP_CARRIER_FL_NUM, dtype: float64"
      ]
     },
     "execution_count": 49,
     "metadata": {},
     "output_type": "execute_result"
    }
   ],
   "source": [
    "df_train['OP_CARRIER_FL_NUM'].value_counts().describe()"
   ]
  },
  {
   "cell_type": "code",
   "execution_count": 50,
   "id": "31d87fb0",
   "metadata": {},
   "outputs": [
    {
     "data": {
      "text/plain": [
       "<AxesSubplot:xlabel='DELAYED', ylabel='OP_CARRIER_FL_NUM'>"
      ]
     },
     "execution_count": 50,
     "metadata": {},
     "output_type": "execute_result"
    },
    {
     "data": {
      "image/png": "[encoded data removed]",
      "text/plain": [
       "<Figure size 432x288 with 1 Axes>"
      ]
     },
     "metadata": {},
     "output_type": "display_data"
    }
   ],
   "source": [
    "sns.boxplot(x=df_train['DELAYED'],y=df_train['OP_CARRIER_FL_NUM'])"
   ]
  },
  {
   "cell_type": "code",
   "execution_count": 51,
   "id": "39458c85",
   "metadata": {
    "scrolled": true
   },
   "outputs": [
    {
     "data": {
      "text/html": [
       "<div>\n",
       "<style scoped>\n",
       "    .dataframe tbody tr th:only-of-type {\n",
       "        vertical-align: middle;\n",
       "    }\n",
       "\n",
       "    .dataframe tbody tr th {\n",
       "        vertical-align: top;\n",
       "    }\n",
       "\n",
       "    .dataframe thead th {\n",
       "        text-align: right;\n",
       "    }\n",
       "</style>\n",
       "<table border=\"1\" class=\"dataframe\">\n",
       "  <thead>\n",
       "    <tr style=\"text-align: right;\">\n",
       "      <th></th>\n",
       "      <th>OP_CARRIER_FL_NUM</th>\n",
       "      <th>DELAYED</th>\n",
       "    </tr>\n",
       "  </thead>\n",
       "  <tbody>\n",
       "    <tr>\n",
       "      <th>OP_CARRIER_FL_NUM</th>\n",
       "      <td>1.000000</td>\n",
       "      <td>-0.012087</td>\n",
       "    </tr>\n",
       "    <tr>\n",
       "      <th>DELAYED</th>\n",
       "      <td>-0.012087</td>\n",
       "      <td>1.000000</td>\n",
       "    </tr>\n",
       "  </tbody>\n",
       "</table>\n",
       "</div>"
      ],
      "text/plain": [
       "                   OP_CARRIER_FL_NUM   DELAYED\n",
       "OP_CARRIER_FL_NUM           1.000000 -0.012087\n",
       "DELAYED                    -0.012087  1.000000"
      ]
     },
     "execution_count": 51,
     "metadata": {},
     "output_type": "execute_result"
    }
   ],
   "source": [
    "df_train[['OP_CARRIER_FL_NUM','DELAYED']].corr()"
   ]
  },
  {
   "cell_type": "markdown",
   "id": "c4f80349",
   "metadata": {},
   "source": [
    "This feature seems irrevelant to target, I won't use it."
   ]
  },
  {
   "cell_type": "code",
   "execution_count": 52,
   "id": "b41e1004",
   "metadata": {},
   "outputs": [],
   "source": [
    "# Add 'OP_CARRIER_FL_NUM' into excluded_cols list\n",
    "excluded_cols.append('OP_CARRIER_FL_NUM')"
   ]
  },
  {
   "cell_type": "markdown",
   "id": "c1e32174",
   "metadata": {},
   "source": [
    "## 3.3 `ORIGIN`  & `DEST` \n",
    "\n",
    "`ORIGIN`: Origin Airport Code <br>\n",
    "`DEST`: Destination Airport Code"
   ]
  },
  {
   "cell_type": "code",
   "execution_count": 53,
   "id": "8465c68c",
   "metadata": {
    "scrolled": false
   },
   "outputs": [
    {
     "name": "stdout",
     "output_type": "stream",
     "text": [
      "shape: (5528595, 1)\n",
      "shape: (5528595, 1)\n"
     ]
    },
    {
     "data": {
      "text/html": [
       "<div>\n",
       "<style scoped>\n",
       "    .dataframe tbody tr th:only-of-type {\n",
       "        vertical-align: middle;\n",
       "    }\n",
       "\n",
       "    .dataframe tbody tr th {\n",
       "        vertical-align: top;\n",
       "    }\n",
       "\n",
       "    .dataframe thead th {\n",
       "        text-align: right;\n",
       "    }\n",
       "</style>\n",
       "<table border=\"1\" class=\"dataframe\">\n",
       "  <thead>\n",
       "    <tr style=\"text-align: right;\">\n",
       "      <th></th>\n",
       "      <th>column</th>\n",
       "      <th>dtypes</th>\n",
       "      <th>count</th>\n",
       "      <th>nunique</th>\n",
       "      <th>sum_null</th>\n",
       "      <th>null_ratio</th>\n",
       "    </tr>\n",
       "  </thead>\n",
       "  <tbody>\n",
       "    <tr>\n",
       "      <th>0</th>\n",
       "      <td>ORIGIN</td>\n",
       "      <td>object</td>\n",
       "      <td>5528595</td>\n",
       "      <td>316</td>\n",
       "      <td>0</td>\n",
       "      <td>0.0</td>\n",
       "    </tr>\n",
       "    <tr>\n",
       "      <th>0</th>\n",
       "      <td>DEST</td>\n",
       "      <td>object</td>\n",
       "      <td>5528595</td>\n",
       "      <td>316</td>\n",
       "      <td>0</td>\n",
       "      <td>0.0</td>\n",
       "    </tr>\n",
       "  </tbody>\n",
       "</table>\n",
       "</div>"
      ],
      "text/plain": [
       "   column  dtypes    count  nunique  sum_null  null_ratio\n",
       "0  ORIGIN  object  5528595      316         0         0.0\n",
       "0    DEST  object  5528595      316         0         0.0"
      ]
     },
     "execution_count": 53,
     "metadata": {},
     "output_type": "execute_result"
    }
   ],
   "source": [
    "pd.concat([\n",
    "    df_check(df_train[['ORIGIN']]),\n",
    "    df_check(df_train[['DEST']]),\n",
    "]\n",
    ")"
   ]
  },
  {
   "cell_type": "markdown",
   "id": "eeffba84",
   "metadata": {},
   "source": [
    "The number of departure and arrival flights may affect on target. Since we have 316 airpots, I will convert encode them into rank with respect to lowest delayed rate rate to highest."
   ]
  },
  {
   "cell_type": "code",
   "execution_count": 54,
   "id": "a2b51cb8",
   "metadata": {},
   "outputs": [],
   "source": [
    "# Create the ranks for ORIGIN and DEST with respect to DELAYED mean\n",
    "df_org_del_mean = pd.DataFrame(df_train.groupby('ORIGIN')['DELAYED'].mean().rank()).rename(columns={'DELAYED':'ORG_DEL_MEAN_RNK'})\n",
    "df_des_del_mean = pd.DataFrame(df_train.groupby('DEST')['DELAYED'].mean().rank()).rename(columns={'DELAYED':'DES_DEL_MEAN_RNK'})"
   ]
  },
  {
   "cell_type": "code",
   "execution_count": 55,
   "id": "4e7159d7",
   "metadata": {},
   "outputs": [],
   "source": [
    "# Add the new feature called ORG_DEL_MEAN_RNK\n",
    "df_train = pd.merge(df_train,\n",
    "                    df_org_del_mean['ORG_DEL_MEAN_RNK'],\n",
    "                    left_on='ORIGIN', \n",
    "                    right_index=True\n",
    "                   )\n",
    "\n",
    "# Add the new feature called DES_DEL_MEAN_RNK\n",
    "df_train = pd.merge(df_train,\n",
    "                    df_des_del_mean['DES_DEL_MEAN_RNK'],\n",
    "                    left_on='DEST', \n",
    "                    right_index=True\n",
    "                   )"
   ]
  },
  {
   "cell_type": "markdown",
   "id": "d1b962e0",
   "metadata": {},
   "source": [
    "As the number of flights increases, the delay may increase. Therefore, I will create a temporary column called TOTAL_FL.<br>\n",
    "\n",
    "RANK_TOTAL_FL is the rank with respect to TOTAL_FL."
   ]
  },
  {
   "cell_type": "code",
   "execution_count": 56,
   "id": "65823ec8",
   "metadata": {
    "scrolled": true
   },
   "outputs": [
    {
     "data": {
      "text/html": [
       "<div>\n",
       "<style scoped>\n",
       "    .dataframe tbody tr th:only-of-type {\n",
       "        vertical-align: middle;\n",
       "    }\n",
       "\n",
       "    .dataframe tbody tr th {\n",
       "        vertical-align: top;\n",
       "    }\n",
       "\n",
       "    .dataframe thead th {\n",
       "        text-align: right;\n",
       "    }\n",
       "</style>\n",
       "<table border=\"1\" class=\"dataframe\">\n",
       "  <thead>\n",
       "    <tr style=\"text-align: right;\">\n",
       "      <th></th>\n",
       "      <th>COUNT_ORIGIN</th>\n",
       "      <th>COUNT_DEST</th>\n",
       "      <th>TOTAL_FL</th>\n",
       "      <th>RANK_TOTAL_FL</th>\n",
       "      <th>DELAYED</th>\n",
       "    </tr>\n",
       "  </thead>\n",
       "  <tbody>\n",
       "    <tr>\n",
       "      <th>ATL</th>\n",
       "      <td>336715</td>\n",
       "      <td>336677</td>\n",
       "      <td>673392</td>\n",
       "      <td>316.0</td>\n",
       "      <td>0.177159</td>\n",
       "    </tr>\n",
       "    <tr>\n",
       "      <th>ORD</th>\n",
       "      <td>297740</td>\n",
       "      <td>297133</td>\n",
       "      <td>594873</td>\n",
       "      <td>315.0</td>\n",
       "      <td>0.224421</td>\n",
       "    </tr>\n",
       "    <tr>\n",
       "      <th>DFW</th>\n",
       "      <td>224730</td>\n",
       "      <td>224452</td>\n",
       "      <td>449182</td>\n",
       "      <td>314.0</td>\n",
       "      <td>0.233066</td>\n",
       "    </tr>\n",
       "    <tr>\n",
       "      <th>DEN</th>\n",
       "      <td>207982</td>\n",
       "      <td>207859</td>\n",
       "      <td>415841</td>\n",
       "      <td>313.0</td>\n",
       "      <td>0.202460</td>\n",
       "    </tr>\n",
       "    <tr>\n",
       "      <th>LAX</th>\n",
       "      <td>184270</td>\n",
       "      <td>184152</td>\n",
       "      <td>368422</td>\n",
       "      <td>312.0</td>\n",
       "      <td>0.189287</td>\n",
       "    </tr>\n",
       "  </tbody>\n",
       "</table>\n",
       "</div>"
      ],
      "text/plain": [
       "     COUNT_ORIGIN  COUNT_DEST  TOTAL_FL  RANK_TOTAL_FL   DELAYED\n",
       "ATL        336715      336677    673392          316.0  0.177159\n",
       "ORD        297740      297133    594873          315.0  0.224421\n",
       "DFW        224730      224452    449182          314.0  0.233066\n",
       "DEN        207982      207859    415841          313.0  0.202460\n",
       "LAX        184270      184152    368422          312.0  0.189287"
      ]
     },
     "execution_count": 56,
     "metadata": {},
     "output_type": "execute_result"
    }
   ],
   "source": [
    "a = pd.concat([\n",
    "        (df_train['ORIGIN'].value_counts()).rename('COUNT_ORIGIN'),\n",
    "        #(df_train['ORIGIN'].value_counts().sort_index().rank(ascending=True)).rename('RANK_ORIGIN'),\n",
    "        (df_train['DEST'].value_counts()).rename('COUNT_DEST'),\n",
    "        #(df_train['DEST'].value_counts().sort_index().rank(ascending=True)).rename('RANK_DEST')\n",
    "],axis=1\n",
    ")\n",
    "a['TOTAL_FL'] = a['COUNT_ORIGIN'] + a['COUNT_DEST']\n",
    "\n",
    "b = pd.DataFrame(a['TOTAL_FL'].rank(ascending=True).rename('RANK_TOTAL_FL'))\n",
    "\n",
    "c = pd.DataFrame(df_train.groupby('ORIGIN')['DELAYED'].mean())\n",
    "\n",
    "df_rank_fl = pd.concat([a,b,c],axis=1)\n",
    "df_rank_fl.head(5)"
   ]
  },
  {
   "cell_type": "code",
   "execution_count": 57,
   "id": "2bb4665b",
   "metadata": {
    "scrolled": false
   },
   "outputs": [
    {
     "data": {
      "image/png": "[encoded data removed]",
      "text/plain": [
       "<Figure size 864x288 with 1 Axes>"
      ]
     },
     "metadata": {},
     "output_type": "display_data"
    }
   ],
   "source": [
    "plt.figure(figsize=(12,4))\n",
    "sns.regplot(data=df_rank_fl,x='RANK_TOTAL_FL', y='DELAYED');"
   ]
  },
  {
   "cell_type": "markdown",
   "id": "258952ad",
   "metadata": {},
   "source": [
    "There are slighly linearity between RANK_TOTAL_FL and the mean of the DELAYED.\n",
    "\n",
    "It may have a small contribution to the model, but I keep it because RANK_TOTAL_FL represents the airport density.\n",
    "Let's add this new feature to the train dataset."
   ]
  },
  {
   "cell_type": "code",
   "execution_count": 58,
   "id": "f1b9b51e",
   "metadata": {},
   "outputs": [],
   "source": [
    "# Add the new feature called RANK_TOTAL_FL\n",
    "df_train = pd.merge(df_train,\n",
    "                    df_rank_fl['RANK_TOTAL_FL'],\n",
    "                    left_on='ORIGIN', \n",
    "                    right_index=True\n",
    "                   )"
   ]
  },
  {
   "cell_type": "markdown",
   "id": "e43c4cb1",
   "metadata": {},
   "source": [
    "Therefore, we don't need the 'ORIGIN' and 'DEST' anymore. "
   ]
  },
  {
   "cell_type": "code",
   "execution_count": 59,
   "id": "09989bfd",
   "metadata": {},
   "outputs": [],
   "source": [
    "# Add 'ORIGIN' and 'DEST' into excluded_cols list\n",
    "excluded_cols.append('ORIGIN')\n",
    "excluded_cols.append('DEST')"
   ]
  },
  {
   "cell_type": "markdown",
   "id": "b3d3ecd4",
   "metadata": {},
   "source": [
    "## 3.4 `CRS_DEP_TIME`\n",
    "\n",
    "`CRS_DEP_TIME`: CRS Departure Time (local time: hhmm)<br>"
   ]
  },
  {
   "cell_type": "markdown",
   "id": "deb70490",
   "metadata": {},
   "source": [
    "CRS_DEP_TIME the only time that we can use in our model, let's check its relation between delay"
   ]
  },
  {
   "cell_type": "code",
   "execution_count": 60,
   "id": "34ffd87b",
   "metadata": {
    "scrolled": false
   },
   "outputs": [
    {
     "name": "stdout",
     "output_type": "stream",
     "text": [
      "shape: (5528595, 1)\n"
     ]
    },
    {
     "data": {
      "text/html": [
       "<div>\n",
       "<style scoped>\n",
       "    .dataframe tbody tr th:only-of-type {\n",
       "        vertical-align: middle;\n",
       "    }\n",
       "\n",
       "    .dataframe tbody tr th {\n",
       "        vertical-align: top;\n",
       "    }\n",
       "\n",
       "    .dataframe thead th {\n",
       "        text-align: right;\n",
       "    }\n",
       "</style>\n",
       "<table border=\"1\" class=\"dataframe\">\n",
       "  <thead>\n",
       "    <tr style=\"text-align: right;\">\n",
       "      <th></th>\n",
       "      <th>column</th>\n",
       "      <th>dtypes</th>\n",
       "      <th>count</th>\n",
       "      <th>nunique</th>\n",
       "      <th>sum_null</th>\n",
       "      <th>null_ratio</th>\n",
       "    </tr>\n",
       "  </thead>\n",
       "  <tbody>\n",
       "    <tr>\n",
       "      <th>0</th>\n",
       "      <td>CRS_DEP_TIME</td>\n",
       "      <td>int64</td>\n",
       "      <td>5528595</td>\n",
       "      <td>1344</td>\n",
       "      <td>0</td>\n",
       "      <td>0.0</td>\n",
       "    </tr>\n",
       "  </tbody>\n",
       "</table>\n",
       "</div>"
      ],
      "text/plain": [
       "         column dtypes    count  nunique  sum_null  null_ratio\n",
       "0  CRS_DEP_TIME  int64  5528595     1344         0         0.0"
      ]
     },
     "execution_count": 60,
     "metadata": {},
     "output_type": "execute_result"
    }
   ],
   "source": [
    "df_check(df_train[['CRS_DEP_TIME']])"
   ]
  },
  {
   "cell_type": "code",
   "execution_count": 61,
   "id": "9f111efe",
   "metadata": {
    "scrolled": false
   },
   "outputs": [
    {
     "data": {
      "text/plain": [
       "<AxesSubplot:xlabel='DELAYED', ylabel='CRS_DEP_TIME'>"
      ]
     },
     "execution_count": 61,
     "metadata": {},
     "output_type": "execute_result"
    },
    {
     "data": {
      "image/png": "[encoded data removed]",
      "text/plain": [
       "<Figure size 432x288 with 1 Axes>"
      ]
     },
     "metadata": {},
     "output_type": "display_data"
    }
   ],
   "source": [
    "sns.boxplot(x=df_train['DELAYED'],y=df_train['CRS_DEP_TIME'])"
   ]
  },
  {
   "cell_type": "markdown",
   "id": "c246ce30",
   "metadata": {},
   "source": [
    "Higher hours have higher delayed flights"
   ]
  },
  {
   "cell_type": "code",
   "execution_count": 62,
   "id": "dc93227b",
   "metadata": {},
   "outputs": [
    {
     "data": {
      "text/plain": [
       "<AxesSubplot:xlabel='CRS_DEP_TIME', ylabel='Count'>"
      ]
     },
     "execution_count": 62,
     "metadata": {},
     "output_type": "execute_result"
    },
    {
     "data": {
      "image/png": "[encoded data removed]",
      "text/plain": [
       "<Figure size 864x288 with 1 Axes>"
      ]
     },
     "metadata": {},
     "output_type": "display_data"
    }
   ],
   "source": [
    "plt.figure(figsize=(12,4))\n",
    "sns.histplot(df_train, x='CRS_DEP_TIME', bins=50, hue='DELAYED')"
   ]
  },
  {
   "cell_type": "code",
   "execution_count": 63,
   "id": "ffd912db",
   "metadata": {},
   "outputs": [
    {
     "data": {
      "text/html": [
       "<div>\n",
       "<style scoped>\n",
       "    .dataframe tbody tr th:only-of-type {\n",
       "        vertical-align: middle;\n",
       "    }\n",
       "\n",
       "    .dataframe tbody tr th {\n",
       "        vertical-align: top;\n",
       "    }\n",
       "\n",
       "    .dataframe thead th {\n",
       "        text-align: right;\n",
       "    }\n",
       "</style>\n",
       "<table border=\"1\" class=\"dataframe\">\n",
       "  <thead>\n",
       "    <tr style=\"text-align: right;\">\n",
       "      <th></th>\n",
       "      <th>CRS_DEP_TIME</th>\n",
       "      <th>CRS_DEP_HOUR</th>\n",
       "    </tr>\n",
       "  </thead>\n",
       "  <tbody>\n",
       "    <tr>\n",
       "      <th>3280825</th>\n",
       "      <td>1005</td>\n",
       "      <td>10.0</td>\n",
       "    </tr>\n",
       "    <tr>\n",
       "      <th>6599097</th>\n",
       "      <td>1026</td>\n",
       "      <td>10.0</td>\n",
       "    </tr>\n",
       "    <tr>\n",
       "      <th>1911741</th>\n",
       "      <td>1740</td>\n",
       "      <td>17.0</td>\n",
       "    </tr>\n",
       "    <tr>\n",
       "      <th>904981</th>\n",
       "      <td>1755</td>\n",
       "      <td>17.0</td>\n",
       "    </tr>\n",
       "    <tr>\n",
       "      <th>5878931</th>\n",
       "      <td>928</td>\n",
       "      <td>9.0</td>\n",
       "    </tr>\n",
       "  </tbody>\n",
       "</table>\n",
       "</div>"
      ],
      "text/plain": [
       "         CRS_DEP_TIME  CRS_DEP_HOUR\n",
       "3280825          1005          10.0\n",
       "6599097          1026          10.0\n",
       "1911741          1740          17.0\n",
       "904981           1755          17.0\n",
       "5878931           928           9.0"
      ]
     },
     "execution_count": 63,
     "metadata": {},
     "output_type": "execute_result"
    }
   ],
   "source": [
    "df_train['CRS_DEP_HOUR'] = (df_train['CRS_DEP_TIME']/100).apply(np.floor)\n",
    "\n",
    "df_train[['CRS_DEP_TIME','CRS_DEP_HOUR']].sample(5)"
   ]
  },
  {
   "cell_type": "code",
   "execution_count": 64,
   "id": "96a7a472",
   "metadata": {
    "scrolled": false
   },
   "outputs": [
    {
     "data": {
      "text/html": [
       "<div>\n",
       "<style scoped>\n",
       "    .dataframe tbody tr th:only-of-type {\n",
       "        vertical-align: middle;\n",
       "    }\n",
       "\n",
       "    .dataframe tbody tr th {\n",
       "        vertical-align: top;\n",
       "    }\n",
       "\n",
       "    .dataframe thead th {\n",
       "        text-align: right;\n",
       "    }\n",
       "</style>\n",
       "<table border=\"1\" class=\"dataframe\">\n",
       "  <thead>\n",
       "    <tr style=\"text-align: right;\">\n",
       "      <th></th>\n",
       "      <th>Count</th>\n",
       "      <th>Mean</th>\n",
       "    </tr>\n",
       "    <tr>\n",
       "      <th>CRS_DEP_HOUR</th>\n",
       "      <th></th>\n",
       "      <th></th>\n",
       "    </tr>\n",
       "  </thead>\n",
       "  <tbody>\n",
       "    <tr>\n",
       "      <th>0.0</th>\n",
       "      <td>10350</td>\n",
       "      <td>0.167536</td>\n",
       "    </tr>\n",
       "    <tr>\n",
       "      <th>1.0</th>\n",
       "      <td>3753</td>\n",
       "      <td>0.189448</td>\n",
       "    </tr>\n",
       "    <tr>\n",
       "      <th>2.0</th>\n",
       "      <td>1232</td>\n",
       "      <td>0.310065</td>\n",
       "    </tr>\n",
       "    <tr>\n",
       "      <th>3.0</th>\n",
       "      <td>1137</td>\n",
       "      <td>0.254178</td>\n",
       "    </tr>\n",
       "    <tr>\n",
       "      <th>4.0</th>\n",
       "      <td>642</td>\n",
       "      <td>0.174455</td>\n",
       "    </tr>\n",
       "    <tr>\n",
       "      <th>5.0</th>\n",
       "      <td>135517</td>\n",
       "      <td>0.061594</td>\n",
       "    </tr>\n",
       "    <tr>\n",
       "      <th>6.0</th>\n",
       "      <td>410755</td>\n",
       "      <td>0.065097</td>\n",
       "    </tr>\n",
       "    <tr>\n",
       "      <th>7.0</th>\n",
       "      <td>370671</td>\n",
       "      <td>0.087261</td>\n",
       "    </tr>\n",
       "    <tr>\n",
       "      <th>8.0</th>\n",
       "      <td>377956</td>\n",
       "      <td>0.106552</td>\n",
       "    </tr>\n",
       "    <tr>\n",
       "      <th>9.0</th>\n",
       "      <td>318916</td>\n",
       "      <td>0.131734</td>\n",
       "    </tr>\n",
       "    <tr>\n",
       "      <th>10.0</th>\n",
       "      <td>338612</td>\n",
       "      <td>0.152785</td>\n",
       "    </tr>\n",
       "    <tr>\n",
       "      <th>11.0</th>\n",
       "      <td>344555</td>\n",
       "      <td>0.168676</td>\n",
       "    </tr>\n",
       "    <tr>\n",
       "      <th>12.0</th>\n",
       "      <td>338319</td>\n",
       "      <td>0.184438</td>\n",
       "    </tr>\n",
       "    <tr>\n",
       "      <th>13.0</th>\n",
       "      <td>315935</td>\n",
       "      <td>0.206505</td>\n",
       "    </tr>\n",
       "    <tr>\n",
       "      <th>14.0</th>\n",
       "      <td>318271</td>\n",
       "      <td>0.226976</td>\n",
       "    </tr>\n",
       "    <tr>\n",
       "      <th>15.0</th>\n",
       "      <td>338008</td>\n",
       "      <td>0.233568</td>\n",
       "    </tr>\n",
       "    <tr>\n",
       "      <th>16.0</th>\n",
       "      <td>317038</td>\n",
       "      <td>0.251017</td>\n",
       "    </tr>\n",
       "    <tr>\n",
       "      <th>17.0</th>\n",
       "      <td>351101</td>\n",
       "      <td>0.262093</td>\n",
       "    </tr>\n",
       "    <tr>\n",
       "      <th>18.0</th>\n",
       "      <td>316677</td>\n",
       "      <td>0.284700</td>\n",
       "    </tr>\n",
       "    <tr>\n",
       "      <th>19.0</th>\n",
       "      <td>293052</td>\n",
       "      <td>0.292846</td>\n",
       "    </tr>\n",
       "    <tr>\n",
       "      <th>20.0</th>\n",
       "      <td>269530</td>\n",
       "      <td>0.280507</td>\n",
       "    </tr>\n",
       "    <tr>\n",
       "      <th>21.0</th>\n",
       "      <td>167875</td>\n",
       "      <td>0.285361</td>\n",
       "    </tr>\n",
       "    <tr>\n",
       "      <th>22.0</th>\n",
       "      <td>153175</td>\n",
       "      <td>0.253991</td>\n",
       "    </tr>\n",
       "    <tr>\n",
       "      <th>23.0</th>\n",
       "      <td>35518</td>\n",
       "      <td>0.227321</td>\n",
       "    </tr>\n",
       "  </tbody>\n",
       "</table>\n",
       "</div>"
      ],
      "text/plain": [
       "               Count      Mean\n",
       "CRS_DEP_HOUR                  \n",
       "0.0            10350  0.167536\n",
       "1.0             3753  0.189448\n",
       "2.0             1232  0.310065\n",
       "3.0             1137  0.254178\n",
       "4.0              642  0.174455\n",
       "5.0           135517  0.061594\n",
       "6.0           410755  0.065097\n",
       "7.0           370671  0.087261\n",
       "8.0           377956  0.106552\n",
       "9.0           318916  0.131734\n",
       "10.0          338612  0.152785\n",
       "11.0          344555  0.168676\n",
       "12.0          338319  0.184438\n",
       "13.0          315935  0.206505\n",
       "14.0          318271  0.226976\n",
       "15.0          338008  0.233568\n",
       "16.0          317038  0.251017\n",
       "17.0          351101  0.262093\n",
       "18.0          316677  0.284700\n",
       "19.0          293052  0.292846\n",
       "20.0          269530  0.280507\n",
       "21.0          167875  0.285361\n",
       "22.0          153175  0.253991\n",
       "23.0           35518  0.227321"
      ]
     },
     "execution_count": 64,
     "metadata": {},
     "output_type": "execute_result"
    }
   ],
   "source": [
    "pd.concat([\n",
    "    df_train.groupby('CRS_DEP_HOUR')['DELAYED'].count().rename('Count'),\n",
    "    df_train.groupby('CRS_DEP_HOUR')['DELAYED'].mean().rename('Mean')\n",
    "],axis=1\n",
    ")"
   ]
  },
  {
   "cell_type": "code",
   "execution_count": 65,
   "id": "edb3c7f4",
   "metadata": {},
   "outputs": [],
   "source": [
    "# Let's group the time of the Day\n",
    "# 0 : Morning, 0 <= hour < 12\n",
    "# 1 : Noon, 12 <= hour < 14\n",
    "# 2 : Afternoon 15 <= hour <= 23\n",
    "\n",
    "df_train['TIME_OF_DAY'] = df_train['CRS_DEP_HOUR'].apply(lambda x : 0 if x<12 else (1 if x<15 else 2))"
   ]
  },
  {
   "cell_type": "code",
   "execution_count": 66,
   "id": "b9c303e7",
   "metadata": {
    "scrolled": true
   },
   "outputs": [
    {
     "data": {
      "text/html": [
       "<div>\n",
       "<style scoped>\n",
       "    .dataframe tbody tr th:only-of-type {\n",
       "        vertical-align: middle;\n",
       "    }\n",
       "\n",
       "    .dataframe tbody tr th {\n",
       "        vertical-align: top;\n",
       "    }\n",
       "\n",
       "    .dataframe thead th {\n",
       "        text-align: right;\n",
       "    }\n",
       "</style>\n",
       "<table border=\"1\" class=\"dataframe\">\n",
       "  <thead>\n",
       "    <tr style=\"text-align: right;\">\n",
       "      <th></th>\n",
       "      <th>Count</th>\n",
       "      <th>Mean</th>\n",
       "    </tr>\n",
       "    <tr>\n",
       "      <th>TIME_OF_DAY</th>\n",
       "      <th></th>\n",
       "      <th></th>\n",
       "    </tr>\n",
       "  </thead>\n",
       "  <tbody>\n",
       "    <tr>\n",
       "      <th>0</th>\n",
       "      <td>2314096</td>\n",
       "      <td>0.113563</td>\n",
       "    </tr>\n",
       "    <tr>\n",
       "      <th>1</th>\n",
       "      <td>972525</td>\n",
       "      <td>0.205528</td>\n",
       "    </tr>\n",
       "    <tr>\n",
       "      <th>2</th>\n",
       "      <td>2241974</td>\n",
       "      <td>0.266291</td>\n",
       "    </tr>\n",
       "  </tbody>\n",
       "</table>\n",
       "</div>"
      ],
      "text/plain": [
       "               Count      Mean\n",
       "TIME_OF_DAY                   \n",
       "0            2314096  0.113563\n",
       "1             972525  0.205528\n",
       "2            2241974  0.266291"
      ]
     },
     "execution_count": 66,
     "metadata": {},
     "output_type": "execute_result"
    }
   ],
   "source": [
    "pd.concat([\n",
    "    df_train.groupby('TIME_OF_DAY')['DELAYED'].count().rename('Count'),\n",
    "    df_train.groupby('TIME_OF_DAY')['DELAYED'].mean().rename('Mean')\n",
    "],axis=1\n",
    ")"
   ]
  },
  {
   "cell_type": "markdown",
   "id": "86801ec0",
   "metadata": {},
   "source": [
    "Although the sum of the number of flights in the morning and in the afternoon are almost equal to each other, their average delays are noticeably different."
   ]
  },
  {
   "cell_type": "code",
   "execution_count": 67,
   "id": "f3b2535b",
   "metadata": {},
   "outputs": [
    {
     "data": {
      "text/html": [
       "<div>\n",
       "<style scoped>\n",
       "    .dataframe tbody tr th:only-of-type {\n",
       "        vertical-align: middle;\n",
       "    }\n",
       "\n",
       "    .dataframe tbody tr th {\n",
       "        vertical-align: top;\n",
       "    }\n",
       "\n",
       "    .dataframe thead th {\n",
       "        text-align: right;\n",
       "    }\n",
       "</style>\n",
       "<table border=\"1\" class=\"dataframe\">\n",
       "  <thead>\n",
       "    <tr style=\"text-align: right;\">\n",
       "      <th></th>\n",
       "      <th>CRS_DEP_TIME</th>\n",
       "      <th>CRS_DEP_HOUR</th>\n",
       "      <th>TIME_OF_DAY</th>\n",
       "    </tr>\n",
       "  </thead>\n",
       "  <tbody>\n",
       "    <tr>\n",
       "      <th>CRS_DEP_TIME</th>\n",
       "      <td>1.000000</td>\n",
       "      <td>0.999322</td>\n",
       "      <td>0.919201</td>\n",
       "    </tr>\n",
       "    <tr>\n",
       "      <th>CRS_DEP_HOUR</th>\n",
       "      <td>0.999322</td>\n",
       "      <td>1.000000</td>\n",
       "      <td>0.919698</td>\n",
       "    </tr>\n",
       "    <tr>\n",
       "      <th>TIME_OF_DAY</th>\n",
       "      <td>0.919201</td>\n",
       "      <td>0.919698</td>\n",
       "      <td>1.000000</td>\n",
       "    </tr>\n",
       "  </tbody>\n",
       "</table>\n",
       "</div>"
      ],
      "text/plain": [
       "              CRS_DEP_TIME  CRS_DEP_HOUR  TIME_OF_DAY\n",
       "CRS_DEP_TIME      1.000000      0.999322     0.919201\n",
       "CRS_DEP_HOUR      0.999322      1.000000     0.919698\n",
       "TIME_OF_DAY       0.919201      0.919698     1.000000"
      ]
     },
     "execution_count": 67,
     "metadata": {},
     "output_type": "execute_result"
    }
   ],
   "source": [
    "df_train[['CRS_DEP_TIME','CRS_DEP_HOUR','TIME_OF_DAY']].corr()"
   ]
  },
  {
   "cell_type": "markdown",
   "id": "ac930f43",
   "metadata": {},
   "source": [
    "I choose using TIME_OF_DAY instead of CRS_DEP_TIME and CRS_DEP_HOUR"
   ]
  },
  {
   "cell_type": "code",
   "execution_count": 68,
   "id": "f9d39e22",
   "metadata": {},
   "outputs": [],
   "source": [
    "# Add CRS_DEP_TIME and CRS_DEP_HOUR into excluded_cols list\n",
    "excluded_cols.append('CRS_DEP_TIME')\n",
    "excluded_cols.append('CRS_DEP_HOUR')"
   ]
  },
  {
   "cell_type": "markdown",
   "id": "50e850ab",
   "metadata": {},
   "source": [
    "## 3.5 The Other Time Features\n",
    "\n",
    "These time features are forbidden for our model, So I'm just taking a quick look.\n",
    "\n",
    "\n",
    "\n",
    "`DEP_TIME`: Actual Departure Time (local time :  hhmm)<br>\n",
    "`DEP_DELAY`: Difference in minutes between scheduled and actual departure time. Early departures show negative numbers.\n",
    "\n",
    "`CRS_ARR_TIME`: CRS Arrival Time (local time :  hhmm) <br>\n",
    "`ARR_TIME`: Actual Arrival Time (local time :  hhmm) <br>\n",
    "`ARR_DELAY`: Difference in minutes between scheduled and actual arrival time. Early arrivals show negative numbers.\n",
    "\n",
    "`CRS_ELAPSED_TIME`: CRS Elapsed Time of Flight, in Minutes<br>\n",
    "`ACTUAL_ELAPSED_TIME`: Elapsed Time of Flight, in Minutes<br>"
   ]
  },
  {
   "cell_type": "code",
   "execution_count": 69,
   "id": "9ef62af5",
   "metadata": {
    "scrolled": false
   },
   "outputs": [
    {
     "name": "stdout",
     "output_type": "stream",
     "text": [
      "shape: (5528595, 1)\n",
      "shape: (5528595, 1)\n",
      "shape: (5528595, 1)\n",
      "shape: (5528595, 1)\n",
      "shape: (5528595, 1)\n",
      "shape: (5528595, 1)\n",
      "shape: (5528595, 1)\n"
     ]
    },
    {
     "data": {
      "text/html": [
       "<div>\n",
       "<style scoped>\n",
       "    .dataframe tbody tr th:only-of-type {\n",
       "        vertical-align: middle;\n",
       "    }\n",
       "\n",
       "    .dataframe tbody tr th {\n",
       "        vertical-align: top;\n",
       "    }\n",
       "\n",
       "    .dataframe thead th {\n",
       "        text-align: right;\n",
       "    }\n",
       "</style>\n",
       "<table border=\"1\" class=\"dataframe\">\n",
       "  <thead>\n",
       "    <tr style=\"text-align: right;\">\n",
       "      <th></th>\n",
       "      <th>column</th>\n",
       "      <th>dtypes</th>\n",
       "      <th>count</th>\n",
       "      <th>nunique</th>\n",
       "      <th>sum_null</th>\n",
       "      <th>null_ratio</th>\n",
       "    </tr>\n",
       "  </thead>\n",
       "  <tbody>\n",
       "    <tr>\n",
       "      <th>0</th>\n",
       "      <td>DEP_TIME</td>\n",
       "      <td>float64</td>\n",
       "      <td>5528595</td>\n",
       "      <td>1440</td>\n",
       "      <td>0</td>\n",
       "      <td>0.0</td>\n",
       "    </tr>\n",
       "    <tr>\n",
       "      <th>0</th>\n",
       "      <td>DEP_DELAY</td>\n",
       "      <td>float64</td>\n",
       "      <td>5528595</td>\n",
       "      <td>1484</td>\n",
       "      <td>0</td>\n",
       "      <td>0.0</td>\n",
       "    </tr>\n",
       "    <tr>\n",
       "      <th>0</th>\n",
       "      <td>CRS_ARR_TIME</td>\n",
       "      <td>int64</td>\n",
       "      <td>5528595</td>\n",
       "      <td>1426</td>\n",
       "      <td>0</td>\n",
       "      <td>0.0</td>\n",
       "    </tr>\n",
       "    <tr>\n",
       "      <th>0</th>\n",
       "      <td>ARR_TIME</td>\n",
       "      <td>float64</td>\n",
       "      <td>5526457</td>\n",
       "      <td>1440</td>\n",
       "      <td>2138</td>\n",
       "      <td>0.0</td>\n",
       "    </tr>\n",
       "    <tr>\n",
       "      <th>0</th>\n",
       "      <td>ARR_DELAY</td>\n",
       "      <td>float64</td>\n",
       "      <td>5513455</td>\n",
       "      <td>1505</td>\n",
       "      <td>15140</td>\n",
       "      <td>0.3</td>\n",
       "    </tr>\n",
       "    <tr>\n",
       "      <th>0</th>\n",
       "      <td>CRS_ELAPSED_TIME</td>\n",
       "      <td>float64</td>\n",
       "      <td>5528595</td>\n",
       "      <td>559</td>\n",
       "      <td>0</td>\n",
       "      <td>0.0</td>\n",
       "    </tr>\n",
       "    <tr>\n",
       "      <th>0</th>\n",
       "      <td>ACTUAL_ELAPSED_TIME</td>\n",
       "      <td>float64</td>\n",
       "      <td>5513455</td>\n",
       "      <td>694</td>\n",
       "      <td>15140</td>\n",
       "      <td>0.3</td>\n",
       "    </tr>\n",
       "  </tbody>\n",
       "</table>\n",
       "</div>"
      ],
      "text/plain": [
       "                column   dtypes    count  nunique  sum_null  null_ratio\n",
       "0             DEP_TIME  float64  5528595     1440         0         0.0\n",
       "0            DEP_DELAY  float64  5528595     1484         0         0.0\n",
       "0         CRS_ARR_TIME    int64  5528595     1426         0         0.0\n",
       "0             ARR_TIME  float64  5526457     1440      2138         0.0\n",
       "0            ARR_DELAY  float64  5513455     1505     15140         0.3\n",
       "0     CRS_ELAPSED_TIME  float64  5528595      559         0         0.0\n",
       "0  ACTUAL_ELAPSED_TIME  float64  5513455      694     15140         0.3"
      ]
     },
     "execution_count": 69,
     "metadata": {},
     "output_type": "execute_result"
    }
   ],
   "source": [
    "pd.concat([\n",
    "    df_check(df_train[['DEP_TIME']]),\n",
    "    df_check(df_train[['DEP_DELAY']]),\n",
    "    df_check(df_train[['CRS_ARR_TIME']]),\n",
    "    df_check(df_train[['ARR_TIME']]),\n",
    "    df_check(df_train[['ARR_DELAY']]),\n",
    "    df_check(df_train[['CRS_ELAPSED_TIME']]),\n",
    "    df_check(df_train[['ACTUAL_ELAPSED_TIME']]),\n",
    "]\n",
    ")"
   ]
  },
  {
   "cell_type": "code",
   "execution_count": 70,
   "id": "e1a312ac",
   "metadata": {
    "scrolled": true
   },
   "outputs": [
    {
     "data": {
      "text/html": [
       "<div>\n",
       "<style scoped>\n",
       "    .dataframe tbody tr th:only-of-type {\n",
       "        vertical-align: middle;\n",
       "    }\n",
       "\n",
       "    .dataframe tbody tr th {\n",
       "        vertical-align: top;\n",
       "    }\n",
       "\n",
       "    .dataframe thead th {\n",
       "        text-align: right;\n",
       "    }\n",
       "</style>\n",
       "<table border=\"1\" class=\"dataframe\">\n",
       "  <thead>\n",
       "    <tr style=\"text-align: right;\">\n",
       "      <th></th>\n",
       "      <th>CRS_DEP_TIME</th>\n",
       "      <th>DEP_TIME</th>\n",
       "      <th>DEP_DELAY</th>\n",
       "      <th>CRS_ARR_TIME</th>\n",
       "      <th>ARR_TIME</th>\n",
       "      <th>ARR_DELAY</th>\n",
       "      <th>CRS_ELAPSED_TIME</th>\n",
       "      <th>ACTUAL_ELAPSED_TIME</th>\n",
       "    </tr>\n",
       "  </thead>\n",
       "  <tbody>\n",
       "    <tr>\n",
       "      <th>6859764</th>\n",
       "      <td>1730</td>\n",
       "      <td>1723.0</td>\n",
       "      <td>-7.0</td>\n",
       "      <td>2238</td>\n",
       "      <td>2225.0</td>\n",
       "      <td>-13.0</td>\n",
       "      <td>188.0</td>\n",
       "      <td>182.0</td>\n",
       "    </tr>\n",
       "    <tr>\n",
       "      <th>1348731</th>\n",
       "      <td>2025</td>\n",
       "      <td>2020.0</td>\n",
       "      <td>-5.0</td>\n",
       "      <td>50</td>\n",
       "      <td>46.0</td>\n",
       "      <td>-4.0</td>\n",
       "      <td>205.0</td>\n",
       "      <td>206.0</td>\n",
       "    </tr>\n",
       "    <tr>\n",
       "      <th>2080016</th>\n",
       "      <td>1428</td>\n",
       "      <td>1427.0</td>\n",
       "      <td>-1.0</td>\n",
       "      <td>1527</td>\n",
       "      <td>1527.0</td>\n",
       "      <td>0.0</td>\n",
       "      <td>59.0</td>\n",
       "      <td>60.0</td>\n",
       "    </tr>\n",
       "    <tr>\n",
       "      <th>5138259</th>\n",
       "      <td>2030</td>\n",
       "      <td>2050.0</td>\n",
       "      <td>20.0</td>\n",
       "      <td>2130</td>\n",
       "      <td>2144.0</td>\n",
       "      <td>14.0</td>\n",
       "      <td>60.0</td>\n",
       "      <td>54.0</td>\n",
       "    </tr>\n",
       "    <tr>\n",
       "      <th>5643430</th>\n",
       "      <td>1135</td>\n",
       "      <td>1126.0</td>\n",
       "      <td>-9.0</td>\n",
       "      <td>1248</td>\n",
       "      <td>1240.0</td>\n",
       "      <td>-8.0</td>\n",
       "      <td>133.0</td>\n",
       "      <td>134.0</td>\n",
       "    </tr>\n",
       "  </tbody>\n",
       "</table>\n",
       "</div>"
      ],
      "text/plain": [
       "         CRS_DEP_TIME  DEP_TIME  DEP_DELAY  CRS_ARR_TIME  ARR_TIME  ARR_DELAY  \\\n",
       "6859764          1730    1723.0       -7.0          2238    2225.0      -13.0   \n",
       "1348731          2025    2020.0       -5.0            50      46.0       -4.0   \n",
       "2080016          1428    1427.0       -1.0          1527    1527.0        0.0   \n",
       "5138259          2030    2050.0       20.0          2130    2144.0       14.0   \n",
       "5643430          1135    1126.0       -9.0          1248    1240.0       -8.0   \n",
       "\n",
       "         CRS_ELAPSED_TIME  ACTUAL_ELAPSED_TIME  \n",
       "6859764             188.0                182.0  \n",
       "1348731             205.0                206.0  \n",
       "2080016              59.0                 60.0  \n",
       "5138259              60.0                 54.0  \n",
       "5643430             133.0                134.0  "
      ]
     },
     "execution_count": 70,
     "metadata": {},
     "output_type": "execute_result"
    }
   ],
   "source": [
    "df_train[['CRS_DEP_TIME', 'DEP_TIME', 'DEP_DELAY', 'CRS_ARR_TIME', 'ARR_TIME',\n",
    "       'ARR_DELAY', 'CRS_ELAPSED_TIME','ACTUAL_ELAPSED_TIME']].sample(5)"
   ]
  },
  {
   "cell_type": "markdown",
   "id": "c415772d",
   "metadata": {},
   "source": [
    "## 3.6 `AIR_TIME` & `DISTANCE` \n",
    "\n",
    "`DISTANCE`: Distance between airports (miles)<br>\n",
    "`AIR_TIME`: Flight Time, in Minutes\n"
   ]
  },
  {
   "cell_type": "code",
   "execution_count": 71,
   "id": "987808eb",
   "metadata": {
    "scrolled": true
   },
   "outputs": [
    {
     "name": "stdout",
     "output_type": "stream",
     "text": [
      "shape: (5528595, 2)\n"
     ]
    },
    {
     "data": {
      "text/html": [
       "<div>\n",
       "<style scoped>\n",
       "    .dataframe tbody tr th:only-of-type {\n",
       "        vertical-align: middle;\n",
       "    }\n",
       "\n",
       "    .dataframe tbody tr th {\n",
       "        vertical-align: top;\n",
       "    }\n",
       "\n",
       "    .dataframe thead th {\n",
       "        text-align: right;\n",
       "    }\n",
       "</style>\n",
       "<table border=\"1\" class=\"dataframe\">\n",
       "  <thead>\n",
       "    <tr style=\"text-align: right;\">\n",
       "      <th></th>\n",
       "      <th>column</th>\n",
       "      <th>dtypes</th>\n",
       "      <th>count</th>\n",
       "      <th>nunique</th>\n",
       "      <th>sum_null</th>\n",
       "      <th>null_ratio</th>\n",
       "    </tr>\n",
       "  </thead>\n",
       "  <tbody>\n",
       "    <tr>\n",
       "      <th>0</th>\n",
       "      <td>DISTANCE</td>\n",
       "      <td>float64</td>\n",
       "      <td>5528595</td>\n",
       "      <td>1409</td>\n",
       "      <td>0</td>\n",
       "      <td>0.0</td>\n",
       "    </tr>\n",
       "    <tr>\n",
       "      <th>1</th>\n",
       "      <td>AIR_TIME</td>\n",
       "      <td>float64</td>\n",
       "      <td>5513455</td>\n",
       "      <td>650</td>\n",
       "      <td>15140</td>\n",
       "      <td>0.3</td>\n",
       "    </tr>\n",
       "  </tbody>\n",
       "</table>\n",
       "</div>"
      ],
      "text/plain": [
       "     column   dtypes    count  nunique  sum_null  null_ratio\n",
       "0  DISTANCE  float64  5528595     1409         0         0.0\n",
       "1  AIR_TIME  float64  5513455      650     15140         0.3"
      ]
     },
     "execution_count": 71,
     "metadata": {},
     "output_type": "execute_result"
    }
   ],
   "source": [
    "df_check(df_train[['DISTANCE','AIR_TIME']])"
   ]
  },
  {
   "cell_type": "code",
   "execution_count": 72,
   "id": "10cdd765",
   "metadata": {},
   "outputs": [
    {
     "data": {
      "text/html": [
       "<div>\n",
       "<style scoped>\n",
       "    .dataframe tbody tr th:only-of-type {\n",
       "        vertical-align: middle;\n",
       "    }\n",
       "\n",
       "    .dataframe tbody tr th {\n",
       "        vertical-align: top;\n",
       "    }\n",
       "\n",
       "    .dataframe thead th {\n",
       "        text-align: right;\n",
       "    }\n",
       "</style>\n",
       "<table border=\"1\" class=\"dataframe\">\n",
       "  <thead>\n",
       "    <tr style=\"text-align: right;\">\n",
       "      <th></th>\n",
       "      <th>DISTANCE</th>\n",
       "      <th>AIR_TIME</th>\n",
       "    </tr>\n",
       "  </thead>\n",
       "  <tbody>\n",
       "    <tr>\n",
       "      <th>count</th>\n",
       "      <td>5.528595e+06</td>\n",
       "      <td>5.513455e+06</td>\n",
       "    </tr>\n",
       "    <tr>\n",
       "      <th>mean</th>\n",
       "      <td>8.215433e+02</td>\n",
       "      <td>1.138240e+02</td>\n",
       "    </tr>\n",
       "    <tr>\n",
       "      <th>std</th>\n",
       "      <td>5.956681e+02</td>\n",
       "      <td>7.072153e+01</td>\n",
       "    </tr>\n",
       "    <tr>\n",
       "      <th>min</th>\n",
       "      <td>4.500000e+01</td>\n",
       "      <td>4.000000e+00</td>\n",
       "    </tr>\n",
       "    <tr>\n",
       "      <th>25%</th>\n",
       "      <td>3.770000e+02</td>\n",
       "      <td>6.100000e+01</td>\n",
       "    </tr>\n",
       "    <tr>\n",
       "      <th>50%</th>\n",
       "      <td>6.510000e+02</td>\n",
       "      <td>9.500000e+01</td>\n",
       "    </tr>\n",
       "    <tr>\n",
       "      <th>75%</th>\n",
       "      <td>1.065000e+03</td>\n",
       "      <td>1.440000e+02</td>\n",
       "    </tr>\n",
       "    <tr>\n",
       "      <th>max</th>\n",
       "      <td>4.983000e+03</td>\n",
       "      <td>6.690000e+02</td>\n",
       "    </tr>\n",
       "  </tbody>\n",
       "</table>\n",
       "</div>"
      ],
      "text/plain": [
       "           DISTANCE      AIR_TIME\n",
       "count  5.528595e+06  5.513455e+06\n",
       "mean   8.215433e+02  1.138240e+02\n",
       "std    5.956681e+02  7.072153e+01\n",
       "min    4.500000e+01  4.000000e+00\n",
       "25%    3.770000e+02  6.100000e+01\n",
       "50%    6.510000e+02  9.500000e+01\n",
       "75%    1.065000e+03  1.440000e+02\n",
       "max    4.983000e+03  6.690000e+02"
      ]
     },
     "execution_count": 72,
     "metadata": {},
     "output_type": "execute_result"
    }
   ],
   "source": [
    "df_train[['DISTANCE','AIR_TIME']].describe()"
   ]
  },
  {
   "cell_type": "code",
   "execution_count": 73,
   "id": "abb8681b",
   "metadata": {},
   "outputs": [
    {
     "data": {
      "text/plain": [
       "<AxesSubplot:xlabel='DELAYED', ylabel='DISTANCE'>"
      ]
     },
     "execution_count": 73,
     "metadata": {},
     "output_type": "execute_result"
    },
    {
     "data": {
      "image/png": "[encoded data removed]",
      "text/plain": [
       "<Figure size 432x288 with 1 Axes>"
      ]
     },
     "metadata": {},
     "output_type": "display_data"
    }
   ],
   "source": [
    "sns.boxplot(x=df_train['DELAYED'],y=df_train['DISTANCE'])"
   ]
  },
  {
   "cell_type": "code",
   "execution_count": 74,
   "id": "e55f344e",
   "metadata": {
    "scrolled": false
   },
   "outputs": [
    {
     "data": {
      "text/plain": [
       "<AxesSubplot:xlabel='DELAYED', ylabel='AIR_TIME'>"
      ]
     },
     "execution_count": 74,
     "metadata": {},
     "output_type": "execute_result"
    },
    {
     "data": {
      "image/png": "[encoded data removed]",
      "text/plain": [
       "<Figure size 432x288 with 1 Axes>"
      ]
     },
     "metadata": {},
     "output_type": "display_data"
    }
   ],
   "source": [
    "sns.boxplot(x=df_train['DELAYED'],y=df_train['AIR_TIME'])"
   ]
  },
  {
   "cell_type": "code",
   "execution_count": 75,
   "id": "5509c2da",
   "metadata": {
    "scrolled": true
   },
   "outputs": [
    {
     "data": {
      "text/plain": [
       "<AxesSubplot:xlabel='AIR_TIME', ylabel='Count'>"
      ]
     },
     "execution_count": 75,
     "metadata": {},
     "output_type": "execute_result"
    },
    {
     "data": {
      "image/png": "[encoded data removed]",
      "text/plain": [
       "<Figure size 864x288 with 1 Axes>"
      ]
     },
     "metadata": {},
     "output_type": "display_data"
    }
   ],
   "source": [
    "plt.figure(figsize=(12,4))\n",
    "sns.histplot(df_train, x='AIR_TIME', bins=50, hue='DELAYED')"
   ]
  },
  {
   "cell_type": "markdown",
   "id": "ee18e686",
   "metadata": {},
   "source": [
    "<b> Q. How is delayed flight rate affected by distance? </b> "
   ]
  },
  {
   "cell_type": "code",
   "execution_count": 76,
   "id": "3325ea34",
   "metadata": {},
   "outputs": [
    {
     "data": {
      "text/plain": [
       "<AxesSubplot:xlabel='DISTANCE', ylabel='Count'>"
      ]
     },
     "execution_count": 76,
     "metadata": {},
     "output_type": "execute_result"
    },
    {
     "data": {
      "image/png": "[encoded data removed]",
      "text/plain": [
       "<Figure size 864x288 with 1 Axes>"
      ]
     },
     "metadata": {},
     "output_type": "display_data"
    }
   ],
   "source": [
    "cnd = df_train['DISTANCE'] < 500\n",
    "\n",
    "plt.figure(figsize=(12,4))\n",
    "sns.histplot(df_train.loc[cnd], x='DISTANCE', bins=50, hue='DELAYED')"
   ]
  },
  {
   "cell_type": "code",
   "execution_count": 77,
   "id": "722b6961",
   "metadata": {
    "scrolled": true
   },
   "outputs": [
    {
     "data": {
      "text/plain": [
       "<AxesSubplot:xlabel='DISTANCE', ylabel='Count'>"
      ]
     },
     "execution_count": 77,
     "metadata": {},
     "output_type": "execute_result"
    },
    {
     "data": {
      "image/png": "[encoded data removed]",
      "text/plain": [
       "<Figure size 864x288 with 1 Axes>"
      ]
     },
     "metadata": {},
     "output_type": "display_data"
    }
   ],
   "source": [
    "cnd = df_train['DISTANCE'] > 500\n",
    "\n",
    "plt.figure(figsize=(12,4))\n",
    "sns.histplot(df_train.loc[cnd], x='DISTANCE', bins=50, hue='DELAYED')"
   ]
  },
  {
   "cell_type": "code",
   "execution_count": 78,
   "id": "52750f5f",
   "metadata": {
    "scrolled": false
   },
   "outputs": [
    {
     "data": {
      "text/html": [
       "<div>\n",
       "<style scoped>\n",
       "    .dataframe tbody tr th:only-of-type {\n",
       "        vertical-align: middle;\n",
       "    }\n",
       "\n",
       "    .dataframe tbody tr th {\n",
       "        vertical-align: top;\n",
       "    }\n",
       "\n",
       "    .dataframe thead th {\n",
       "        text-align: right;\n",
       "    }\n",
       "</style>\n",
       "<table border=\"1\" class=\"dataframe\">\n",
       "  <thead>\n",
       "    <tr style=\"text-align: right;\">\n",
       "      <th></th>\n",
       "      <th>Count</th>\n",
       "      <th>Mean</th>\n",
       "    </tr>\n",
       "    <tr>\n",
       "      <th>DISTANCE_CAT</th>\n",
       "      <th></th>\n",
       "      <th></th>\n",
       "    </tr>\n",
       "  </thead>\n",
       "  <tbody>\n",
       "    <tr>\n",
       "      <th>0</th>\n",
       "      <td>236734</td>\n",
       "      <td>0.166237</td>\n",
       "    </tr>\n",
       "    <tr>\n",
       "      <th>1</th>\n",
       "      <td>3017166</td>\n",
       "      <td>0.185153</td>\n",
       "    </tr>\n",
       "    <tr>\n",
       "      <th>3</th>\n",
       "      <td>2274695</td>\n",
       "      <td>0.202974</td>\n",
       "    </tr>\n",
       "  </tbody>\n",
       "</table>\n",
       "</div>"
      ],
      "text/plain": [
       "                Count      Mean\n",
       "DISTANCE_CAT                   \n",
       "0              236734  0.166237\n",
       "1             3017166  0.185153\n",
       "3             2274695  0.202974"
      ]
     },
     "execution_count": 78,
     "metadata": {},
     "output_type": "execute_result"
    }
   ],
   "source": [
    "# Let's group the DISTANCE to answer the question\n",
    "# 0 : Near, 0 <= hour < 12\n",
    "# 1 : Middle, 12 <= hour < 14\n",
    "# 2 : Far 15 <= hour <= 23\n",
    "\n",
    "df_distance = df_train['DISTANCE'].apply(lambda x : 0 if x<175 else (1 if x<800 else 3))\n",
    "\n",
    "df_distance = pd.concat(\n",
    "                [\n",
    "                    pd.DataFrame(df_distance).rename(columns={'DISTANCE':'DISTANCE_CAT'}),\n",
    "                    df_train['DELAYED'],\n",
    "                ],axis=1\n",
    "            )\n",
    "pd.concat([\n",
    "    df_distance.groupby('DISTANCE_CAT')['DELAYED'].count().rename('Count'),\n",
    "    df_distance.groupby('DISTANCE_CAT')['DELAYED'].mean().rename('Mean')\n",
    "],axis=1\n",
    ")"
   ]
  },
  {
   "cell_type": "markdown",
   "id": "175e077a",
   "metadata": {},
   "source": [
    "The greater the distance, the greater the delay probability."
   ]
  },
  {
   "cell_type": "code",
   "execution_count": 79,
   "id": "36767aad",
   "metadata": {},
   "outputs": [
    {
     "data": {
      "text/html": [
       "<div>\n",
       "<style scoped>\n",
       "    .dataframe tbody tr th:only-of-type {\n",
       "        vertical-align: middle;\n",
       "    }\n",
       "\n",
       "    .dataframe tbody tr th {\n",
       "        vertical-align: top;\n",
       "    }\n",
       "\n",
       "    .dataframe thead th {\n",
       "        text-align: right;\n",
       "    }\n",
       "</style>\n",
       "<table border=\"1\" class=\"dataframe\">\n",
       "  <thead>\n",
       "    <tr style=\"text-align: right;\">\n",
       "      <th></th>\n",
       "      <th>DISTANCE</th>\n",
       "      <th>AIR_TIME</th>\n",
       "      <th>DELAYED</th>\n",
       "    </tr>\n",
       "  </thead>\n",
       "  <tbody>\n",
       "    <tr>\n",
       "      <th>DISTANCE</th>\n",
       "      <td>1.000000</td>\n",
       "      <td>0.982892</td>\n",
       "      <td>0.020221</td>\n",
       "    </tr>\n",
       "    <tr>\n",
       "      <th>AIR_TIME</th>\n",
       "      <td>0.982892</td>\n",
       "      <td>1.000000</td>\n",
       "      <td>0.019260</td>\n",
       "    </tr>\n",
       "    <tr>\n",
       "      <th>DELAYED</th>\n",
       "      <td>0.020221</td>\n",
       "      <td>0.019260</td>\n",
       "      <td>1.000000</td>\n",
       "    </tr>\n",
       "  </tbody>\n",
       "</table>\n",
       "</div>"
      ],
      "text/plain": [
       "          DISTANCE  AIR_TIME   DELAYED\n",
       "DISTANCE  1.000000  0.982892  0.020221\n",
       "AIR_TIME  0.982892  1.000000  0.019260\n",
       "DELAYED   0.020221  0.019260  1.000000"
      ]
     },
     "execution_count": 79,
     "metadata": {},
     "output_type": "execute_result"
    }
   ],
   "source": [
    "df_train[['DISTANCE','AIR_TIME','DELAYED']].corr()"
   ]
  },
  {
   "cell_type": "markdown",
   "id": "6837ade8",
   "metadata": {},
   "source": [
    "DISTANCE and AIR_TIME highlt correlated (0.98) and AIR_TIME has some missing values, I won't use AIR_TIME my model."
   ]
  },
  {
   "cell_type": "code",
   "execution_count": 80,
   "id": "a5d9cd3e",
   "metadata": {},
   "outputs": [],
   "source": [
    "# Add 'AIR_TIME' into excluded_cols list\n",
    "excluded_cols.append('AIR_TIME')"
   ]
  },
  {
   "cell_type": "markdown",
   "id": "b3a34d73",
   "metadata": {},
   "source": [
    "## 3.7 DELAYS\n",
    "\n",
    "`CARRIER_DELAY`: Carrier Delay, in Minutes<br>\n",
    "`WEATHER_DELAY`: Weather Delay, in Minutes<br>\n",
    "`NAS_DELAY`: National Air System Delay, in Minutes<br>\n",
    "`SECURITY_DELAY`: Security Delay, in Minutes<br>\n",
    "`LATE_AIRCRAFT_DELAY`: Late Aircraft Delay, in Minutes"
   ]
  },
  {
   "cell_type": "code",
   "execution_count": 81,
   "id": "a7ff16f8",
   "metadata": {
    "scrolled": true
   },
   "outputs": [
    {
     "name": "stdout",
     "output_type": "stream",
     "text": [
      "shape: (5528595, 1)\n",
      "shape: (5528595, 1)\n",
      "shape: (5528595, 1)\n",
      "shape: (5528595, 1)\n",
      "shape: (5528595, 1)\n"
     ]
    },
    {
     "data": {
      "text/html": [
       "<div>\n",
       "<style scoped>\n",
       "    .dataframe tbody tr th:only-of-type {\n",
       "        vertical-align: middle;\n",
       "    }\n",
       "\n",
       "    .dataframe tbody tr th {\n",
       "        vertical-align: top;\n",
       "    }\n",
       "\n",
       "    .dataframe thead th {\n",
       "        text-align: right;\n",
       "    }\n",
       "</style>\n",
       "<table border=\"1\" class=\"dataframe\">\n",
       "  <thead>\n",
       "    <tr style=\"text-align: right;\">\n",
       "      <th></th>\n",
       "      <th>column</th>\n",
       "      <th>dtypes</th>\n",
       "      <th>count</th>\n",
       "      <th>nunique</th>\n",
       "      <th>sum_null</th>\n",
       "      <th>null_ratio</th>\n",
       "    </tr>\n",
       "  </thead>\n",
       "  <tbody>\n",
       "    <tr>\n",
       "      <th>0</th>\n",
       "      <td>CARRIER_DELAY</td>\n",
       "      <td>float64</td>\n",
       "      <td>1087253</td>\n",
       "      <td>1332</td>\n",
       "      <td>4441342</td>\n",
       "      <td>80.3</td>\n",
       "    </tr>\n",
       "    <tr>\n",
       "      <th>0</th>\n",
       "      <td>WEATHER_DELAY</td>\n",
       "      <td>float64</td>\n",
       "      <td>1087253</td>\n",
       "      <td>1012</td>\n",
       "      <td>4441342</td>\n",
       "      <td>80.3</td>\n",
       "    </tr>\n",
       "    <tr>\n",
       "      <th>0</th>\n",
       "      <td>NAS_DELAY</td>\n",
       "      <td>float64</td>\n",
       "      <td>1087253</td>\n",
       "      <td>808</td>\n",
       "      <td>4441342</td>\n",
       "      <td>80.3</td>\n",
       "    </tr>\n",
       "    <tr>\n",
       "      <th>0</th>\n",
       "      <td>SECURITY_DELAY</td>\n",
       "      <td>float64</td>\n",
       "      <td>1087253</td>\n",
       "      <td>239</td>\n",
       "      <td>4441342</td>\n",
       "      <td>80.3</td>\n",
       "    </tr>\n",
       "    <tr>\n",
       "      <th>0</th>\n",
       "      <td>LATE_AIRCRAFT_DELAY</td>\n",
       "      <td>float64</td>\n",
       "      <td>1087253</td>\n",
       "      <td>936</td>\n",
       "      <td>4441342</td>\n",
       "      <td>80.3</td>\n",
       "    </tr>\n",
       "  </tbody>\n",
       "</table>\n",
       "</div>"
      ],
      "text/plain": [
       "                column   dtypes    count  nunique  sum_null  null_ratio\n",
       "0        CARRIER_DELAY  float64  1087253     1332   4441342        80.3\n",
       "0        WEATHER_DELAY  float64  1087253     1012   4441342        80.3\n",
       "0            NAS_DELAY  float64  1087253      808   4441342        80.3\n",
       "0       SECURITY_DELAY  float64  1087253      239   4441342        80.3\n",
       "0  LATE_AIRCRAFT_DELAY  float64  1087253      936   4441342        80.3"
      ]
     },
     "execution_count": 81,
     "metadata": {},
     "output_type": "execute_result"
    }
   ],
   "source": [
    "pd.concat([\n",
    "    df_check(df_train[['CARRIER_DELAY']]),\n",
    "    df_check(df_train[['WEATHER_DELAY']]),\n",
    "    df_check(df_train[['NAS_DELAY']]),\n",
    "    df_check(df_train[['SECURITY_DELAY']]),\n",
    "    df_check(df_train[['LATE_AIRCRAFT_DELAY']])\n",
    "]\n",
    ")"
   ]
  },
  {
   "cell_type": "code",
   "execution_count": 82,
   "id": "4fa5668d",
   "metadata": {
    "scrolled": false
   },
   "outputs": [
    {
     "data": {
      "text/html": [
       "<div>\n",
       "<style scoped>\n",
       "    .dataframe tbody tr th:only-of-type {\n",
       "        vertical-align: middle;\n",
       "    }\n",
       "\n",
       "    .dataframe tbody tr th {\n",
       "        vertical-align: top;\n",
       "    }\n",
       "\n",
       "    .dataframe thead th {\n",
       "        text-align: right;\n",
       "    }\n",
       "</style>\n",
       "<table border=\"1\" class=\"dataframe\">\n",
       "  <thead>\n",
       "    <tr style=\"text-align: right;\">\n",
       "      <th></th>\n",
       "      <th>CARRIER_DELAY</th>\n",
       "      <th>WEATHER_DELAY</th>\n",
       "      <th>NAS_DELAY</th>\n",
       "      <th>SECURITY_DELAY</th>\n",
       "      <th>LATE_AIRCRAFT_DELAY</th>\n",
       "    </tr>\n",
       "  </thead>\n",
       "  <tbody>\n",
       "    <tr>\n",
       "      <th>6992923</th>\n",
       "      <td>2.0</td>\n",
       "      <td>0.0</td>\n",
       "      <td>10.0</td>\n",
       "      <td>0.0</td>\n",
       "      <td>92.0</td>\n",
       "    </tr>\n",
       "    <tr>\n",
       "      <th>1064784</th>\n",
       "      <td>0.0</td>\n",
       "      <td>0.0</td>\n",
       "      <td>25.0</td>\n",
       "      <td>0.0</td>\n",
       "      <td>0.0</td>\n",
       "    </tr>\n",
       "    <tr>\n",
       "      <th>3594814</th>\n",
       "      <td>13.0</td>\n",
       "      <td>0.0</td>\n",
       "      <td>8.0</td>\n",
       "      <td>0.0</td>\n",
       "      <td>31.0</td>\n",
       "    </tr>\n",
       "    <tr>\n",
       "      <th>5964462</th>\n",
       "      <td>30.0</td>\n",
       "      <td>0.0</td>\n",
       "      <td>0.0</td>\n",
       "      <td>0.0</td>\n",
       "      <td>0.0</td>\n",
       "    </tr>\n",
       "    <tr>\n",
       "      <th>7003642</th>\n",
       "      <td>0.0</td>\n",
       "      <td>27.0</td>\n",
       "      <td>0.0</td>\n",
       "      <td>0.0</td>\n",
       "      <td>0.0</td>\n",
       "    </tr>\n",
       "  </tbody>\n",
       "</table>\n",
       "</div>"
      ],
      "text/plain": [
       "         CARRIER_DELAY  WEATHER_DELAY  NAS_DELAY  SECURITY_DELAY  \\\n",
       "6992923            2.0            0.0       10.0             0.0   \n",
       "1064784            0.0            0.0       25.0             0.0   \n",
       "3594814           13.0            0.0        8.0             0.0   \n",
       "5964462           30.0            0.0        0.0             0.0   \n",
       "7003642            0.0           27.0        0.0             0.0   \n",
       "\n",
       "         LATE_AIRCRAFT_DELAY  \n",
       "6992923                 92.0  \n",
       "1064784                  0.0  \n",
       "3594814                 31.0  \n",
       "5964462                  0.0  \n",
       "7003642                  0.0  "
      ]
     },
     "execution_count": 82,
     "metadata": {},
     "output_type": "execute_result"
    }
   ],
   "source": [
    "cols = ['CARRIER_DELAY','WEATHER_DELAY','NAS_DELAY','SECURITY_DELAY','LATE_AIRCRAFT_DELAY']\n",
    "cnd = ~(df_train['CARRIER_DELAY'].isna())\n",
    "\n",
    "df_train.loc[cnd,cols].sample(5)"
   ]
  },
  {
   "cell_type": "code",
   "execution_count": 83,
   "id": "88c2d7bb",
   "metadata": {},
   "outputs": [
    {
     "data": {
      "text/html": [
       "<div>\n",
       "<style scoped>\n",
       "    .dataframe tbody tr th:only-of-type {\n",
       "        vertical-align: middle;\n",
       "    }\n",
       "\n",
       "    .dataframe tbody tr th {\n",
       "        vertical-align: top;\n",
       "    }\n",
       "\n",
       "    .dataframe thead th {\n",
       "        text-align: right;\n",
       "    }\n",
       "</style>\n",
       "<table border=\"1\" class=\"dataframe\">\n",
       "  <thead>\n",
       "    <tr style=\"text-align: right;\">\n",
       "      <th></th>\n",
       "      <th>CARRIER_DELAY</th>\n",
       "      <th>WEATHER_DELAY</th>\n",
       "      <th>NAS_DELAY</th>\n",
       "      <th>SECURITY_DELAY</th>\n",
       "      <th>LATE_AIRCRAFT_DELAY</th>\n",
       "    </tr>\n",
       "  </thead>\n",
       "  <tbody>\n",
       "    <tr>\n",
       "      <th>1080745</th>\n",
       "      <td>1.0</td>\n",
       "      <td>0.0</td>\n",
       "      <td>9.0</td>\n",
       "      <td>0.0</td>\n",
       "      <td>11.0</td>\n",
       "    </tr>\n",
       "    <tr>\n",
       "      <th>610252</th>\n",
       "      <td>9.0</td>\n",
       "      <td>0.0</td>\n",
       "      <td>9.0</td>\n",
       "      <td>0.0</td>\n",
       "      <td>0.0</td>\n",
       "    </tr>\n",
       "    <tr>\n",
       "      <th>6614832</th>\n",
       "      <td>9.0</td>\n",
       "      <td>0.0</td>\n",
       "      <td>14.0</td>\n",
       "      <td>0.0</td>\n",
       "      <td>0.0</td>\n",
       "    </tr>\n",
       "    <tr>\n",
       "      <th>4068608</th>\n",
       "      <td>2.0</td>\n",
       "      <td>0.0</td>\n",
       "      <td>10.0</td>\n",
       "      <td>0.0</td>\n",
       "      <td>6.0</td>\n",
       "    </tr>\n",
       "    <tr>\n",
       "      <th>2940911</th>\n",
       "      <td>0.0</td>\n",
       "      <td>0.0</td>\n",
       "      <td>16.0</td>\n",
       "      <td>0.0</td>\n",
       "      <td>0.0</td>\n",
       "    </tr>\n",
       "  </tbody>\n",
       "</table>\n",
       "</div>"
      ],
      "text/plain": [
       "         CARRIER_DELAY  WEATHER_DELAY  NAS_DELAY  SECURITY_DELAY  \\\n",
       "1080745            1.0            0.0        9.0             0.0   \n",
       "610252             9.0            0.0        9.0             0.0   \n",
       "6614832            9.0            0.0       14.0             0.0   \n",
       "4068608            2.0            0.0       10.0             0.0   \n",
       "2940911            0.0            0.0       16.0             0.0   \n",
       "\n",
       "         LATE_AIRCRAFT_DELAY  \n",
       "1080745                 11.0  \n",
       "610252                   0.0  \n",
       "6614832                  0.0  \n",
       "4068608                  6.0  \n",
       "2940911                  0.0  "
      ]
     },
     "execution_count": 83,
     "metadata": {},
     "output_type": "execute_result"
    }
   ],
   "source": [
    "cnd1 = df_train['DELAYED'] == 0 \n",
    "cnd2 = ~(df_train['CARRIER_DELAY'].isna())\n",
    "\n",
    "df_train.loc[(cnd1 & cnd2),['CARRIER_DELAY','WEATHER_DELAY','NAS_DELAY','SECURITY_DELAY','LATE_AIRCRAFT_DELAY']].sample(5)"
   ]
  },
  {
   "cell_type": "code",
   "execution_count": 84,
   "id": "ea1b4cec",
   "metadata": {
    "scrolled": false
   },
   "outputs": [
    {
     "data": {
      "text/html": [
       "<div>\n",
       "<style scoped>\n",
       "    .dataframe tbody tr th:only-of-type {\n",
       "        vertical-align: middle;\n",
       "    }\n",
       "\n",
       "    .dataframe tbody tr th {\n",
       "        vertical-align: top;\n",
       "    }\n",
       "\n",
       "    .dataframe thead th {\n",
       "        text-align: right;\n",
       "    }\n",
       "</style>\n",
       "<table border=\"1\" class=\"dataframe\">\n",
       "  <thead>\n",
       "    <tr style=\"text-align: right;\">\n",
       "      <th></th>\n",
       "      <th>CARRIER_DELAY</th>\n",
       "      <th>WEATHER_DELAY</th>\n",
       "      <th>NAS_DELAY</th>\n",
       "      <th>SECURITY_DELAY</th>\n",
       "      <th>LATE_AIRCRAFT_DELAY</th>\n",
       "    </tr>\n",
       "  </thead>\n",
       "  <tbody>\n",
       "    <tr>\n",
       "      <th>5546224</th>\n",
       "      <td>0.0</td>\n",
       "      <td>0.0</td>\n",
       "      <td>70.0</td>\n",
       "      <td>0.0</td>\n",
       "      <td>0.0</td>\n",
       "    </tr>\n",
       "    <tr>\n",
       "      <th>1059130</th>\n",
       "      <td>0.0</td>\n",
       "      <td>0.0</td>\n",
       "      <td>54.0</td>\n",
       "      <td>0.0</td>\n",
       "      <td>0.0</td>\n",
       "    </tr>\n",
       "    <tr>\n",
       "      <th>772670</th>\n",
       "      <td>0.0</td>\n",
       "      <td>230.0</td>\n",
       "      <td>21.0</td>\n",
       "      <td>0.0</td>\n",
       "      <td>64.0</td>\n",
       "    </tr>\n",
       "    <tr>\n",
       "      <th>4809013</th>\n",
       "      <td>0.0</td>\n",
       "      <td>0.0</td>\n",
       "      <td>25.0</td>\n",
       "      <td>0.0</td>\n",
       "      <td>0.0</td>\n",
       "    </tr>\n",
       "    <tr>\n",
       "      <th>7101488</th>\n",
       "      <td>57.0</td>\n",
       "      <td>24.0</td>\n",
       "      <td>0.0</td>\n",
       "      <td>0.0</td>\n",
       "      <td>0.0</td>\n",
       "    </tr>\n",
       "  </tbody>\n",
       "</table>\n",
       "</div>"
      ],
      "text/plain": [
       "         CARRIER_DELAY  WEATHER_DELAY  NAS_DELAY  SECURITY_DELAY  \\\n",
       "5546224            0.0            0.0       70.0             0.0   \n",
       "1059130            0.0            0.0       54.0             0.0   \n",
       "772670             0.0          230.0       21.0             0.0   \n",
       "4809013            0.0            0.0       25.0             0.0   \n",
       "7101488           57.0           24.0        0.0             0.0   \n",
       "\n",
       "         LATE_AIRCRAFT_DELAY  \n",
       "5546224                  0.0  \n",
       "1059130                  0.0  \n",
       "772670                  64.0  \n",
       "4809013                  0.0  \n",
       "7101488                  0.0  "
      ]
     },
     "execution_count": 84,
     "metadata": {},
     "output_type": "execute_result"
    }
   ],
   "source": [
    "cnd1 = df_train['DELAYED']==1\n",
    "cnd2 = ~(df_train['CARRIER_DELAY'].isna())\n",
    "\n",
    "df_train.loc[(cnd1 & cnd2),['CARRIER_DELAY','WEATHER_DELAY','NAS_DELAY','SECURITY_DELAY','LATE_AIRCRAFT_DELAY']].sample(5)"
   ]
  },
  {
   "cell_type": "code",
   "execution_count": 85,
   "id": "10ba8097",
   "metadata": {
    "scrolled": true
   },
   "outputs": [
    {
     "data": {
      "text/html": [
       "<div>\n",
       "<style scoped>\n",
       "    .dataframe tbody tr th:only-of-type {\n",
       "        vertical-align: middle;\n",
       "    }\n",
       "\n",
       "    .dataframe tbody tr th {\n",
       "        vertical-align: top;\n",
       "    }\n",
       "\n",
       "    .dataframe thead th {\n",
       "        text-align: right;\n",
       "    }\n",
       "</style>\n",
       "<table border=\"1\" class=\"dataframe\">\n",
       "  <thead>\n",
       "    <tr style=\"text-align: right;\">\n",
       "      <th></th>\n",
       "      <th>CARRIER_DELAY</th>\n",
       "      <th>WEATHER_DELAY</th>\n",
       "      <th>NAS_DELAY</th>\n",
       "      <th>SECURITY_DELAY</th>\n",
       "      <th>LATE_AIRCRAFT_DELAY</th>\n",
       "    </tr>\n",
       "  </thead>\n",
       "  <tbody>\n",
       "    <tr>\n",
       "      <th>count</th>\n",
       "      <td>1.087253e+06</td>\n",
       "      <td>1.087253e+06</td>\n",
       "      <td>1.087253e+06</td>\n",
       "      <td>1.087253e+06</td>\n",
       "      <td>1.087253e+06</td>\n",
       "    </tr>\n",
       "    <tr>\n",
       "      <th>mean</th>\n",
       "      <td>2.010358e+01</td>\n",
       "      <td>3.868412e+00</td>\n",
       "      <td>1.605579e+01</td>\n",
       "      <td>1.075472e-01</td>\n",
       "      <td>2.629934e+01</td>\n",
       "    </tr>\n",
       "    <tr>\n",
       "      <th>std</th>\n",
       "      <td>6.202681e+01</td>\n",
       "      <td>3.192931e+01</td>\n",
       "      <td>3.548035e+01</td>\n",
       "      <td>4.003883e+00</td>\n",
       "      <td>5.066967e+01</td>\n",
       "    </tr>\n",
       "    <tr>\n",
       "      <th>min</th>\n",
       "      <td>0.000000e+00</td>\n",
       "      <td>0.000000e+00</td>\n",
       "      <td>0.000000e+00</td>\n",
       "      <td>0.000000e+00</td>\n",
       "      <td>0.000000e+00</td>\n",
       "    </tr>\n",
       "    <tr>\n",
       "      <th>25%</th>\n",
       "      <td>0.000000e+00</td>\n",
       "      <td>0.000000e+00</td>\n",
       "      <td>0.000000e+00</td>\n",
       "      <td>0.000000e+00</td>\n",
       "      <td>0.000000e+00</td>\n",
       "    </tr>\n",
       "    <tr>\n",
       "      <th>50%</th>\n",
       "      <td>0.000000e+00</td>\n",
       "      <td>0.000000e+00</td>\n",
       "      <td>3.000000e+00</td>\n",
       "      <td>0.000000e+00</td>\n",
       "      <td>4.000000e+00</td>\n",
       "    </tr>\n",
       "    <tr>\n",
       "      <th>75%</th>\n",
       "      <td>1.700000e+01</td>\n",
       "      <td>0.000000e+00</td>\n",
       "      <td>2.000000e+01</td>\n",
       "      <td>0.000000e+00</td>\n",
       "      <td>3.200000e+01</td>\n",
       "    </tr>\n",
       "    <tr>\n",
       "      <th>max</th>\n",
       "      <td>2.592000e+03</td>\n",
       "      <td>2.692000e+03</td>\n",
       "      <td>1.498000e+03</td>\n",
       "      <td>1.078000e+03</td>\n",
       "      <td>2.014000e+03</td>\n",
       "    </tr>\n",
       "  </tbody>\n",
       "</table>\n",
       "</div>"
      ],
      "text/plain": [
       "       CARRIER_DELAY  WEATHER_DELAY     NAS_DELAY  SECURITY_DELAY  \\\n",
       "count   1.087253e+06   1.087253e+06  1.087253e+06    1.087253e+06   \n",
       "mean    2.010358e+01   3.868412e+00  1.605579e+01    1.075472e-01   \n",
       "std     6.202681e+01   3.192931e+01  3.548035e+01    4.003883e+00   \n",
       "min     0.000000e+00   0.000000e+00  0.000000e+00    0.000000e+00   \n",
       "25%     0.000000e+00   0.000000e+00  0.000000e+00    0.000000e+00   \n",
       "50%     0.000000e+00   0.000000e+00  3.000000e+00    0.000000e+00   \n",
       "75%     1.700000e+01   0.000000e+00  2.000000e+01    0.000000e+00   \n",
       "max     2.592000e+03   2.692000e+03  1.498000e+03    1.078000e+03   \n",
       "\n",
       "       LATE_AIRCRAFT_DELAY  \n",
       "count         1.087253e+06  \n",
       "mean          2.629934e+01  \n",
       "std           5.066967e+01  \n",
       "min           0.000000e+00  \n",
       "25%           0.000000e+00  \n",
       "50%           4.000000e+00  \n",
       "75%           3.200000e+01  \n",
       "max           2.014000e+03  "
      ]
     },
     "execution_count": 85,
     "metadata": {},
     "output_type": "execute_result"
    }
   ],
   "source": [
    "df_train[cols].describe()"
   ]
  },
  {
   "cell_type": "code",
   "execution_count": 86,
   "id": "6ae70e66",
   "metadata": {
    "scrolled": false
   },
   "outputs": [
    {
     "data": {
      "text/html": [
       "<div>\n",
       "<style scoped>\n",
       "    .dataframe tbody tr th:only-of-type {\n",
       "        vertical-align: middle;\n",
       "    }\n",
       "\n",
       "    .dataframe tbody tr th {\n",
       "        vertical-align: top;\n",
       "    }\n",
       "\n",
       "    .dataframe thead th {\n",
       "        text-align: right;\n",
       "    }\n",
       "</style>\n",
       "<table border=\"1\" class=\"dataframe\">\n",
       "  <thead>\n",
       "    <tr style=\"text-align: right;\">\n",
       "      <th></th>\n",
       "      <th>DELAYED</th>\n",
       "      <th>0</th>\n",
       "      <th>1</th>\n",
       "    </tr>\n",
       "  </thead>\n",
       "  <tbody>\n",
       "    <tr>\n",
       "      <th rowspan=\"8\" valign=\"top\">CARRIER_DELAY</th>\n",
       "      <th>count</th>\n",
       "      <td>241777.000000</td>\n",
       "      <td>845476.000000</td>\n",
       "    </tr>\n",
       "    <tr>\n",
       "      <th>mean</th>\n",
       "      <td>1.800117</td>\n",
       "      <td>25.337736</td>\n",
       "    </tr>\n",
       "    <tr>\n",
       "      <th>std</th>\n",
       "      <td>3.728091</td>\n",
       "      <td>69.428779</td>\n",
       "    </tr>\n",
       "    <tr>\n",
       "      <th>min</th>\n",
       "      <td>0.000000</td>\n",
       "      <td>0.000000</td>\n",
       "    </tr>\n",
       "    <tr>\n",
       "      <th>25%</th>\n",
       "      <td>0.000000</td>\n",
       "      <td>0.000000</td>\n",
       "    </tr>\n",
       "    <tr>\n",
       "      <th>50%</th>\n",
       "      <td>0.000000</td>\n",
       "      <td>4.000000</td>\n",
       "    </tr>\n",
       "    <tr>\n",
       "      <th>75%</th>\n",
       "      <td>0.000000</td>\n",
       "      <td>24.000000</td>\n",
       "    </tr>\n",
       "    <tr>\n",
       "      <th>max</th>\n",
       "      <td>14.000000</td>\n",
       "      <td>2592.000000</td>\n",
       "    </tr>\n",
       "    <tr>\n",
       "      <th rowspan=\"8\" valign=\"top\">WEATHER_DELAY</th>\n",
       "      <th>count</th>\n",
       "      <td>241777.000000</td>\n",
       "      <td>845476.000000</td>\n",
       "    </tr>\n",
       "    <tr>\n",
       "      <th>mean</th>\n",
       "      <td>0.194870</td>\n",
       "      <td>4.918919</td>\n",
       "    </tr>\n",
       "    <tr>\n",
       "      <th>std</th>\n",
       "      <td>1.372383</td>\n",
       "      <td>36.131925</td>\n",
       "    </tr>\n",
       "    <tr>\n",
       "      <th>min</th>\n",
       "      <td>0.000000</td>\n",
       "      <td>0.000000</td>\n",
       "    </tr>\n",
       "    <tr>\n",
       "      <th>25%</th>\n",
       "      <td>0.000000</td>\n",
       "      <td>0.000000</td>\n",
       "    </tr>\n",
       "    <tr>\n",
       "      <th>50%</th>\n",
       "      <td>0.000000</td>\n",
       "      <td>0.000000</td>\n",
       "    </tr>\n",
       "    <tr>\n",
       "      <th>75%</th>\n",
       "      <td>0.000000</td>\n",
       "      <td>0.000000</td>\n",
       "    </tr>\n",
       "    <tr>\n",
       "      <th>max</th>\n",
       "      <td>100.000000</td>\n",
       "      <td>2692.000000</td>\n",
       "    </tr>\n",
       "    <tr>\n",
       "      <th rowspan=\"8\" valign=\"top\">NAS_DELAY</th>\n",
       "      <th>count</th>\n",
       "      <td>241777.000000</td>\n",
       "      <td>845476.000000</td>\n",
       "    </tr>\n",
       "    <tr>\n",
       "      <th>mean</th>\n",
       "      <td>24.697113</td>\n",
       "      <td>13.584666</td>\n",
       "    </tr>\n",
       "    <tr>\n",
       "      <th>std</th>\n",
       "      <td>17.043220</td>\n",
       "      <td>38.837096</td>\n",
       "    </tr>\n",
       "    <tr>\n",
       "      <th>min</th>\n",
       "      <td>0.000000</td>\n",
       "      <td>0.000000</td>\n",
       "    </tr>\n",
       "    <tr>\n",
       "      <th>25%</th>\n",
       "      <td>15.000000</td>\n",
       "      <td>0.000000</td>\n",
       "    </tr>\n",
       "    <tr>\n",
       "      <th>50%</th>\n",
       "      <td>20.000000</td>\n",
       "      <td>0.000000</td>\n",
       "    </tr>\n",
       "    <tr>\n",
       "      <th>75%</th>\n",
       "      <td>29.000000</td>\n",
       "      <td>10.000000</td>\n",
       "    </tr>\n",
       "    <tr>\n",
       "      <th>max</th>\n",
       "      <td>313.000000</td>\n",
       "      <td>1498.000000</td>\n",
       "    </tr>\n",
       "    <tr>\n",
       "      <th rowspan=\"8\" valign=\"top\">SECURITY_DELAY</th>\n",
       "      <th>count</th>\n",
       "      <td>241777.000000</td>\n",
       "      <td>845476.000000</td>\n",
       "    </tr>\n",
       "    <tr>\n",
       "      <th>mean</th>\n",
       "      <td>0.013302</td>\n",
       "      <td>0.134498</td>\n",
       "    </tr>\n",
       "    <tr>\n",
       "      <th>std</th>\n",
       "      <td>0.356601</td>\n",
       "      <td>4.536054</td>\n",
       "    </tr>\n",
       "    <tr>\n",
       "      <th>min</th>\n",
       "      <td>0.000000</td>\n",
       "      <td>0.000000</td>\n",
       "    </tr>\n",
       "    <tr>\n",
       "      <th>25%</th>\n",
       "      <td>0.000000</td>\n",
       "      <td>0.000000</td>\n",
       "    </tr>\n",
       "    <tr>\n",
       "      <th>50%</th>\n",
       "      <td>0.000000</td>\n",
       "      <td>0.000000</td>\n",
       "    </tr>\n",
       "    <tr>\n",
       "      <th>75%</th>\n",
       "      <td>0.000000</td>\n",
       "      <td>0.000000</td>\n",
       "    </tr>\n",
       "    <tr>\n",
       "      <th>max</th>\n",
       "      <td>14.000000</td>\n",
       "      <td>1078.000000</td>\n",
       "    </tr>\n",
       "    <tr>\n",
       "      <th rowspan=\"8\" valign=\"top\">LATE_AIRCRAFT_DELAY</th>\n",
       "      <th>count</th>\n",
       "      <td>241777.000000</td>\n",
       "      <td>845476.000000</td>\n",
       "    </tr>\n",
       "    <tr>\n",
       "      <th>mean</th>\n",
       "      <td>1.066909</td>\n",
       "      <td>33.514941</td>\n",
       "    </tr>\n",
       "    <tr>\n",
       "      <th>std</th>\n",
       "      <td>2.999348</td>\n",
       "      <td>55.361576</td>\n",
       "    </tr>\n",
       "    <tr>\n",
       "      <th>min</th>\n",
       "      <td>0.000000</td>\n",
       "      <td>0.000000</td>\n",
       "    </tr>\n",
       "    <tr>\n",
       "      <th>25%</th>\n",
       "      <td>0.000000</td>\n",
       "      <td>0.000000</td>\n",
       "    </tr>\n",
       "    <tr>\n",
       "      <th>50%</th>\n",
       "      <td>0.000000</td>\n",
       "      <td>16.000000</td>\n",
       "    </tr>\n",
       "    <tr>\n",
       "      <th>75%</th>\n",
       "      <td>0.000000</td>\n",
       "      <td>43.000000</td>\n",
       "    </tr>\n",
       "    <tr>\n",
       "      <th>max</th>\n",
       "      <td>74.000000</td>\n",
       "      <td>2014.000000</td>\n",
       "    </tr>\n",
       "  </tbody>\n",
       "</table>\n",
       "</div>"
      ],
      "text/plain": [
       "DELAYED                                0              1\n",
       "CARRIER_DELAY       count  241777.000000  845476.000000\n",
       "                    mean        1.800117      25.337736\n",
       "                    std         3.728091      69.428779\n",
       "                    min         0.000000       0.000000\n",
       "                    25%         0.000000       0.000000\n",
       "                    50%         0.000000       4.000000\n",
       "                    75%         0.000000      24.000000\n",
       "                    max        14.000000    2592.000000\n",
       "WEATHER_DELAY       count  241777.000000  845476.000000\n",
       "                    mean        0.194870       4.918919\n",
       "                    std         1.372383      36.131925\n",
       "                    min         0.000000       0.000000\n",
       "                    25%         0.000000       0.000000\n",
       "                    50%         0.000000       0.000000\n",
       "                    75%         0.000000       0.000000\n",
       "                    max       100.000000    2692.000000\n",
       "NAS_DELAY           count  241777.000000  845476.000000\n",
       "                    mean       24.697113      13.584666\n",
       "                    std        17.043220      38.837096\n",
       "                    min         0.000000       0.000000\n",
       "                    25%        15.000000       0.000000\n",
       "                    50%        20.000000       0.000000\n",
       "                    75%        29.000000      10.000000\n",
       "                    max       313.000000    1498.000000\n",
       "SECURITY_DELAY      count  241777.000000  845476.000000\n",
       "                    mean        0.013302       0.134498\n",
       "                    std         0.356601       4.536054\n",
       "                    min         0.000000       0.000000\n",
       "                    25%         0.000000       0.000000\n",
       "                    50%         0.000000       0.000000\n",
       "                    75%         0.000000       0.000000\n",
       "                    max        14.000000    1078.000000\n",
       "LATE_AIRCRAFT_DELAY count  241777.000000  845476.000000\n",
       "                    mean        1.066909      33.514941\n",
       "                    std         2.999348      55.361576\n",
       "                    min         0.000000       0.000000\n",
       "                    25%         0.000000       0.000000\n",
       "                    50%         0.000000      16.000000\n",
       "                    75%         0.000000      43.000000\n",
       "                    max        74.000000    2014.000000"
      ]
     },
     "execution_count": 86,
     "metadata": {},
     "output_type": "execute_result"
    }
   ],
   "source": [
    "df_train[cols+['DELAYED']].groupby('DELAYED').describe().T"
   ]
  },
  {
   "cell_type": "markdown",
   "id": "c8e3138d",
   "metadata": {},
   "source": [
    "Although we have these features in 20% of our data, these features seem to make a serious difference for delayed and on time flights.\n",
    "\n",
    "`CARRIER_DELAY`,`WEATHER_DELAY` and `LATE_AIRCRAFT_DELAY` are high values for delayed flights, while `LATE_AIRCRAFT_DELAY` is high values for on-time flights."
   ]
  },
  {
   "cell_type": "code",
   "execution_count": 87,
   "id": "f8d3e47c",
   "metadata": {},
   "outputs": [],
   "source": [
    "# Since these delays has too many outliers, I will create 3 values for them.\n",
    "# If the FLG value is \n",
    "#     2 : equal or greater than 15 (our delay threshold)\n",
    "#     1 : between 1 and 14 \n",
    "#     0 : otherwise\n",
    "\n",
    "cols = ['CARRIER_DELAY','WEATHER_DELAY','NAS_DELAY','SECURITY_DELAY','LATE_AIRCRAFT_DELAY']\n",
    "cols2 = cols.copy()\n",
    "for c in cols:\n",
    "    new_c_name = c+'_FLG'\n",
    "    cols2.append(new_c_name)\n",
    "    df_train[new_c_name] = df_train[c].apply(lambda x: 2 if x>=15 else(1 if x>0 else 0))\n",
    "    #df_train.loc[df_train[c]>1,new_c_name] = 1"
   ]
  },
  {
   "cell_type": "code",
   "execution_count": 88,
   "id": "a841f9f5",
   "metadata": {
    "scrolled": false
   },
   "outputs": [
    {
     "data": {
      "text/html": [
       "<div>\n",
       "<style scoped>\n",
       "    .dataframe tbody tr th:only-of-type {\n",
       "        vertical-align: middle;\n",
       "    }\n",
       "\n",
       "    .dataframe tbody tr th {\n",
       "        vertical-align: top;\n",
       "    }\n",
       "\n",
       "    .dataframe thead th {\n",
       "        text-align: right;\n",
       "    }\n",
       "</style>\n",
       "<table border=\"1\" class=\"dataframe\">\n",
       "  <thead>\n",
       "    <tr style=\"text-align: right;\">\n",
       "      <th></th>\n",
       "      <th>CARRIER_DELAY</th>\n",
       "      <th>WEATHER_DELAY</th>\n",
       "      <th>NAS_DELAY</th>\n",
       "      <th>SECURITY_DELAY</th>\n",
       "      <th>LATE_AIRCRAFT_DELAY</th>\n",
       "      <th>CARRIER_DELAY_FLG</th>\n",
       "      <th>WEATHER_DELAY_FLG</th>\n",
       "      <th>NAS_DELAY_FLG</th>\n",
       "      <th>SECURITY_DELAY_FLG</th>\n",
       "      <th>LATE_AIRCRAFT_DELAY_FLG</th>\n",
       "    </tr>\n",
       "  </thead>\n",
       "  <tbody>\n",
       "    <tr>\n",
       "      <th>5298977</th>\n",
       "      <td>82.0</td>\n",
       "      <td>0.0</td>\n",
       "      <td>0.0</td>\n",
       "      <td>0.0</td>\n",
       "      <td>0.0</td>\n",
       "      <td>2</td>\n",
       "      <td>0</td>\n",
       "      <td>0</td>\n",
       "      <td>0</td>\n",
       "      <td>0</td>\n",
       "    </tr>\n",
       "    <tr>\n",
       "      <th>7195184</th>\n",
       "      <td>19.0</td>\n",
       "      <td>0.0</td>\n",
       "      <td>0.0</td>\n",
       "      <td>0.0</td>\n",
       "      <td>9.0</td>\n",
       "      <td>2</td>\n",
       "      <td>0</td>\n",
       "      <td>0</td>\n",
       "      <td>0</td>\n",
       "      <td>1</td>\n",
       "    </tr>\n",
       "    <tr>\n",
       "      <th>5108005</th>\n",
       "      <td>0.0</td>\n",
       "      <td>0.0</td>\n",
       "      <td>0.0</td>\n",
       "      <td>0.0</td>\n",
       "      <td>16.0</td>\n",
       "      <td>0</td>\n",
       "      <td>0</td>\n",
       "      <td>0</td>\n",
       "      <td>0</td>\n",
       "      <td>2</td>\n",
       "    </tr>\n",
       "    <tr>\n",
       "      <th>1208836</th>\n",
       "      <td>0.0</td>\n",
       "      <td>0.0</td>\n",
       "      <td>0.0</td>\n",
       "      <td>0.0</td>\n",
       "      <td>35.0</td>\n",
       "      <td>0</td>\n",
       "      <td>0</td>\n",
       "      <td>0</td>\n",
       "      <td>0</td>\n",
       "      <td>2</td>\n",
       "    </tr>\n",
       "    <tr>\n",
       "      <th>2543934</th>\n",
       "      <td>112.0</td>\n",
       "      <td>0.0</td>\n",
       "      <td>2.0</td>\n",
       "      <td>0.0</td>\n",
       "      <td>0.0</td>\n",
       "      <td>2</td>\n",
       "      <td>0</td>\n",
       "      <td>1</td>\n",
       "      <td>0</td>\n",
       "      <td>0</td>\n",
       "    </tr>\n",
       "  </tbody>\n",
       "</table>\n",
       "</div>"
      ],
      "text/plain": [
       "         CARRIER_DELAY  WEATHER_DELAY  NAS_DELAY  SECURITY_DELAY  \\\n",
       "5298977           82.0            0.0        0.0             0.0   \n",
       "7195184           19.0            0.0        0.0             0.0   \n",
       "5108005            0.0            0.0        0.0             0.0   \n",
       "1208836            0.0            0.0        0.0             0.0   \n",
       "2543934          112.0            0.0        2.0             0.0   \n",
       "\n",
       "         LATE_AIRCRAFT_DELAY  CARRIER_DELAY_FLG  WEATHER_DELAY_FLG  \\\n",
       "5298977                  0.0                  2                  0   \n",
       "7195184                  9.0                  2                  0   \n",
       "5108005                 16.0                  0                  0   \n",
       "1208836                 35.0                  0                  0   \n",
       "2543934                  0.0                  2                  0   \n",
       "\n",
       "         NAS_DELAY_FLG  SECURITY_DELAY_FLG  LATE_AIRCRAFT_DELAY_FLG  \n",
       "5298977              0                   0                        0  \n",
       "7195184              0                   0                        1  \n",
       "5108005              0                   0                        2  \n",
       "1208836              0                   0                        2  \n",
       "2543934              1                   0                        0  "
      ]
     },
     "execution_count": 88,
     "metadata": {},
     "output_type": "execute_result"
    }
   ],
   "source": [
    "#Sample view for existing and new features \n",
    "cnd = ~(df_train['CARRIER_DELAY'].isna())\n",
    "df_train.loc[cnd,cols2].sample(5)"
   ]
  },
  {
   "cell_type": "code",
   "execution_count": 89,
   "id": "499dc352",
   "metadata": {
    "scrolled": true
   },
   "outputs": [],
   "source": [
    "# Add old features to the [excluded_cols]\n",
    "cols = ['CARRIER_DELAY','WEATHER_DELAY','NAS_DELAY','SECURITY_DELAY','LATE_AIRCRAFT_DELAY']\n",
    "for i in cols: \n",
    "    excluded_cols.append(i)"
   ]
  },
  {
   "cell_type": "markdown",
   "id": "dd94c4b3",
   "metadata": {},
   "source": [
    "# 4. Setting the Train Dataset"
   ]
  },
  {
   "cell_type": "code",
   "execution_count": 90,
   "id": "158e79c8",
   "metadata": {},
   "outputs": [],
   "source": [
    "# I've updated excluded list so far, now update the desired_features\n",
    "\n",
    "desired_features = [] \n",
    "for i in list(df_train.columns):\n",
    "    if i not in excluded_cols+['DELAYED']:\n",
    "        desired_features.append(i)\n",
    "desired_features.append('DELAYED')"
   ]
  },
  {
   "cell_type": "code",
   "execution_count": 91,
   "id": "666db5ce",
   "metadata": {},
   "outputs": [
    {
     "data": {
      "image/png": "[encoded data removed]",
      "text/plain": [
       "<Figure size 936x936 with 2 Axes>"
      ]
     },
     "metadata": {},
     "output_type": "display_data"
    }
   ],
   "source": [
    "# Correlation table\n",
    "sns.set(font_scale = 1.25)\n",
    "correlation_matrix = df_train[desired_features].corr()\n",
    "plt.figure(figsize=(13,13))\n",
    "ax = sns.heatmap(correlation_matrix, vmax=1, cbar=True, square=True, annot=True, fmt='.2f', \n",
    "                 annot_kws={'size': 12}, cmap='coolwarm')\n",
    "ax.xaxis.set_ticks_position('top')\n",
    "plt.yticks(rotation=0)\n",
    "plt.xticks(rotation=90)\n",
    "plt.show()"
   ]
  },
  {
   "cell_type": "markdown",
   "id": "27bb898f",
   "metadata": {},
   "source": [
    "* After transforming the features, some features correlation with the target has increased"
   ]
  },
  {
   "cell_type": "markdown",
   "id": "904172a5",
   "metadata": {},
   "source": [
    "## 4.1 Apply Created Features for the Test Dataset"
   ]
  },
  {
   "cell_type": "code",
   "execution_count": 92,
   "id": "553d7b7d",
   "metadata": {},
   "outputs": [],
   "source": [
    "############## APPLY CREATED FEATURES FOR THE TEST DATA ##########\n",
    "\n",
    "df_test['DAYOFWEEK'] = df_test['FL_DATE'].dt.dayofweek\n",
    "df_test['MONTH'] = df_test['FL_DATE'].dt.month\n",
    "\n",
    "# Add the new feature called ORG_DEL_MEAN_RNK\n",
    "df_test = pd.merge(df_test,\n",
    "                    df_org_del_mean['ORG_DEL_MEAN_RNK'],\n",
    "                    left_on='DEST', \n",
    "                    right_index=True\n",
    "                   )\n",
    "\n",
    "# Add the new feature called DES_DEL_MEAN_RNK\n",
    "df_test = pd.merge(df_test,\n",
    "                    df_des_del_mean['DES_DEL_MEAN_RNK'],\n",
    "                    left_on='DEST', \n",
    "                    right_index=True\n",
    "                   )\n",
    "\n",
    "# Add the new feature called RANK_TOTAL_FL\n",
    "df_test = pd.merge(df_test,\n",
    "                    df_rank_fl['RANK_TOTAL_FL'],\n",
    "                    left_on='ORIGIN', \n",
    "                    right_index=True\n",
    "                   )\n",
    "\n",
    "df_test['CRS_DEP_HOUR'] = (df_test['CRS_DEP_TIME']/100).apply(np.floor)\n",
    "\n",
    "df_test['TIME_OF_DAY'] = df_test['CRS_DEP_HOUR'].apply(lambda x : 0 if x<12 else (1 if x<15 else 2))\n",
    "\n",
    "cols = ['CARRIER_DELAY','WEATHER_DELAY','NAS_DELAY','SECURITY_DELAY','LATE_AIRCRAFT_DELAY']\n",
    "for c in cols:\n",
    "    new_c_name = c+'_FLG'\n",
    "    df_test[new_c_name] = df_test[c].apply(lambda x: 2 if x>=15 else(1 if x>0 else 0))\n",
    "\n",
    "###############################################################"
   ]
  },
  {
   "cell_type": "code",
   "execution_count": 93,
   "id": "ba5114db",
   "metadata": {
    "scrolled": false
   },
   "outputs": [
    {
     "name": "stdout",
     "output_type": "stream",
     "text": [
      "df_train.shape:\t(5528595, 35)\n",
      "df_test.shape:\t(994677, 35)\n"
     ]
    }
   ],
   "source": [
    "print(f'df_train.shape:\\t{df_train.shape}\\ndf_test.shape:\\t{df_test.shape}')"
   ]
  },
  {
   "cell_type": "markdown",
   "id": "0d2351c0",
   "metadata": {},
   "source": [
    "# 5. Models\n",
    "\n",
    "XGBoost, LightGBM, Logistic Regression and Random Forest models will be conducted. \n",
    "\n",
    "Since the data was grouped as train and test from the beginning (according to the given directive), cross validation was not applied."
   ]
  },
  {
   "cell_type": "code",
   "execution_count": 94,
   "id": "3e0c3c8f",
   "metadata": {
    "scrolled": true
   },
   "outputs": [
    {
     "name": "stdout",
     "output_type": "stream",
     "text": [
      "X_train: (5528595, 13)\t, y_train: (5528595,)\n",
      "X_test:  (994677, 13)\t, y_test:  (994677,)\n"
     ]
    }
   ],
   "source": [
    "## Set Train Test Datasets\n",
    "\n",
    "X_train = df_train[desired_features].drop(columns=['DELAYED'])\n",
    "y_train = df_train['DELAYED']\n",
    "\n",
    "X_test = df_test[desired_features].drop(columns=['DELAYED'])\n",
    "y_test = df_test['DELAYED']\n",
    "\n",
    "\n",
    "print(f'X_train: {X_train.shape}\\t, y_train: {y_train.shape}')\n",
    "print(f'X_test:  {X_test.shape}\\t, y_test:  {y_test.shape}')"
   ]
  },
  {
   "cell_type": "code",
   "execution_count": 95,
   "id": "c3a1b208",
   "metadata": {
    "scrolled": false
   },
   "outputs": [
    {
     "name": "stdout",
     "output_type": "stream",
     "text": [
      "<class 'pandas.core.frame.DataFrame'>\n",
      "Int64Index: 5528595 entries, 137 to 7296158\n",
      "Data columns (total 13 columns):\n",
      " #   Column                   Dtype  \n",
      "---  ------                   -----  \n",
      " 0   OP_UNIQUE_CARRIER        object \n",
      " 1   DISTANCE                 float64\n",
      " 2   DAYOFWEEK                int64  \n",
      " 3   MONTH                    int64  \n",
      " 4   ORG_DEL_MEAN_RNK         float64\n",
      " 5   DES_DEL_MEAN_RNK         float64\n",
      " 6   RANK_TOTAL_FL            float64\n",
      " 7   TIME_OF_DAY              int64  \n",
      " 8   CARRIER_DELAY_FLG        int64  \n",
      " 9   WEATHER_DELAY_FLG        int64  \n",
      " 10  NAS_DELAY_FLG            int64  \n",
      " 11  SECURITY_DELAY_FLG       int64  \n",
      " 12  LATE_AIRCRAFT_DELAY_FLG  int64  \n",
      "dtypes: float64(4), int64(8), object(1)\n",
      "memory usage: 719.5+ MB\n"
     ]
    }
   ],
   "source": [
    "X_train.info()"
   ]
  },
  {
   "cell_type": "code",
   "execution_count": 96,
   "id": "f2f14884",
   "metadata": {},
   "outputs": [
    {
     "data": {
      "text/plain": [
       "Index(['DISTANCE', 'DAYOFWEEK', 'MONTH', 'ORG_DEL_MEAN_RNK',\n",
       "       'DES_DEL_MEAN_RNK', 'RANK_TOTAL_FL', 'TIME_OF_DAY', 'CARRIER_DELAY_FLG',\n",
       "       'WEATHER_DELAY_FLG', 'NAS_DELAY_FLG', 'SECURITY_DELAY_FLG',\n",
       "       'LATE_AIRCRAFT_DELAY_FLG'],\n",
       "      dtype='object')"
      ]
     },
     "execution_count": 96,
     "metadata": {},
     "output_type": "execute_result"
    }
   ],
   "source": [
    "X_train.select_dtypes(exclude=['object']).columns"
   ]
  },
  {
   "cell_type": "code",
   "execution_count": 97,
   "id": "f46976b5",
   "metadata": {
    "scrolled": false
   },
   "outputs": [
    {
     "data": {
      "text/plain": [
       "Index(['OP_UNIQUE_CARRIER'], dtype='object')"
      ]
     },
     "execution_count": 97,
     "metadata": {},
     "output_type": "execute_result"
    }
   ],
   "source": [
    "X_train.select_dtypes(include=['object','category']).columns"
   ]
  },
  {
   "cell_type": "code",
   "execution_count": 98,
   "id": "c37cbfa3",
   "metadata": {},
   "outputs": [],
   "source": [
    "pipe_num = Pipeline([\n",
    "                     (\"scaler\", pre.StandardScaler())\n",
    "])\n",
    "\n",
    "pipe_cat = Pipeline([\n",
    "                     (\"onehot\", pre.OneHotEncoder(handle_unknown=\"ignore\"))\n",
    "])\n",
    "\n",
    "ct = ColumnTransformer([\n",
    "                      (\"num\", pipe_num, X_train.select_dtypes(exclude=['object','category']).columns), # numeric\n",
    "                      (\"cat\", pipe_cat, X_train.select_dtypes(include=['object','category']).columns) # categoric\n",
    "])"
   ]
  },
  {
   "cell_type": "markdown",
   "id": "89000221",
   "metadata": {},
   "source": [
    "## 5.1 XGBoost"
   ]
  },
  {
   "cell_type": "code",
   "execution_count": 99,
   "id": "54a0e2e8",
   "metadata": {
    "scrolled": true
   },
   "outputs": [
    {
     "data": {
      "text/html": [
       "<style>#sk-container-id-1 {color: black;background-color: white;}#sk-container-id-1 pre{padding: 0;}#sk-container-id-1 div.sk-toggleable {background-color: white;}#sk-container-id-1 label.sk-toggleable__label {cursor: pointer;display: block;width: 100%;margin-bottom: 0;padding: 0.3em;box-sizing: border-box;text-align: center;}#sk-container-id-1 label.sk-toggleable__label-arrow:before {content: \"▸\";float: left;margin-right: 0.25em;color: #696969;}#sk-container-id-1 label.sk-toggleable__label-arrow:hover:before {color: black;}#sk-container-id-1 div.sk-estimator:hover label.sk-toggleable__label-arrow:before {color: black;}#sk-container-id-1 div.sk-toggleable__content {max-height: 0;max-width: 0;overflow: hidden;text-align: left;background-color: #f0f8ff;}#sk-container-id-1 div.sk-toggleable__content pre {margin: 0.2em;color: black;border-radius: 0.25em;background-color: #f0f8ff;}#sk-container-id-1 input.sk-toggleable__control:checked~div.sk-toggleable__content {max-height: 200px;max-width: 100%;overflow: auto;}#sk-container-id-1 input.sk-toggleable__control:checked~label.sk-toggleable__label-arrow:before {content: \"▾\";}#sk-container-id-1 div.sk-estimator input.sk-toggleable__control:checked~label.sk-toggleable__label {background-color: #d4ebff;}#sk-container-id-1 div.sk-label input.sk-toggleable__control:checked~label.sk-toggleable__label {background-color: #d4ebff;}#sk-container-id-1 input.sk-hidden--visually {border: 0;clip: rect(1px 1px 1px 1px);clip: rect(1px, 1px, 1px, 1px);height: 1px;margin: -1px;overflow: hidden;padding: 0;position: absolute;width: 1px;}#sk-container-id-1 div.sk-estimator {font-family: monospace;background-color: #f0f8ff;border: 1px dotted black;border-radius: 0.25em;box-sizing: border-box;margin-bottom: 0.5em;}#sk-container-id-1 div.sk-estimator:hover {background-color: #d4ebff;}#sk-container-id-1 div.sk-parallel-item::after {content: \"\";width: 100%;border-bottom: 1px solid gray;flex-grow: 1;}#sk-container-id-1 div.sk-label:hover label.sk-toggleable__label {background-color: #d4ebff;}#sk-container-id-1 div.sk-serial::before {content: \"\";position: absolute;border-left: 1px solid gray;box-sizing: border-box;top: 0;bottom: 0;left: 50%;z-index: 0;}#sk-container-id-1 div.sk-serial {display: flex;flex-direction: column;align-items: center;background-color: white;padding-right: 0.2em;padding-left: 0.2em;position: relative;}#sk-container-id-1 div.sk-item {position: relative;z-index: 1;}#sk-container-id-1 div.sk-parallel {display: flex;align-items: stretch;justify-content: center;background-color: white;position: relative;}#sk-container-id-1 div.sk-item::before, #sk-container-id-1 div.sk-parallel-item::before {content: \"\";position: absolute;border-left: 1px solid gray;box-sizing: border-box;top: 0;bottom: 0;left: 50%;z-index: -1;}#sk-container-id-1 div.sk-parallel-item {display: flex;flex-direction: column;z-index: 1;position: relative;background-color: white;}#sk-container-id-1 div.sk-parallel-item:first-child::after {align-self: flex-end;width: 50%;}#sk-container-id-1 div.sk-parallel-item:last-child::after {align-self: flex-start;width: 50%;}#sk-container-id-1 div.sk-parallel-item:only-child::after {width: 0;}#sk-container-id-1 div.sk-dashed-wrapped {border: 1px dashed gray;margin: 0 0.4em 0.5em 0.4em;box-sizing: border-box;padding-bottom: 0.4em;background-color: white;}#sk-container-id-1 div.sk-label label {font-family: monospace;font-weight: bold;display: inline-block;line-height: 1.2em;}#sk-container-id-1 div.sk-label-container {text-align: center;}#sk-container-id-1 div.sk-container {/* jupyter's `normalize.less` sets `[hidden] { display: none; }` but bootstrap.min.css set `[hidden] { display: none !important; }` so we also need the `!important` here to be able to override the default hidden behavior on the sphinx rendered scikit-learn.org. See: https://github.com/scikit-learn/scikit-learn/issues/21755 */display: inline-block !important;position: relative;}#sk-container-id-1 div.sk-text-repr-fallback {display: none;}</style><div id=\"sk-container-id-1\" class=\"sk-top-container\"><div class=\"sk-text-repr-fallback\"><pre>Pipeline(steps=[(&#x27;ct&#x27;,\n",
       "                 ColumnTransformer(transformers=[(&#x27;num&#x27;,\n",
       "                                                  Pipeline(steps=[(&#x27;scaler&#x27;,\n",
       "                                                                   StandardScaler())]),\n",
       "                                                  Index([&#x27;DISTANCE&#x27;, &#x27;DAYOFWEEK&#x27;, &#x27;MONTH&#x27;, &#x27;ORG_DEL_MEAN_RNK&#x27;,\n",
       "       &#x27;DES_DEL_MEAN_RNK&#x27;, &#x27;RANK_TOTAL_FL&#x27;, &#x27;TIME_OF_DAY&#x27;, &#x27;CARRIER_DELAY_FLG&#x27;,\n",
       "       &#x27;WEATHER_DELAY_FLG&#x27;, &#x27;NAS_DELAY_FLG&#x27;, &#x27;SECURITY_DELAY_FLG&#x27;,\n",
       "       &#x27;LATE_AIRCRAFT_DELAY_FLG&#x27;],\n",
       "      dtype=&#x27;object&#x27;)),\n",
       "                                                 (&#x27;cat&#x27;,\n",
       "                                                  Pipeline(...\n",
       "                               gamma=0, gpu_id=-1, grow_policy=&#x27;depthwise&#x27;,\n",
       "                               importance_type=None, interaction_constraints=&#x27;&#x27;,\n",
       "                               learning_rate=0.300000012, max_bin=256,\n",
       "                               max_cat_to_onehot=4, max_delta_step=0,\n",
       "                               max_depth=6, max_leaves=0, min_child_weight=1,\n",
       "                               missing=nan, monotone_constraints=&#x27;()&#x27;,\n",
       "                               n_estimators=100, n_jobs=0, num_parallel_tree=1,\n",
       "                               predictor=&#x27;auto&#x27;, random_state=28, reg_alpha=0,\n",
       "                               reg_lambda=1, ...))])</pre><b>In a Jupyter environment, please rerun this cell to show the HTML representation or trust the notebook. <br />On GitHub, the HTML representation is unable to render, please try loading this page with nbviewer.org.</b></div><div class=\"sk-container\" hidden><div class=\"sk-item sk-dashed-wrapped\"><div class=\"sk-label-container\"><div class=\"sk-label sk-toggleable\"><input class=\"sk-toggleable__control sk-hidden--visually\" id=\"sk-estimator-id-1\" type=\"checkbox\" ><label for=\"sk-estimator-id-1\" class=\"sk-toggleable__label sk-toggleable__label-arrow\">Pipeline</label><div class=\"sk-toggleable__content\"><pre>Pipeline(steps=[(&#x27;ct&#x27;,\n",
       "                 ColumnTransformer(transformers=[(&#x27;num&#x27;,\n",
       "                                                  Pipeline(steps=[(&#x27;scaler&#x27;,\n",
       "                                                                   StandardScaler())]),\n",
       "                                                  Index([&#x27;DISTANCE&#x27;, &#x27;DAYOFWEEK&#x27;, &#x27;MONTH&#x27;, &#x27;ORG_DEL_MEAN_RNK&#x27;,\n",
       "       &#x27;DES_DEL_MEAN_RNK&#x27;, &#x27;RANK_TOTAL_FL&#x27;, &#x27;TIME_OF_DAY&#x27;, &#x27;CARRIER_DELAY_FLG&#x27;,\n",
       "       &#x27;WEATHER_DELAY_FLG&#x27;, &#x27;NAS_DELAY_FLG&#x27;, &#x27;SECURITY_DELAY_FLG&#x27;,\n",
       "       &#x27;LATE_AIRCRAFT_DELAY_FLG&#x27;],\n",
       "      dtype=&#x27;object&#x27;)),\n",
       "                                                 (&#x27;cat&#x27;,\n",
       "                                                  Pipeline(...\n",
       "                               gamma=0, gpu_id=-1, grow_policy=&#x27;depthwise&#x27;,\n",
       "                               importance_type=None, interaction_constraints=&#x27;&#x27;,\n",
       "                               learning_rate=0.300000012, max_bin=256,\n",
       "                               max_cat_to_onehot=4, max_delta_step=0,\n",
       "                               max_depth=6, max_leaves=0, min_child_weight=1,\n",
       "                               missing=nan, monotone_constraints=&#x27;()&#x27;,\n",
       "                               n_estimators=100, n_jobs=0, num_parallel_tree=1,\n",
       "                               predictor=&#x27;auto&#x27;, random_state=28, reg_alpha=0,\n",
       "                               reg_lambda=1, ...))])</pre></div></div></div><div class=\"sk-serial\"><div class=\"sk-item sk-dashed-wrapped\"><div class=\"sk-label-container\"><div class=\"sk-label sk-toggleable\"><input class=\"sk-toggleable__control sk-hidden--visually\" id=\"sk-estimator-id-2\" type=\"checkbox\" ><label for=\"sk-estimator-id-2\" class=\"sk-toggleable__label sk-toggleable__label-arrow\">ct: ColumnTransformer</label><div class=\"sk-toggleable__content\"><pre>ColumnTransformer(transformers=[(&#x27;num&#x27;,\n",
       "                                 Pipeline(steps=[(&#x27;scaler&#x27;, StandardScaler())]),\n",
       "                                 Index([&#x27;DISTANCE&#x27;, &#x27;DAYOFWEEK&#x27;, &#x27;MONTH&#x27;, &#x27;ORG_DEL_MEAN_RNK&#x27;,\n",
       "       &#x27;DES_DEL_MEAN_RNK&#x27;, &#x27;RANK_TOTAL_FL&#x27;, &#x27;TIME_OF_DAY&#x27;, &#x27;CARRIER_DELAY_FLG&#x27;,\n",
       "       &#x27;WEATHER_DELAY_FLG&#x27;, &#x27;NAS_DELAY_FLG&#x27;, &#x27;SECURITY_DELAY_FLG&#x27;,\n",
       "       &#x27;LATE_AIRCRAFT_DELAY_FLG&#x27;],\n",
       "      dtype=&#x27;object&#x27;)),\n",
       "                                (&#x27;cat&#x27;,\n",
       "                                 Pipeline(steps=[(&#x27;onehot&#x27;,\n",
       "                                                  OneHotEncoder(handle_unknown=&#x27;ignore&#x27;))]),\n",
       "                                 Index([&#x27;OP_UNIQUE_CARRIER&#x27;], dtype=&#x27;object&#x27;))])</pre></div></div></div><div class=\"sk-parallel\"><div class=\"sk-parallel-item\"><div class=\"sk-item\"><div class=\"sk-label-container\"><div class=\"sk-label sk-toggleable\"><input class=\"sk-toggleable__control sk-hidden--visually\" id=\"sk-estimator-id-3\" type=\"checkbox\" ><label for=\"sk-estimator-id-3\" class=\"sk-toggleable__label sk-toggleable__label-arrow\">num</label><div class=\"sk-toggleable__content\"><pre>Index([&#x27;DISTANCE&#x27;, &#x27;DAYOFWEEK&#x27;, &#x27;MONTH&#x27;, &#x27;ORG_DEL_MEAN_RNK&#x27;,\n",
       "       &#x27;DES_DEL_MEAN_RNK&#x27;, &#x27;RANK_TOTAL_FL&#x27;, &#x27;TIME_OF_DAY&#x27;, &#x27;CARRIER_DELAY_FLG&#x27;,\n",
       "       &#x27;WEATHER_DELAY_FLG&#x27;, &#x27;NAS_DELAY_FLG&#x27;, &#x27;SECURITY_DELAY_FLG&#x27;,\n",
       "       &#x27;LATE_AIRCRAFT_DELAY_FLG&#x27;],\n",
       "      dtype=&#x27;object&#x27;)</pre></div></div></div><div class=\"sk-serial\"><div class=\"sk-item\"><div class=\"sk-serial\"><div class=\"sk-item\"><div class=\"sk-estimator sk-toggleable\"><input class=\"sk-toggleable__control sk-hidden--visually\" id=\"sk-estimator-id-4\" type=\"checkbox\" ><label for=\"sk-estimator-id-4\" class=\"sk-toggleable__label sk-toggleable__label-arrow\">StandardScaler</label><div class=\"sk-toggleable__content\"><pre>StandardScaler()</pre></div></div></div></div></div></div></div></div><div class=\"sk-parallel-item\"><div class=\"sk-item\"><div class=\"sk-label-container\"><div class=\"sk-label sk-toggleable\"><input class=\"sk-toggleable__control sk-hidden--visually\" id=\"sk-estimator-id-5\" type=\"checkbox\" ><label for=\"sk-estimator-id-5\" class=\"sk-toggleable__label sk-toggleable__label-arrow\">cat</label><div class=\"sk-toggleable__content\"><pre>Index([&#x27;OP_UNIQUE_CARRIER&#x27;], dtype=&#x27;object&#x27;)</pre></div></div></div><div class=\"sk-serial\"><div class=\"sk-item\"><div class=\"sk-serial\"><div class=\"sk-item\"><div class=\"sk-estimator sk-toggleable\"><input class=\"sk-toggleable__control sk-hidden--visually\" id=\"sk-estimator-id-6\" type=\"checkbox\" ><label for=\"sk-estimator-id-6\" class=\"sk-toggleable__label sk-toggleable__label-arrow\">OneHotEncoder</label><div class=\"sk-toggleable__content\"><pre>OneHotEncoder(handle_unknown=&#x27;ignore&#x27;)</pre></div></div></div></div></div></div></div></div></div></div><div class=\"sk-item\"><div class=\"sk-estimator sk-toggleable\"><input class=\"sk-toggleable__control sk-hidden--visually\" id=\"sk-estimator-id-7\" type=\"checkbox\" ><label for=\"sk-estimator-id-7\" class=\"sk-toggleable__label sk-toggleable__label-arrow\">StandardScaler</label><div class=\"sk-toggleable__content\"><pre>StandardScaler()</pre></div></div></div><div class=\"sk-item\"><div class=\"sk-estimator sk-toggleable\"><input class=\"sk-toggleable__control sk-hidden--visually\" id=\"sk-estimator-id-8\" type=\"checkbox\" ><label for=\"sk-estimator-id-8\" class=\"sk-toggleable__label sk-toggleable__label-arrow\">XGBClassifier</label><div class=\"sk-toggleable__content\"><pre>XGBClassifier(base_score=0.5, booster=&#x27;gbtree&#x27;, callbacks=None,\n",
       "              colsample_bylevel=1, colsample_bynode=1, colsample_bytree=1,\n",
       "              early_stopping_rounds=None, enable_categorical=False,\n",
       "              eval_metric=None, gamma=0, gpu_id=-1, grow_policy=&#x27;depthwise&#x27;,\n",
       "              importance_type=None, interaction_constraints=&#x27;&#x27;,\n",
       "              learning_rate=0.300000012, max_bin=256, max_cat_to_onehot=4,\n",
       "              max_delta_step=0, max_depth=6, max_leaves=0, min_child_weight=1,\n",
       "              missing=nan, monotone_constraints=&#x27;()&#x27;, n_estimators=100,\n",
       "              n_jobs=0, num_parallel_tree=1, predictor=&#x27;auto&#x27;, random_state=28,\n",
       "              reg_alpha=0, reg_lambda=1, ...)</pre></div></div></div></div></div></div></div>"
      ],
      "text/plain": [
       "Pipeline(steps=[('ct',\n",
       "                 ColumnTransformer(transformers=[('num',\n",
       "                                                  Pipeline(steps=[('scaler',\n",
       "                                                                   StandardScaler())]),\n",
       "                                                  Index(['DISTANCE', 'DAYOFWEEK', 'MONTH', 'ORG_DEL_MEAN_RNK',\n",
       "       'DES_DEL_MEAN_RNK', 'RANK_TOTAL_FL', 'TIME_OF_DAY', 'CARRIER_DELAY_FLG',\n",
       "       'WEATHER_DELAY_FLG', 'NAS_DELAY_FLG', 'SECURITY_DELAY_FLG',\n",
       "       'LATE_AIRCRAFT_DELAY_FLG'],\n",
       "      dtype='object')),\n",
       "                                                 ('cat',\n",
       "                                                  Pipeline(...\n",
       "                               gamma=0, gpu_id=-1, grow_policy='depthwise',\n",
       "                               importance_type=None, interaction_constraints='',\n",
       "                               learning_rate=0.300000012, max_bin=256,\n",
       "                               max_cat_to_onehot=4, max_delta_step=0,\n",
       "                               max_depth=6, max_leaves=0, min_child_weight=1,\n",
       "                               missing=nan, monotone_constraints='()',\n",
       "                               n_estimators=100, n_jobs=0, num_parallel_tree=1,\n",
       "                               predictor='auto', random_state=28, reg_alpha=0,\n",
       "                               reg_lambda=1, ...))])"
      ]
     },
     "execution_count": 99,
     "metadata": {},
     "output_type": "execute_result"
    }
   ],
   "source": [
    "# 'XGBoost'\n",
    "pipe_final = Pipeline([\n",
    "                       (\"ct\", ct),\n",
    "                       (\"scaler\", pre.StandardScaler()),\n",
    "                       (\"xgb\", XGBClassifier( seed = 28))\n",
    "])\n",
    "\n",
    "pipe_final.fit(X_train, y_train)\n",
    "#Skip the CV part\n",
    "#print(round(mdl.cross_val_score(pipe_final, X_train, y_train, cv=5).mean(),2))"
   ]
  },
  {
   "cell_type": "code",
   "execution_count": 100,
   "id": "cac76f05",
   "metadata": {
    "scrolled": true
   },
   "outputs": [
    {
     "name": "stdout",
     "output_type": "stream",
     "text": [
      "roc_auc_score: 0.8763\n",
      "\n",
      "              precision    recall  f1-score   support\n",
      "\n",
      "           0     0.9408    0.9943    0.9668    790101\n",
      "           1     0.9717    0.7583    0.8518    204576\n",
      "\n",
      "    accuracy                         0.9457    994677\n",
      "   macro avg     0.9563    0.8763    0.9093    994677\n",
      "weighted avg     0.9471    0.9457    0.9431    994677\n",
      "\n"
     ]
    }
   ],
   "source": [
    "# get  predictions\n",
    "y_pred = pipe_final.predict(X_test)\n",
    "print(\"roc_auc_score:\", round(met.roc_auc_score(y_test, y_pred),4))\n",
    "print()\n",
    "print(met.classification_report(y_test, y_pred,digits=4))\n"
   ]
  },
  {
   "cell_type": "markdown",
   "id": "4d8d801d",
   "metadata": {},
   "source": [
    "## 5.2 LGBM"
   ]
  },
  {
   "cell_type": "code",
   "execution_count": 101,
   "id": "0f739386",
   "metadata": {},
   "outputs": [
    {
     "data": {
      "text/html": [
       "<style>#sk-container-id-2 {color: black;background-color: white;}#sk-container-id-2 pre{padding: 0;}#sk-container-id-2 div.sk-toggleable {background-color: white;}#sk-container-id-2 label.sk-toggleable__label {cursor: pointer;display: block;width: 100%;margin-bottom: 0;padding: 0.3em;box-sizing: border-box;text-align: center;}#sk-container-id-2 label.sk-toggleable__label-arrow:before {content: \"▸\";float: left;margin-right: 0.25em;color: #696969;}#sk-container-id-2 label.sk-toggleable__label-arrow:hover:before {color: black;}#sk-container-id-2 div.sk-estimator:hover label.sk-toggleable__label-arrow:before {color: black;}#sk-container-id-2 div.sk-toggleable__content {max-height: 0;max-width: 0;overflow: hidden;text-align: left;background-color: #f0f8ff;}#sk-container-id-2 div.sk-toggleable__content pre {margin: 0.2em;color: black;border-radius: 0.25em;background-color: #f0f8ff;}#sk-container-id-2 input.sk-toggleable__control:checked~div.sk-toggleable__content {max-height: 200px;max-width: 100%;overflow: auto;}#sk-container-id-2 input.sk-toggleable__control:checked~label.sk-toggleable__label-arrow:before {content: \"▾\";}#sk-container-id-2 div.sk-estimator input.sk-toggleable__control:checked~label.sk-toggleable__label {background-color: #d4ebff;}#sk-container-id-2 div.sk-label input.sk-toggleable__control:checked~label.sk-toggleable__label {background-color: #d4ebff;}#sk-container-id-2 input.sk-hidden--visually {border: 0;clip: rect(1px 1px 1px 1px);clip: rect(1px, 1px, 1px, 1px);height: 1px;margin: -1px;overflow: hidden;padding: 0;position: absolute;width: 1px;}#sk-container-id-2 div.sk-estimator {font-family: monospace;background-color: #f0f8ff;border: 1px dotted black;border-radius: 0.25em;box-sizing: border-box;margin-bottom: 0.5em;}#sk-container-id-2 div.sk-estimator:hover {background-color: #d4ebff;}#sk-container-id-2 div.sk-parallel-item::after {content: \"\";width: 100%;border-bottom: 1px solid gray;flex-grow: 1;}#sk-container-id-2 div.sk-label:hover label.sk-toggleable__label {background-color: #d4ebff;}#sk-container-id-2 div.sk-serial::before {content: \"\";position: absolute;border-left: 1px solid gray;box-sizing: border-box;top: 0;bottom: 0;left: 50%;z-index: 0;}#sk-container-id-2 div.sk-serial {display: flex;flex-direction: column;align-items: center;background-color: white;padding-right: 0.2em;padding-left: 0.2em;position: relative;}#sk-container-id-2 div.sk-item {position: relative;z-index: 1;}#sk-container-id-2 div.sk-parallel {display: flex;align-items: stretch;justify-content: center;background-color: white;position: relative;}#sk-container-id-2 div.sk-item::before, #sk-container-id-2 div.sk-parallel-item::before {content: \"\";position: absolute;border-left: 1px solid gray;box-sizing: border-box;top: 0;bottom: 0;left: 50%;z-index: -1;}#sk-container-id-2 div.sk-parallel-item {display: flex;flex-direction: column;z-index: 1;position: relative;background-color: white;}#sk-container-id-2 div.sk-parallel-item:first-child::after {align-self: flex-end;width: 50%;}#sk-container-id-2 div.sk-parallel-item:last-child::after {align-self: flex-start;width: 50%;}#sk-container-id-2 div.sk-parallel-item:only-child::after {width: 0;}#sk-container-id-2 div.sk-dashed-wrapped {border: 1px dashed gray;margin: 0 0.4em 0.5em 0.4em;box-sizing: border-box;padding-bottom: 0.4em;background-color: white;}#sk-container-id-2 div.sk-label label {font-family: monospace;font-weight: bold;display: inline-block;line-height: 1.2em;}#sk-container-id-2 div.sk-label-container {text-align: center;}#sk-container-id-2 div.sk-container {/* jupyter's `normalize.less` sets `[hidden] { display: none; }` but bootstrap.min.css set `[hidden] { display: none !important; }` so we also need the `!important` here to be able to override the default hidden behavior on the sphinx rendered scikit-learn.org. See: https://github.com/scikit-learn/scikit-learn/issues/21755 */display: inline-block !important;position: relative;}#sk-container-id-2 div.sk-text-repr-fallback {display: none;}</style><div id=\"sk-container-id-2\" class=\"sk-top-container\"><div class=\"sk-text-repr-fallback\"><pre>Pipeline(steps=[(&#x27;ct&#x27;,\n",
       "                 ColumnTransformer(transformers=[(&#x27;num&#x27;,\n",
       "                                                  Pipeline(steps=[(&#x27;scaler&#x27;,\n",
       "                                                                   StandardScaler())]),\n",
       "                                                  Index([&#x27;DISTANCE&#x27;, &#x27;DAYOFWEEK&#x27;, &#x27;MONTH&#x27;, &#x27;ORG_DEL_MEAN_RNK&#x27;,\n",
       "       &#x27;DES_DEL_MEAN_RNK&#x27;, &#x27;RANK_TOTAL_FL&#x27;, &#x27;TIME_OF_DAY&#x27;, &#x27;CARRIER_DELAY_FLG&#x27;,\n",
       "       &#x27;WEATHER_DELAY_FLG&#x27;, &#x27;NAS_DELAY_FLG&#x27;, &#x27;SECURITY_DELAY_FLG&#x27;,\n",
       "       &#x27;LATE_AIRCRAFT_DELAY_FLG&#x27;],\n",
       "      dtype=&#x27;object&#x27;)),\n",
       "                                                 (&#x27;cat&#x27;,\n",
       "                                                  Pipeline(steps=[(&#x27;onehot&#x27;,\n",
       "                                                                   OneHotEncoder(handle_unknown=&#x27;ignore&#x27;))]),\n",
       "                                                  Index([&#x27;OP_UNIQUE_CARRIER&#x27;], dtype=&#x27;object&#x27;))])),\n",
       "                (&#x27;scaler&#x27;, StandardScaler()),\n",
       "                (&#x27;lgbm&#x27;, LGBMClassifier(random_state=28))])</pre><b>In a Jupyter environment, please rerun this cell to show the HTML representation or trust the notebook. <br />On GitHub, the HTML representation is unable to render, please try loading this page with nbviewer.org.</b></div><div class=\"sk-container\" hidden><div class=\"sk-item sk-dashed-wrapped\"><div class=\"sk-label-container\"><div class=\"sk-label sk-toggleable\"><input class=\"sk-toggleable__control sk-hidden--visually\" id=\"sk-estimator-id-9\" type=\"checkbox\" ><label for=\"sk-estimator-id-9\" class=\"sk-toggleable__label sk-toggleable__label-arrow\">Pipeline</label><div class=\"sk-toggleable__content\"><pre>Pipeline(steps=[(&#x27;ct&#x27;,\n",
       "                 ColumnTransformer(transformers=[(&#x27;num&#x27;,\n",
       "                                                  Pipeline(steps=[(&#x27;scaler&#x27;,\n",
       "                                                                   StandardScaler())]),\n",
       "                                                  Index([&#x27;DISTANCE&#x27;, &#x27;DAYOFWEEK&#x27;, &#x27;MONTH&#x27;, &#x27;ORG_DEL_MEAN_RNK&#x27;,\n",
       "       &#x27;DES_DEL_MEAN_RNK&#x27;, &#x27;RANK_TOTAL_FL&#x27;, &#x27;TIME_OF_DAY&#x27;, &#x27;CARRIER_DELAY_FLG&#x27;,\n",
       "       &#x27;WEATHER_DELAY_FLG&#x27;, &#x27;NAS_DELAY_FLG&#x27;, &#x27;SECURITY_DELAY_FLG&#x27;,\n",
       "       &#x27;LATE_AIRCRAFT_DELAY_FLG&#x27;],\n",
       "      dtype=&#x27;object&#x27;)),\n",
       "                                                 (&#x27;cat&#x27;,\n",
       "                                                  Pipeline(steps=[(&#x27;onehot&#x27;,\n",
       "                                                                   OneHotEncoder(handle_unknown=&#x27;ignore&#x27;))]),\n",
       "                                                  Index([&#x27;OP_UNIQUE_CARRIER&#x27;], dtype=&#x27;object&#x27;))])),\n",
       "                (&#x27;scaler&#x27;, StandardScaler()),\n",
       "                (&#x27;lgbm&#x27;, LGBMClassifier(random_state=28))])</pre></div></div></div><div class=\"sk-serial\"><div class=\"sk-item sk-dashed-wrapped\"><div class=\"sk-label-container\"><div class=\"sk-label sk-toggleable\"><input class=\"sk-toggleable__control sk-hidden--visually\" id=\"sk-estimator-id-10\" type=\"checkbox\" ><label for=\"sk-estimator-id-10\" class=\"sk-toggleable__label sk-toggleable__label-arrow\">ct: ColumnTransformer</label><div class=\"sk-toggleable__content\"><pre>ColumnTransformer(transformers=[(&#x27;num&#x27;,\n",
       "                                 Pipeline(steps=[(&#x27;scaler&#x27;, StandardScaler())]),\n",
       "                                 Index([&#x27;DISTANCE&#x27;, &#x27;DAYOFWEEK&#x27;, &#x27;MONTH&#x27;, &#x27;ORG_DEL_MEAN_RNK&#x27;,\n",
       "       &#x27;DES_DEL_MEAN_RNK&#x27;, &#x27;RANK_TOTAL_FL&#x27;, &#x27;TIME_OF_DAY&#x27;, &#x27;CARRIER_DELAY_FLG&#x27;,\n",
       "       &#x27;WEATHER_DELAY_FLG&#x27;, &#x27;NAS_DELAY_FLG&#x27;, &#x27;SECURITY_DELAY_FLG&#x27;,\n",
       "       &#x27;LATE_AIRCRAFT_DELAY_FLG&#x27;],\n",
       "      dtype=&#x27;object&#x27;)),\n",
       "                                (&#x27;cat&#x27;,\n",
       "                                 Pipeline(steps=[(&#x27;onehot&#x27;,\n",
       "                                                  OneHotEncoder(handle_unknown=&#x27;ignore&#x27;))]),\n",
       "                                 Index([&#x27;OP_UNIQUE_CARRIER&#x27;], dtype=&#x27;object&#x27;))])</pre></div></div></div><div class=\"sk-parallel\"><div class=\"sk-parallel-item\"><div class=\"sk-item\"><div class=\"sk-label-container\"><div class=\"sk-label sk-toggleable\"><input class=\"sk-toggleable__control sk-hidden--visually\" id=\"sk-estimator-id-11\" type=\"checkbox\" ><label for=\"sk-estimator-id-11\" class=\"sk-toggleable__label sk-toggleable__label-arrow\">num</label><div class=\"sk-toggleable__content\"><pre>Index([&#x27;DISTANCE&#x27;, &#x27;DAYOFWEEK&#x27;, &#x27;MONTH&#x27;, &#x27;ORG_DEL_MEAN_RNK&#x27;,\n",
       "       &#x27;DES_DEL_MEAN_RNK&#x27;, &#x27;RANK_TOTAL_FL&#x27;, &#x27;TIME_OF_DAY&#x27;, &#x27;CARRIER_DELAY_FLG&#x27;,\n",
       "       &#x27;WEATHER_DELAY_FLG&#x27;, &#x27;NAS_DELAY_FLG&#x27;, &#x27;SECURITY_DELAY_FLG&#x27;,\n",
       "       &#x27;LATE_AIRCRAFT_DELAY_FLG&#x27;],\n",
       "      dtype=&#x27;object&#x27;)</pre></div></div></div><div class=\"sk-serial\"><div class=\"sk-item\"><div class=\"sk-serial\"><div class=\"sk-item\"><div class=\"sk-estimator sk-toggleable\"><input class=\"sk-toggleable__control sk-hidden--visually\" id=\"sk-estimator-id-12\" type=\"checkbox\" ><label for=\"sk-estimator-id-12\" class=\"sk-toggleable__label sk-toggleable__label-arrow\">StandardScaler</label><div class=\"sk-toggleable__content\"><pre>StandardScaler()</pre></div></div></div></div></div></div></div></div><div class=\"sk-parallel-item\"><div class=\"sk-item\"><div class=\"sk-label-container\"><div class=\"sk-label sk-toggleable\"><input class=\"sk-toggleable__control sk-hidden--visually\" id=\"sk-estimator-id-13\" type=\"checkbox\" ><label for=\"sk-estimator-id-13\" class=\"sk-toggleable__label sk-toggleable__label-arrow\">cat</label><div class=\"sk-toggleable__content\"><pre>Index([&#x27;OP_UNIQUE_CARRIER&#x27;], dtype=&#x27;object&#x27;)</pre></div></div></div><div class=\"sk-serial\"><div class=\"sk-item\"><div class=\"sk-serial\"><div class=\"sk-item\"><div class=\"sk-estimator sk-toggleable\"><input class=\"sk-toggleable__control sk-hidden--visually\" id=\"sk-estimator-id-14\" type=\"checkbox\" ><label for=\"sk-estimator-id-14\" class=\"sk-toggleable__label sk-toggleable__label-arrow\">OneHotEncoder</label><div class=\"sk-toggleable__content\"><pre>OneHotEncoder(handle_unknown=&#x27;ignore&#x27;)</pre></div></div></div></div></div></div></div></div></div></div><div class=\"sk-item\"><div class=\"sk-estimator sk-toggleable\"><input class=\"sk-toggleable__control sk-hidden--visually\" id=\"sk-estimator-id-15\" type=\"checkbox\" ><label for=\"sk-estimator-id-15\" class=\"sk-toggleable__label sk-toggleable__label-arrow\">StandardScaler</label><div class=\"sk-toggleable__content\"><pre>StandardScaler()</pre></div></div></div><div class=\"sk-item\"><div class=\"sk-estimator sk-toggleable\"><input class=\"sk-toggleable__control sk-hidden--visually\" id=\"sk-estimator-id-16\" type=\"checkbox\" ><label for=\"sk-estimator-id-16\" class=\"sk-toggleable__label sk-toggleable__label-arrow\">LGBMClassifier</label><div class=\"sk-toggleable__content\"><pre>LGBMClassifier(random_state=28)</pre></div></div></div></div></div></div></div>"
      ],
      "text/plain": [
       "Pipeline(steps=[('ct',\n",
       "                 ColumnTransformer(transformers=[('num',\n",
       "                                                  Pipeline(steps=[('scaler',\n",
       "                                                                   StandardScaler())]),\n",
       "                                                  Index(['DISTANCE', 'DAYOFWEEK', 'MONTH', 'ORG_DEL_MEAN_RNK',\n",
       "       'DES_DEL_MEAN_RNK', 'RANK_TOTAL_FL', 'TIME_OF_DAY', 'CARRIER_DELAY_FLG',\n",
       "       'WEATHER_DELAY_FLG', 'NAS_DELAY_FLG', 'SECURITY_DELAY_FLG',\n",
       "       'LATE_AIRCRAFT_DELAY_FLG'],\n",
       "      dtype='object')),\n",
       "                                                 ('cat',\n",
       "                                                  Pipeline(steps=[('onehot',\n",
       "                                                                   OneHotEncoder(handle_unknown='ignore'))]),\n",
       "                                                  Index(['OP_UNIQUE_CARRIER'], dtype='object'))])),\n",
       "                ('scaler', StandardScaler()),\n",
       "                ('lgbm', LGBMClassifier(random_state=28))])"
      ]
     },
     "execution_count": 101,
     "metadata": {},
     "output_type": "execute_result"
    }
   ],
   "source": [
    "#model_name = 'LGBM'\n",
    "\n",
    "pipe_final = Pipeline([\n",
    "                       (\"ct\", ct),\n",
    "                       (\"scaler\", pre.StandardScaler()),\n",
    "                       (\"lgbm\", LGBMClassifier(random_state = 28))\n",
    "])\n",
    "\n",
    "pipe_final.fit(X_train, y_train)\n",
    "#Skip the CV part\n",
    "#print(round(mdl.cross_val_score(pipe_final, X_train, y_train, cv=5).mean(),2))"
   ]
  },
  {
   "cell_type": "code",
   "execution_count": 102,
   "id": "8e262c24",
   "metadata": {
    "scrolled": false
   },
   "outputs": [
    {
     "name": "stdout",
     "output_type": "stream",
     "text": [
      "roc_auc_score: 0.8761\n",
      "\n",
      "              precision    recall  f1-score   support\n",
      "\n",
      "           0     0.9407    0.9944    0.9668    790101\n",
      "           1     0.9723    0.7578    0.8518    204576\n",
      "\n",
      "    accuracy                         0.9458    994677\n",
      "   macro avg     0.9565    0.8761    0.9093    994677\n",
      "weighted avg     0.9472    0.9458    0.9431    994677\n",
      "\n"
     ]
    }
   ],
   "source": [
    "# get  predictions\n",
    "y_pred = pipe_final.predict(X_test)\n",
    "print(\"roc_auc_score:\", round(met.roc_auc_score(y_test, y_pred),4))\n",
    "print()\n",
    "print(met.classification_report(y_test, y_pred,digits=4))\n"
   ]
  },
  {
   "cell_type": "markdown",
   "id": "b5ebc0e4",
   "metadata": {},
   "source": [
    "## 5.3 Random Forrest"
   ]
  },
  {
   "cell_type": "code",
   "execution_count": 103,
   "id": "abea1503",
   "metadata": {},
   "outputs": [
    {
     "data": {
      "text/html": [
       "<style>#sk-container-id-3 {color: black;background-color: white;}#sk-container-id-3 pre{padding: 0;}#sk-container-id-3 div.sk-toggleable {background-color: white;}#sk-container-id-3 label.sk-toggleable__label {cursor: pointer;display: block;width: 100%;margin-bottom: 0;padding: 0.3em;box-sizing: border-box;text-align: center;}#sk-container-id-3 label.sk-toggleable__label-arrow:before {content: \"▸\";float: left;margin-right: 0.25em;color: #696969;}#sk-container-id-3 label.sk-toggleable__label-arrow:hover:before {color: black;}#sk-container-id-3 div.sk-estimator:hover label.sk-toggleable__label-arrow:before {color: black;}#sk-container-id-3 div.sk-toggleable__content {max-height: 0;max-width: 0;overflow: hidden;text-align: left;background-color: #f0f8ff;}#sk-container-id-3 div.sk-toggleable__content pre {margin: 0.2em;color: black;border-radius: 0.25em;background-color: #f0f8ff;}#sk-container-id-3 input.sk-toggleable__control:checked~div.sk-toggleable__content {max-height: 200px;max-width: 100%;overflow: auto;}#sk-container-id-3 input.sk-toggleable__control:checked~label.sk-toggleable__label-arrow:before {content: \"▾\";}#sk-container-id-3 div.sk-estimator input.sk-toggleable__control:checked~label.sk-toggleable__label {background-color: #d4ebff;}#sk-container-id-3 div.sk-label input.sk-toggleable__control:checked~label.sk-toggleable__label {background-color: #d4ebff;}#sk-container-id-3 input.sk-hidden--visually {border: 0;clip: rect(1px 1px 1px 1px);clip: rect(1px, 1px, 1px, 1px);height: 1px;margin: -1px;overflow: hidden;padding: 0;position: absolute;width: 1px;}#sk-container-id-3 div.sk-estimator {font-family: monospace;background-color: #f0f8ff;border: 1px dotted black;border-radius: 0.25em;box-sizing: border-box;margin-bottom: 0.5em;}#sk-container-id-3 div.sk-estimator:hover {background-color: #d4ebff;}#sk-container-id-3 div.sk-parallel-item::after {content: \"\";width: 100%;border-bottom: 1px solid gray;flex-grow: 1;}#sk-container-id-3 div.sk-label:hover label.sk-toggleable__label {background-color: #d4ebff;}#sk-container-id-3 div.sk-serial::before {content: \"\";position: absolute;border-left: 1px solid gray;box-sizing: border-box;top: 0;bottom: 0;left: 50%;z-index: 0;}#sk-container-id-3 div.sk-serial {display: flex;flex-direction: column;align-items: center;background-color: white;padding-right: 0.2em;padding-left: 0.2em;position: relative;}#sk-container-id-3 div.sk-item {position: relative;z-index: 1;}#sk-container-id-3 div.sk-parallel {display: flex;align-items: stretch;justify-content: center;background-color: white;position: relative;}#sk-container-id-3 div.sk-item::before, #sk-container-id-3 div.sk-parallel-item::before {content: \"\";position: absolute;border-left: 1px solid gray;box-sizing: border-box;top: 0;bottom: 0;left: 50%;z-index: -1;}#sk-container-id-3 div.sk-parallel-item {display: flex;flex-direction: column;z-index: 1;position: relative;background-color: white;}#sk-container-id-3 div.sk-parallel-item:first-child::after {align-self: flex-end;width: 50%;}#sk-container-id-3 div.sk-parallel-item:last-child::after {align-self: flex-start;width: 50%;}#sk-container-id-3 div.sk-parallel-item:only-child::after {width: 0;}#sk-container-id-3 div.sk-dashed-wrapped {border: 1px dashed gray;margin: 0 0.4em 0.5em 0.4em;box-sizing: border-box;padding-bottom: 0.4em;background-color: white;}#sk-container-id-3 div.sk-label label {font-family: monospace;font-weight: bold;display: inline-block;line-height: 1.2em;}#sk-container-id-3 div.sk-label-container {text-align: center;}#sk-container-id-3 div.sk-container {/* jupyter's `normalize.less` sets `[hidden] { display: none; }` but bootstrap.min.css set `[hidden] { display: none !important; }` so we also need the `!important` here to be able to override the default hidden behavior on the sphinx rendered scikit-learn.org. See: https://github.com/scikit-learn/scikit-learn/issues/21755 */display: inline-block !important;position: relative;}#sk-container-id-3 div.sk-text-repr-fallback {display: none;}</style><div id=\"sk-container-id-3\" class=\"sk-top-container\"><div class=\"sk-text-repr-fallback\"><pre>Pipeline(steps=[(&#x27;ct&#x27;,\n",
       "                 ColumnTransformer(transformers=[(&#x27;num&#x27;,\n",
       "                                                  Pipeline(steps=[(&#x27;scaler&#x27;,\n",
       "                                                                   StandardScaler())]),\n",
       "                                                  Index([&#x27;DISTANCE&#x27;, &#x27;DAYOFWEEK&#x27;, &#x27;MONTH&#x27;, &#x27;ORG_DEL_MEAN_RNK&#x27;,\n",
       "       &#x27;DES_DEL_MEAN_RNK&#x27;, &#x27;RANK_TOTAL_FL&#x27;, &#x27;TIME_OF_DAY&#x27;, &#x27;CARRIER_DELAY_FLG&#x27;,\n",
       "       &#x27;WEATHER_DELAY_FLG&#x27;, &#x27;NAS_DELAY_FLG&#x27;, &#x27;SECURITY_DELAY_FLG&#x27;,\n",
       "       &#x27;LATE_AIRCRAFT_DELAY_FLG&#x27;],\n",
       "      dtype=&#x27;object&#x27;)),\n",
       "                                                 (&#x27;cat&#x27;,\n",
       "                                                  Pipeline(steps=[(&#x27;onehot&#x27;,\n",
       "                                                                   OneHotEncoder(handle_unknown=&#x27;ignore&#x27;))]),\n",
       "                                                  Index([&#x27;OP_UNIQUE_CARRIER&#x27;], dtype=&#x27;object&#x27;))])),\n",
       "                (&#x27;scaler&#x27;, StandardScaler()),\n",
       "                (&#x27;lr&#x27;, RandomForestClassifier(random_state=28))])</pre><b>In a Jupyter environment, please rerun this cell to show the HTML representation or trust the notebook. <br />On GitHub, the HTML representation is unable to render, please try loading this page with nbviewer.org.</b></div><div class=\"sk-container\" hidden><div class=\"sk-item sk-dashed-wrapped\"><div class=\"sk-label-container\"><div class=\"sk-label sk-toggleable\"><input class=\"sk-toggleable__control sk-hidden--visually\" id=\"sk-estimator-id-17\" type=\"checkbox\" ><label for=\"sk-estimator-id-17\" class=\"sk-toggleable__label sk-toggleable__label-arrow\">Pipeline</label><div class=\"sk-toggleable__content\"><pre>Pipeline(steps=[(&#x27;ct&#x27;,\n",
       "                 ColumnTransformer(transformers=[(&#x27;num&#x27;,\n",
       "                                                  Pipeline(steps=[(&#x27;scaler&#x27;,\n",
       "                                                                   StandardScaler())]),\n",
       "                                                  Index([&#x27;DISTANCE&#x27;, &#x27;DAYOFWEEK&#x27;, &#x27;MONTH&#x27;, &#x27;ORG_DEL_MEAN_RNK&#x27;,\n",
       "       &#x27;DES_DEL_MEAN_RNK&#x27;, &#x27;RANK_TOTAL_FL&#x27;, &#x27;TIME_OF_DAY&#x27;, &#x27;CARRIER_DELAY_FLG&#x27;,\n",
       "       &#x27;WEATHER_DELAY_FLG&#x27;, &#x27;NAS_DELAY_FLG&#x27;, &#x27;SECURITY_DELAY_FLG&#x27;,\n",
       "       &#x27;LATE_AIRCRAFT_DELAY_FLG&#x27;],\n",
       "      dtype=&#x27;object&#x27;)),\n",
       "                                                 (&#x27;cat&#x27;,\n",
       "                                                  Pipeline(steps=[(&#x27;onehot&#x27;,\n",
       "                                                                   OneHotEncoder(handle_unknown=&#x27;ignore&#x27;))]),\n",
       "                                                  Index([&#x27;OP_UNIQUE_CARRIER&#x27;], dtype=&#x27;object&#x27;))])),\n",
       "                (&#x27;scaler&#x27;, StandardScaler()),\n",
       "                (&#x27;lr&#x27;, RandomForestClassifier(random_state=28))])</pre></div></div></div><div class=\"sk-serial\"><div class=\"sk-item sk-dashed-wrapped\"><div class=\"sk-label-container\"><div class=\"sk-label sk-toggleable\"><input class=\"sk-toggleable__control sk-hidden--visually\" id=\"sk-estimator-id-18\" type=\"checkbox\" ><label for=\"sk-estimator-id-18\" class=\"sk-toggleable__label sk-toggleable__label-arrow\">ct: ColumnTransformer</label><div class=\"sk-toggleable__content\"><pre>ColumnTransformer(transformers=[(&#x27;num&#x27;,\n",
       "                                 Pipeline(steps=[(&#x27;scaler&#x27;, StandardScaler())]),\n",
       "                                 Index([&#x27;DISTANCE&#x27;, &#x27;DAYOFWEEK&#x27;, &#x27;MONTH&#x27;, &#x27;ORG_DEL_MEAN_RNK&#x27;,\n",
       "       &#x27;DES_DEL_MEAN_RNK&#x27;, &#x27;RANK_TOTAL_FL&#x27;, &#x27;TIME_OF_DAY&#x27;, &#x27;CARRIER_DELAY_FLG&#x27;,\n",
       "       &#x27;WEATHER_DELAY_FLG&#x27;, &#x27;NAS_DELAY_FLG&#x27;, &#x27;SECURITY_DELAY_FLG&#x27;,\n",
       "       &#x27;LATE_AIRCRAFT_DELAY_FLG&#x27;],\n",
       "      dtype=&#x27;object&#x27;)),\n",
       "                                (&#x27;cat&#x27;,\n",
       "                                 Pipeline(steps=[(&#x27;onehot&#x27;,\n",
       "                                                  OneHotEncoder(handle_unknown=&#x27;ignore&#x27;))]),\n",
       "                                 Index([&#x27;OP_UNIQUE_CARRIER&#x27;], dtype=&#x27;object&#x27;))])</pre></div></div></div><div class=\"sk-parallel\"><div class=\"sk-parallel-item\"><div class=\"sk-item\"><div class=\"sk-label-container\"><div class=\"sk-label sk-toggleable\"><input class=\"sk-toggleable__control sk-hidden--visually\" id=\"sk-estimator-id-19\" type=\"checkbox\" ><label for=\"sk-estimator-id-19\" class=\"sk-toggleable__label sk-toggleable__label-arrow\">num</label><div class=\"sk-toggleable__content\"><pre>Index([&#x27;DISTANCE&#x27;, &#x27;DAYOFWEEK&#x27;, &#x27;MONTH&#x27;, &#x27;ORG_DEL_MEAN_RNK&#x27;,\n",
       "       &#x27;DES_DEL_MEAN_RNK&#x27;, &#x27;RANK_TOTAL_FL&#x27;, &#x27;TIME_OF_DAY&#x27;, &#x27;CARRIER_DELAY_FLG&#x27;,\n",
       "       &#x27;WEATHER_DELAY_FLG&#x27;, &#x27;NAS_DELAY_FLG&#x27;, &#x27;SECURITY_DELAY_FLG&#x27;,\n",
       "       &#x27;LATE_AIRCRAFT_DELAY_FLG&#x27;],\n",
       "      dtype=&#x27;object&#x27;)</pre></div></div></div><div class=\"sk-serial\"><div class=\"sk-item\"><div class=\"sk-serial\"><div class=\"sk-item\"><div class=\"sk-estimator sk-toggleable\"><input class=\"sk-toggleable__control sk-hidden--visually\" id=\"sk-estimator-id-20\" type=\"checkbox\" ><label for=\"sk-estimator-id-20\" class=\"sk-toggleable__label sk-toggleable__label-arrow\">StandardScaler</label><div class=\"sk-toggleable__content\"><pre>StandardScaler()</pre></div></div></div></div></div></div></div></div><div class=\"sk-parallel-item\"><div class=\"sk-item\"><div class=\"sk-label-container\"><div class=\"sk-label sk-toggleable\"><input class=\"sk-toggleable__control sk-hidden--visually\" id=\"sk-estimator-id-21\" type=\"checkbox\" ><label for=\"sk-estimator-id-21\" class=\"sk-toggleable__label sk-toggleable__label-arrow\">cat</label><div class=\"sk-toggleable__content\"><pre>Index([&#x27;OP_UNIQUE_CARRIER&#x27;], dtype=&#x27;object&#x27;)</pre></div></div></div><div class=\"sk-serial\"><div class=\"sk-item\"><div class=\"sk-serial\"><div class=\"sk-item\"><div class=\"sk-estimator sk-toggleable\"><input class=\"sk-toggleable__control sk-hidden--visually\" id=\"sk-estimator-id-22\" type=\"checkbox\" ><label for=\"sk-estimator-id-22\" class=\"sk-toggleable__label sk-toggleable__label-arrow\">OneHotEncoder</label><div class=\"sk-toggleable__content\"><pre>OneHotEncoder(handle_unknown=&#x27;ignore&#x27;)</pre></div></div></div></div></div></div></div></div></div></div><div class=\"sk-item\"><div class=\"sk-estimator sk-toggleable\"><input class=\"sk-toggleable__control sk-hidden--visually\" id=\"sk-estimator-id-23\" type=\"checkbox\" ><label for=\"sk-estimator-id-23\" class=\"sk-toggleable__label sk-toggleable__label-arrow\">StandardScaler</label><div class=\"sk-toggleable__content\"><pre>StandardScaler()</pre></div></div></div><div class=\"sk-item\"><div class=\"sk-estimator sk-toggleable\"><input class=\"sk-toggleable__control sk-hidden--visually\" id=\"sk-estimator-id-24\" type=\"checkbox\" ><label for=\"sk-estimator-id-24\" class=\"sk-toggleable__label sk-toggleable__label-arrow\">RandomForestClassifier</label><div class=\"sk-toggleable__content\"><pre>RandomForestClassifier(random_state=28)</pre></div></div></div></div></div></div></div>"
      ],
      "text/plain": [
       "Pipeline(steps=[('ct',\n",
       "                 ColumnTransformer(transformers=[('num',\n",
       "                                                  Pipeline(steps=[('scaler',\n",
       "                                                                   StandardScaler())]),\n",
       "                                                  Index(['DISTANCE', 'DAYOFWEEK', 'MONTH', 'ORG_DEL_MEAN_RNK',\n",
       "       'DES_DEL_MEAN_RNK', 'RANK_TOTAL_FL', 'TIME_OF_DAY', 'CARRIER_DELAY_FLG',\n",
       "       'WEATHER_DELAY_FLG', 'NAS_DELAY_FLG', 'SECURITY_DELAY_FLG',\n",
       "       'LATE_AIRCRAFT_DELAY_FLG'],\n",
       "      dtype='object')),\n",
       "                                                 ('cat',\n",
       "                                                  Pipeline(steps=[('onehot',\n",
       "                                                                   OneHotEncoder(handle_unknown='ignore'))]),\n",
       "                                                  Index(['OP_UNIQUE_CARRIER'], dtype='object'))])),\n",
       "                ('scaler', StandardScaler()),\n",
       "                ('lr', RandomForestClassifier(random_state=28))])"
      ]
     },
     "execution_count": 103,
     "metadata": {},
     "output_type": "execute_result"
    }
   ],
   "source": [
    "# 'RandomForrest'\n",
    "\n",
    "pipe_final = Pipeline([\n",
    "                       (\"ct\", ct),\n",
    "                       (\"scaler\", pre.StandardScaler()),\n",
    "                       (\"lr\", RandomForestClassifier(random_state = 28))\n",
    "])\n",
    "\n",
    "pipe_final.fit(X_train, y_train)\n",
    "#Skip the CV part\n",
    "#print(round(mdl.cross_val_score(pipe_final, X_train, y_train, cv=5).mean(),2))"
   ]
  },
  {
   "cell_type": "code",
   "execution_count": 104,
   "id": "88989d63",
   "metadata": {
    "scrolled": false
   },
   "outputs": [
    {
     "name": "stdout",
     "output_type": "stream",
     "text": [
      "roc_auc_score: 0.8746\n",
      "\n",
      "              precision    recall  f1-score   support\n",
      "\n",
      "           0     0.9400    0.9943    0.9664    790101\n",
      "           1     0.9716    0.7550    0.8497    204576\n",
      "\n",
      "    accuracy                         0.9451    994677\n",
      "   macro avg     0.9558    0.8746    0.9081    994677\n",
      "weighted avg     0.9465    0.9451    0.9424    994677\n",
      "\n"
     ]
    }
   ],
   "source": [
    "# get  predictions\n",
    "\n",
    "y_pred = pipe_final.predict(X_test)\n",
    "print(\"roc_auc_score:\", round(met.roc_auc_score(y_test, y_pred),4))\n",
    "print()\n",
    "print(met.classification_report(y_test, y_pred,digits=4))"
   ]
  },
  {
   "cell_type": "markdown",
   "id": "8e3d5b41",
   "metadata": {},
   "source": [
    "## 5.4 Logistic Regression"
   ]
  },
  {
   "cell_type": "code",
   "execution_count": 105,
   "id": "3bec74ad",
   "metadata": {},
   "outputs": [
    {
     "data": {
      "text/html": [
       "<style>#sk-container-id-4 {color: black;background-color: white;}#sk-container-id-4 pre{padding: 0;}#sk-container-id-4 div.sk-toggleable {background-color: white;}#sk-container-id-4 label.sk-toggleable__label {cursor: pointer;display: block;width: 100%;margin-bottom: 0;padding: 0.3em;box-sizing: border-box;text-align: center;}#sk-container-id-4 label.sk-toggleable__label-arrow:before {content: \"▸\";float: left;margin-right: 0.25em;color: #696969;}#sk-container-id-4 label.sk-toggleable__label-arrow:hover:before {color: black;}#sk-container-id-4 div.sk-estimator:hover label.sk-toggleable__label-arrow:before {color: black;}#sk-container-id-4 div.sk-toggleable__content {max-height: 0;max-width: 0;overflow: hidden;text-align: left;background-color: #f0f8ff;}#sk-container-id-4 div.sk-toggleable__content pre {margin: 0.2em;color: black;border-radius: 0.25em;background-color: #f0f8ff;}#sk-container-id-4 input.sk-toggleable__control:checked~div.sk-toggleable__content {max-height: 200px;max-width: 100%;overflow: auto;}#sk-container-id-4 input.sk-toggleable__control:checked~label.sk-toggleable__label-arrow:before {content: \"▾\";}#sk-container-id-4 div.sk-estimator input.sk-toggleable__control:checked~label.sk-toggleable__label {background-color: #d4ebff;}#sk-container-id-4 div.sk-label input.sk-toggleable__control:checked~label.sk-toggleable__label {background-color: #d4ebff;}#sk-container-id-4 input.sk-hidden--visually {border: 0;clip: rect(1px 1px 1px 1px);clip: rect(1px, 1px, 1px, 1px);height: 1px;margin: -1px;overflow: hidden;padding: 0;position: absolute;width: 1px;}#sk-container-id-4 div.sk-estimator {font-family: monospace;background-color: #f0f8ff;border: 1px dotted black;border-radius: 0.25em;box-sizing: border-box;margin-bottom: 0.5em;}#sk-container-id-4 div.sk-estimator:hover {background-color: #d4ebff;}#sk-container-id-4 div.sk-parallel-item::after {content: \"\";width: 100%;border-bottom: 1px solid gray;flex-grow: 1;}#sk-container-id-4 div.sk-label:hover label.sk-toggleable__label {background-color: #d4ebff;}#sk-container-id-4 div.sk-serial::before {content: \"\";position: absolute;border-left: 1px solid gray;box-sizing: border-box;top: 0;bottom: 0;left: 50%;z-index: 0;}#sk-container-id-4 div.sk-serial {display: flex;flex-direction: column;align-items: center;background-color: white;padding-right: 0.2em;padding-left: 0.2em;position: relative;}#sk-container-id-4 div.sk-item {position: relative;z-index: 1;}#sk-container-id-4 div.sk-parallel {display: flex;align-items: stretch;justify-content: center;background-color: white;position: relative;}#sk-container-id-4 div.sk-item::before, #sk-container-id-4 div.sk-parallel-item::before {content: \"\";position: absolute;border-left: 1px solid gray;box-sizing: border-box;top: 0;bottom: 0;left: 50%;z-index: -1;}#sk-container-id-4 div.sk-parallel-item {display: flex;flex-direction: column;z-index: 1;position: relative;background-color: white;}#sk-container-id-4 div.sk-parallel-item:first-child::after {align-self: flex-end;width: 50%;}#sk-container-id-4 div.sk-parallel-item:last-child::after {align-self: flex-start;width: 50%;}#sk-container-id-4 div.sk-parallel-item:only-child::after {width: 0;}#sk-container-id-4 div.sk-dashed-wrapped {border: 1px dashed gray;margin: 0 0.4em 0.5em 0.4em;box-sizing: border-box;padding-bottom: 0.4em;background-color: white;}#sk-container-id-4 div.sk-label label {font-family: monospace;font-weight: bold;display: inline-block;line-height: 1.2em;}#sk-container-id-4 div.sk-label-container {text-align: center;}#sk-container-id-4 div.sk-container {/* jupyter's `normalize.less` sets `[hidden] { display: none; }` but bootstrap.min.css set `[hidden] { display: none !important; }` so we also need the `!important` here to be able to override the default hidden behavior on the sphinx rendered scikit-learn.org. See: https://github.com/scikit-learn/scikit-learn/issues/21755 */display: inline-block !important;position: relative;}#sk-container-id-4 div.sk-text-repr-fallback {display: none;}</style><div id=\"sk-container-id-4\" class=\"sk-top-container\"><div class=\"sk-text-repr-fallback\"><pre>Pipeline(steps=[(&#x27;ct&#x27;,\n",
       "                 ColumnTransformer(transformers=[(&#x27;num&#x27;,\n",
       "                                                  Pipeline(steps=[(&#x27;scaler&#x27;,\n",
       "                                                                   StandardScaler())]),\n",
       "                                                  Index([&#x27;DISTANCE&#x27;, &#x27;DAYOFWEEK&#x27;, &#x27;MONTH&#x27;, &#x27;ORG_DEL_MEAN_RNK&#x27;,\n",
       "       &#x27;DES_DEL_MEAN_RNK&#x27;, &#x27;RANK_TOTAL_FL&#x27;, &#x27;TIME_OF_DAY&#x27;, &#x27;CARRIER_DELAY_FLG&#x27;,\n",
       "       &#x27;WEATHER_DELAY_FLG&#x27;, &#x27;NAS_DELAY_FLG&#x27;, &#x27;SECURITY_DELAY_FLG&#x27;,\n",
       "       &#x27;LATE_AIRCRAFT_DELAY_FLG&#x27;],\n",
       "      dtype=&#x27;object&#x27;)),\n",
       "                                                 (&#x27;cat&#x27;,\n",
       "                                                  Pipeline(steps=[(&#x27;onehot&#x27;,\n",
       "                                                                   OneHotEncoder(handle_unknown=&#x27;ignore&#x27;))]),\n",
       "                                                  Index([&#x27;OP_UNIQUE_CARRIER&#x27;], dtype=&#x27;object&#x27;))])),\n",
       "                (&#x27;scaler&#x27;, StandardScaler()),\n",
       "                (&#x27;lr&#x27;, LogisticRegression(random_state=28))])</pre><b>In a Jupyter environment, please rerun this cell to show the HTML representation or trust the notebook. <br />On GitHub, the HTML representation is unable to render, please try loading this page with nbviewer.org.</b></div><div class=\"sk-container\" hidden><div class=\"sk-item sk-dashed-wrapped\"><div class=\"sk-label-container\"><div class=\"sk-label sk-toggleable\"><input class=\"sk-toggleable__control sk-hidden--visually\" id=\"sk-estimator-id-25\" type=\"checkbox\" ><label for=\"sk-estimator-id-25\" class=\"sk-toggleable__label sk-toggleable__label-arrow\">Pipeline</label><div class=\"sk-toggleable__content\"><pre>Pipeline(steps=[(&#x27;ct&#x27;,\n",
       "                 ColumnTransformer(transformers=[(&#x27;num&#x27;,\n",
       "                                                  Pipeline(steps=[(&#x27;scaler&#x27;,\n",
       "                                                                   StandardScaler())]),\n",
       "                                                  Index([&#x27;DISTANCE&#x27;, &#x27;DAYOFWEEK&#x27;, &#x27;MONTH&#x27;, &#x27;ORG_DEL_MEAN_RNK&#x27;,\n",
       "       &#x27;DES_DEL_MEAN_RNK&#x27;, &#x27;RANK_TOTAL_FL&#x27;, &#x27;TIME_OF_DAY&#x27;, &#x27;CARRIER_DELAY_FLG&#x27;,\n",
       "       &#x27;WEATHER_DELAY_FLG&#x27;, &#x27;NAS_DELAY_FLG&#x27;, &#x27;SECURITY_DELAY_FLG&#x27;,\n",
       "       &#x27;LATE_AIRCRAFT_DELAY_FLG&#x27;],\n",
       "      dtype=&#x27;object&#x27;)),\n",
       "                                                 (&#x27;cat&#x27;,\n",
       "                                                  Pipeline(steps=[(&#x27;onehot&#x27;,\n",
       "                                                                   OneHotEncoder(handle_unknown=&#x27;ignore&#x27;))]),\n",
       "                                                  Index([&#x27;OP_UNIQUE_CARRIER&#x27;], dtype=&#x27;object&#x27;))])),\n",
       "                (&#x27;scaler&#x27;, StandardScaler()),\n",
       "                (&#x27;lr&#x27;, LogisticRegression(random_state=28))])</pre></div></div></div><div class=\"sk-serial\"><div class=\"sk-item sk-dashed-wrapped\"><div class=\"sk-label-container\"><div class=\"sk-label sk-toggleable\"><input class=\"sk-toggleable__control sk-hidden--visually\" id=\"sk-estimator-id-26\" type=\"checkbox\" ><label for=\"sk-estimator-id-26\" class=\"sk-toggleable__label sk-toggleable__label-arrow\">ct: ColumnTransformer</label><div class=\"sk-toggleable__content\"><pre>ColumnTransformer(transformers=[(&#x27;num&#x27;,\n",
       "                                 Pipeline(steps=[(&#x27;scaler&#x27;, StandardScaler())]),\n",
       "                                 Index([&#x27;DISTANCE&#x27;, &#x27;DAYOFWEEK&#x27;, &#x27;MONTH&#x27;, &#x27;ORG_DEL_MEAN_RNK&#x27;,\n",
       "       &#x27;DES_DEL_MEAN_RNK&#x27;, &#x27;RANK_TOTAL_FL&#x27;, &#x27;TIME_OF_DAY&#x27;, &#x27;CARRIER_DELAY_FLG&#x27;,\n",
       "       &#x27;WEATHER_DELAY_FLG&#x27;, &#x27;NAS_DELAY_FLG&#x27;, &#x27;SECURITY_DELAY_FLG&#x27;,\n",
       "       &#x27;LATE_AIRCRAFT_DELAY_FLG&#x27;],\n",
       "      dtype=&#x27;object&#x27;)),\n",
       "                                (&#x27;cat&#x27;,\n",
       "                                 Pipeline(steps=[(&#x27;onehot&#x27;,\n",
       "                                                  OneHotEncoder(handle_unknown=&#x27;ignore&#x27;))]),\n",
       "                                 Index([&#x27;OP_UNIQUE_CARRIER&#x27;], dtype=&#x27;object&#x27;))])</pre></div></div></div><div class=\"sk-parallel\"><div class=\"sk-parallel-item\"><div class=\"sk-item\"><div class=\"sk-label-container\"><div class=\"sk-label sk-toggleable\"><input class=\"sk-toggleable__control sk-hidden--visually\" id=\"sk-estimator-id-27\" type=\"checkbox\" ><label for=\"sk-estimator-id-27\" class=\"sk-toggleable__label sk-toggleable__label-arrow\">num</label><div class=\"sk-toggleable__content\"><pre>Index([&#x27;DISTANCE&#x27;, &#x27;DAYOFWEEK&#x27;, &#x27;MONTH&#x27;, &#x27;ORG_DEL_MEAN_RNK&#x27;,\n",
       "       &#x27;DES_DEL_MEAN_RNK&#x27;, &#x27;RANK_TOTAL_FL&#x27;, &#x27;TIME_OF_DAY&#x27;, &#x27;CARRIER_DELAY_FLG&#x27;,\n",
       "       &#x27;WEATHER_DELAY_FLG&#x27;, &#x27;NAS_DELAY_FLG&#x27;, &#x27;SECURITY_DELAY_FLG&#x27;,\n",
       "       &#x27;LATE_AIRCRAFT_DELAY_FLG&#x27;],\n",
       "      dtype=&#x27;object&#x27;)</pre></div></div></div><div class=\"sk-serial\"><div class=\"sk-item\"><div class=\"sk-serial\"><div class=\"sk-item\"><div class=\"sk-estimator sk-toggleable\"><input class=\"sk-toggleable__control sk-hidden--visually\" id=\"sk-estimator-id-28\" type=\"checkbox\" ><label for=\"sk-estimator-id-28\" class=\"sk-toggleable__label sk-toggleable__label-arrow\">StandardScaler</label><div class=\"sk-toggleable__content\"><pre>StandardScaler()</pre></div></div></div></div></div></div></div></div><div class=\"sk-parallel-item\"><div class=\"sk-item\"><div class=\"sk-label-container\"><div class=\"sk-label sk-toggleable\"><input class=\"sk-toggleable__control sk-hidden--visually\" id=\"sk-estimator-id-29\" type=\"checkbox\" ><label for=\"sk-estimator-id-29\" class=\"sk-toggleable__label sk-toggleable__label-arrow\">cat</label><div class=\"sk-toggleable__content\"><pre>Index([&#x27;OP_UNIQUE_CARRIER&#x27;], dtype=&#x27;object&#x27;)</pre></div></div></div><div class=\"sk-serial\"><div class=\"sk-item\"><div class=\"sk-serial\"><div class=\"sk-item\"><div class=\"sk-estimator sk-toggleable\"><input class=\"sk-toggleable__control sk-hidden--visually\" id=\"sk-estimator-id-30\" type=\"checkbox\" ><label for=\"sk-estimator-id-30\" class=\"sk-toggleable__label sk-toggleable__label-arrow\">OneHotEncoder</label><div class=\"sk-toggleable__content\"><pre>OneHotEncoder(handle_unknown=&#x27;ignore&#x27;)</pre></div></div></div></div></div></div></div></div></div></div><div class=\"sk-item\"><div class=\"sk-estimator sk-toggleable\"><input class=\"sk-toggleable__control sk-hidden--visually\" id=\"sk-estimator-id-31\" type=\"checkbox\" ><label for=\"sk-estimator-id-31\" class=\"sk-toggleable__label sk-toggleable__label-arrow\">StandardScaler</label><div class=\"sk-toggleable__content\"><pre>StandardScaler()</pre></div></div></div><div class=\"sk-item\"><div class=\"sk-estimator sk-toggleable\"><input class=\"sk-toggleable__control sk-hidden--visually\" id=\"sk-estimator-id-32\" type=\"checkbox\" ><label for=\"sk-estimator-id-32\" class=\"sk-toggleable__label sk-toggleable__label-arrow\">LogisticRegression</label><div class=\"sk-toggleable__content\"><pre>LogisticRegression(random_state=28)</pre></div></div></div></div></div></div></div>"
      ],
      "text/plain": [
       "Pipeline(steps=[('ct',\n",
       "                 ColumnTransformer(transformers=[('num',\n",
       "                                                  Pipeline(steps=[('scaler',\n",
       "                                                                   StandardScaler())]),\n",
       "                                                  Index(['DISTANCE', 'DAYOFWEEK', 'MONTH', 'ORG_DEL_MEAN_RNK',\n",
       "       'DES_DEL_MEAN_RNK', 'RANK_TOTAL_FL', 'TIME_OF_DAY', 'CARRIER_DELAY_FLG',\n",
       "       'WEATHER_DELAY_FLG', 'NAS_DELAY_FLG', 'SECURITY_DELAY_FLG',\n",
       "       'LATE_AIRCRAFT_DELAY_FLG'],\n",
       "      dtype='object')),\n",
       "                                                 ('cat',\n",
       "                                                  Pipeline(steps=[('onehot',\n",
       "                                                                   OneHotEncoder(handle_unknown='ignore'))]),\n",
       "                                                  Index(['OP_UNIQUE_CARRIER'], dtype='object'))])),\n",
       "                ('scaler', StandardScaler()),\n",
       "                ('lr', LogisticRegression(random_state=28))])"
      ]
     },
     "execution_count": 105,
     "metadata": {},
     "output_type": "execute_result"
    }
   ],
   "source": [
    "# 'LogisticRegression'\n",
    "\n",
    "pipe_final = Pipeline([\n",
    "                       (\"ct\", ct),\n",
    "                       (\"scaler\", pre.StandardScaler()),\n",
    "                       (\"lr\", lin.LogisticRegression(random_state = 28))\n",
    "])\n",
    "\n",
    "pipe_final.fit(X_train, y_train)\n",
    "#Skip the CV part\n",
    "#print(round(mdl.cross_val_score(pipe_final, X_train, y_train, cv=5).mean(),2))"
   ]
  },
  {
   "cell_type": "code",
   "execution_count": 106,
   "id": "71552ef1",
   "metadata": {
    "scrolled": false
   },
   "outputs": [
    {
     "name": "stdout",
     "output_type": "stream",
     "text": [
      "roc_auc_score: 0.864\n",
      "\n",
      "              precision    recall  f1-score   support\n",
      "\n",
      "           0     0.9366    0.9858    0.9606    790101\n",
      "           1     0.9312    0.7422    0.8260    204576\n",
      "\n",
      "    accuracy                         0.9357    994677\n",
      "   macro avg     0.9339    0.8640    0.8933    994677\n",
      "weighted avg     0.9355    0.9357    0.9329    994677\n",
      "\n"
     ]
    }
   ],
   "source": [
    "# get  predictions\n",
    "\n",
    "y_pred = pipe_final.predict(X_test)\n",
    "print(\"roc_auc_score:\", round(met.roc_auc_score(y_test, y_pred),4))\n",
    "print()\n",
    "print(met.classification_report(y_test, y_pred,digits=4))\n"
   ]
  },
  {
   "cell_type": "markdown",
   "id": "a1e7442a",
   "metadata": {},
   "source": [
    "## 5.5 Compare Models"
   ]
  },
  {
   "cell_type": "code",
   "execution_count": 107,
   "id": "4820b7ba",
   "metadata": {},
   "outputs": [
    {
     "data": {
      "text/html": [
       "<div>\n",
       "<style scoped>\n",
       "    .dataframe tbody tr th:only-of-type {\n",
       "        vertical-align: middle;\n",
       "    }\n",
       "\n",
       "    .dataframe tbody tr th {\n",
       "        vertical-align: top;\n",
       "    }\n",
       "\n",
       "    .dataframe thead th {\n",
       "        text-align: right;\n",
       "    }\n",
       "</style>\n",
       "<table border=\"1\" class=\"dataframe\">\n",
       "  <thead>\n",
       "    <tr style=\"text-align: right;\">\n",
       "      <th></th>\n",
       "      <th>Model</th>\n",
       "      <th>AUC</th>\n",
       "      <th>Accuracy</th>\n",
       "      <th>Precision</th>\n",
       "      <th>Recall</th>\n",
       "      <th>f1-score</th>\n",
       "    </tr>\n",
       "  </thead>\n",
       "  <tbody>\n",
       "    <tr>\n",
       "      <th>0</th>\n",
       "      <td>XGBoost</td>\n",
       "      <td>0.8763</td>\n",
       "      <td>0.9457</td>\n",
       "      <td>0.9717</td>\n",
       "      <td>0.7583</td>\n",
       "      <td>0.8518</td>\n",
       "    </tr>\n",
       "    <tr>\n",
       "      <th>1</th>\n",
       "      <td>LGBM</td>\n",
       "      <td>0.8761</td>\n",
       "      <td>0.9458</td>\n",
       "      <td>0.9723</td>\n",
       "      <td>0.7578</td>\n",
       "      <td>0.8518</td>\n",
       "    </tr>\n",
       "    <tr>\n",
       "      <th>2</th>\n",
       "      <td>Random Forrest</td>\n",
       "      <td>0.8746</td>\n",
       "      <td>0.9451</td>\n",
       "      <td>0.9716</td>\n",
       "      <td>0.7550</td>\n",
       "      <td>0.8497</td>\n",
       "    </tr>\n",
       "    <tr>\n",
       "      <th>3</th>\n",
       "      <td>Logistic Regression</td>\n",
       "      <td>0.8640</td>\n",
       "      <td>0.9357</td>\n",
       "      <td>0.9312</td>\n",
       "      <td>0.7422</td>\n",
       "      <td>0.8260</td>\n",
       "    </tr>\n",
       "  </tbody>\n",
       "</table>\n",
       "</div>"
      ],
      "text/plain": [
       "                 Model     AUC  Accuracy  Precision  Recall  f1-score\n",
       "0              XGBoost  0.8763    0.9457     0.9717  0.7583    0.8518\n",
       "1                 LGBM  0.8761    0.9458     0.9723  0.7578    0.8518\n",
       "2       Random Forrest  0.8746    0.9451     0.9716  0.7550    0.8497\n",
       "3  Logistic Regression  0.8640    0.9357     0.9312  0.7422    0.8260"
      ]
     },
     "execution_count": 107,
     "metadata": {},
     "output_type": "execute_result"
    }
   ],
   "source": [
    "# evaluation results\n",
    "\n",
    "d = {'Model': [\"XGBoost\", \"LGBM\", \"Random Forrest\", \"Logistic Regression\"], \n",
    "'AUC':      [0.8763,0.8761,0.8746,0.864],\n",
    "'Accuracy': [0.9457,0.9458,0.9451,0.9357], \n",
    "'Precision':[0.9717,0.9723,0.9716,0.9312],\n",
    "'Recall':   [0.7583,0.7578,0.7550,0.7422],\n",
    "'f1-score': [0.8518,0.8518,0.8497,0.8260]\n",
    "}\n",
    "eval_result = pd.DataFrame(data=d)\n",
    "eval_result"
   ]
  },
  {
   "cell_type": "markdown",
   "id": "d663b1c2",
   "metadata": {},
   "source": [
    "Actually all models have good results but XGBoost and LGBM have best scores. \n",
    "\n",
    "O ut of these two, I select LGBM because it has slightly better performance on Precision.Also, LGBM is much faster, since our dataset is large, speed can also be considered as an important criterion."
   ]
  },
  {
   "cell_type": "markdown",
   "id": "ae28f9ff",
   "metadata": {},
   "source": [
    "## 5.6 Fine Tuning\n",
    "\n",
    "My aim was to search for better parameters, but since parameter tuning takes too long, I stopped it manually. So, I skip this part."
   ]
  },
  {
   "cell_type": "code",
   "execution_count": 110,
   "id": "e434108b",
   "metadata": {},
   "outputs": [],
   "source": [
    "# # Fine Tuning\n",
    "\n",
    "# pipe_final = Pipeline([\n",
    "                       # (\"ct\", ct),\n",
    "                       # (\"scaler\", pre.StandardScaler()),\n",
    "                       # (\"lgbm\", LGBMClassifier(random_state = 28))\n",
    "# ])\n",
    "\n",
    "\n",
    "# params = [{\n",
    "    # 'lgbm__colsample_bytree': [0.7, 0.8],\n",
    "    # 'lgbm__max_depth'       : [4],\n",
    "    # 'lgbm__num_leaves'      : [10, 20],\n",
    "    # 'lgbm__reg_alpha'       : [1.1, 1.2],\n",
    "    # 'lgbm__reg_lambda'      : [1.1, 1.2],\n",
    "    # 'lgbm__min_split_gain'  : [0.3, 0.4],\n",
    "    # 'lgbm__subsample'       : [0.8, 0.9],\n",
    "    # 'lgbm__subsample_freq'  : [10, 20]\n",
    "           # }]\n",
    "\n",
    "\n",
    "# grid_search = GridSearchCV(pipe_final, param_grid = params,scoring = 'recall', cv = 2,verbose = 1, n_jobs = -1)\n",
    "# grid_search.fit(X_train, y_train)\n",
    "\n",
    "# # see best params\n",
    "# print(grid_search.best_params_)\n",
    "\n",
    "# print(\"Model: LGBM. Performance on test\")\n",
    "# y_pred_test = grid_search.best_estimator_.predict(X_test)\n",
    "# print(met.classification_report(y_test, y_pred_test,digits=4))"
   ]
  }
 ],
 "metadata": {
  "kernelspec": {
   "display_name": "Python 3 (ipykernel)",
   "language": "python",
   "name": "python3"
  },
  "language_info": {
   "codemirror_mode": {
    "name": "ipython",
    "version": 3
   },
   "file_extension": ".py",
   "mimetype": "text/x-python",
   "name": "python",
   "nbconvert_exporter": "python",
   "pygments_lexer": "ipython3",
   "version": "3.9.7"
  }
 },
 "nbformat": 4,
 "nbformat_minor": 5
}
